{
 "cells": [
  {
   "cell_type": "markdown",
   "id": "changing-omaha",
   "metadata": {},
   "source": [
    "# Movielens 영화 추천 실습\n",
    "\n",
    "추천시스템의 MNIST라고 부를만한 Movielens 데이터를 이용해서  \n",
    "영화 추천 시스템을 만들어보자.\n",
    "\n",
    "유저들이 영화의 평점을 매긴 데이터이다.\n",
    "\n",
    "별점 데이터는 대표적인 explicit 데이터이지만, 별점을 시청횟수로  \n",
    "해석해서 implicit 데이터로 간주하고 테스트해보자.\n",
    "\n",
    "또한 유저가 3점 미만으로 준 데이터는 선호하지 않는다고 가정하고 제외한다."
   ]
  },
  {
   "cell_type": "markdown",
   "id": "excess-terrorist",
   "metadata": {},
   "source": [
    "## 0. 모듈 import"
   ]
  },
  {
   "cell_type": "code",
   "execution_count": 20,
   "id": "trying-florence",
   "metadata": {},
   "outputs": [],
   "source": [
    "import os\n",
    "import numpy as np\n",
    "import pandas as pd\n",
    "\n",
    "from scipy.sparse import csr_matrix\n",
    "from implicit.als import AlternatingLeastSquares"
   ]
  },
  {
   "cell_type": "markdown",
   "id": "taken-recording",
   "metadata": {},
   "source": [
    "## 1. 데이터 준비와 전처리\n",
    "\n",
    "rating.dat 안에 Movielens 데이터를 불러오자."
   ]
  },
  {
   "cell_type": "code",
   "execution_count": 21,
   "id": "upper-input",
   "metadata": {},
   "outputs": [
    {
     "data": {
      "text/html": [
       "<div>\n",
       "<style scoped>\n",
       "    .dataframe tbody tr th:only-of-type {\n",
       "        vertical-align: middle;\n",
       "    }\n",
       "\n",
       "    .dataframe tbody tr th {\n",
       "        vertical-align: top;\n",
       "    }\n",
       "\n",
       "    .dataframe thead th {\n",
       "        text-align: right;\n",
       "    }\n",
       "</style>\n",
       "<table border=\"1\" class=\"dataframe\">\n",
       "  <thead>\n",
       "    <tr style=\"text-align: right;\">\n",
       "      <th></th>\n",
       "      <th>user_id</th>\n",
       "      <th>movie_id</th>\n",
       "      <th>rating</th>\n",
       "      <th>timestamp</th>\n",
       "    </tr>\n",
       "  </thead>\n",
       "  <tbody>\n",
       "    <tr>\n",
       "      <th>0</th>\n",
       "      <td>1</td>\n",
       "      <td>1193</td>\n",
       "      <td>5</td>\n",
       "      <td>978300760</td>\n",
       "    </tr>\n",
       "    <tr>\n",
       "      <th>1</th>\n",
       "      <td>1</td>\n",
       "      <td>661</td>\n",
       "      <td>3</td>\n",
       "      <td>978302109</td>\n",
       "    </tr>\n",
       "    <tr>\n",
       "      <th>2</th>\n",
       "      <td>1</td>\n",
       "      <td>914</td>\n",
       "      <td>3</td>\n",
       "      <td>978301968</td>\n",
       "    </tr>\n",
       "    <tr>\n",
       "      <th>3</th>\n",
       "      <td>1</td>\n",
       "      <td>3408</td>\n",
       "      <td>4</td>\n",
       "      <td>978300275</td>\n",
       "    </tr>\n",
       "    <tr>\n",
       "      <th>4</th>\n",
       "      <td>1</td>\n",
       "      <td>2355</td>\n",
       "      <td>5</td>\n",
       "      <td>978824291</td>\n",
       "    </tr>\n",
       "  </tbody>\n",
       "</table>\n",
       "</div>"
      ],
      "text/plain": [
       "   user_id  movie_id  rating  timestamp\n",
       "0        1      1193       5  978300760\n",
       "1        1       661       3  978302109\n",
       "2        1       914       3  978301968\n",
       "3        1      3408       4  978300275\n",
       "4        1      2355       5  978824291"
      ]
     },
     "execution_count": 21,
     "metadata": {},
     "output_type": "execute_result"
    }
   ],
   "source": [
    "rating_file_path=os.getenv('HOME') + '/aiffel/recommendata_iu/data/ml-1m/ratings.dat'\n",
    "ratings_cols = ['user_id', 'movie_id', 'rating', 'timestamp']\n",
    "ratings = pd.read_csv(rating_file_path, sep='::', names=ratings_cols, engine='python', encoding = \"ISO-8859-1\")\n",
    "orginal_data_size = len(ratings)\n",
    "ratings.head()"
   ]
  },
  {
   "cell_type": "markdown",
   "id": "useful-convention",
   "metadata": {},
   "source": [
    "불러온 데이터를 확인해보자."
   ]
  },
  {
   "cell_type": "code",
   "execution_count": 22,
   "id": "certified-batch",
   "metadata": {},
   "outputs": [
    {
     "name": "stdout",
     "output_type": "stream",
     "text": [
      "<class 'pandas.core.frame.DataFrame'>\n",
      "RangeIndex: 1000209 entries, 0 to 1000208\n",
      "Data columns (total 4 columns):\n",
      " #   Column     Non-Null Count    Dtype\n",
      "---  ------     --------------    -----\n",
      " 0   user_id    1000209 non-null  int64\n",
      " 1   movie_id   1000209 non-null  int64\n",
      " 2   rating     1000209 non-null  int64\n",
      " 3   timestamp  1000209 non-null  int64\n",
      "dtypes: int64(4)\n",
      "memory usage: 30.5 MB\n"
     ]
    }
   ],
   "source": [
    "ratings.info()"
   ]
  },
  {
   "cell_type": "markdown",
   "id": "sweet-visibility",
   "metadata": {},
   "source": [
    "총 1000209개의 데이터가 있고 결측치는 없다.  \n",
    "유저아이디, 영화아이디, 점수, 시간의 4개의 colume이 존재한다.\n",
    "\n",
    "위에서 말했듯이 별점을 시청횟수로 간주하고 3점이하는 버린다."
   ]
  },
  {
   "cell_type": "code",
   "execution_count": 23,
   "id": "refined-scholar",
   "metadata": {},
   "outputs": [
    {
     "name": "stdout",
     "output_type": "stream",
     "text": [
      "orginal_data_size: 1000209, filtered_data_size: 836478\n",
      "Ratio of Remaining Data is 83.63%\n"
     ]
    }
   ],
   "source": [
    "# 3점 이상만 남깁니다.\n",
    "ratings = ratings[ratings['rating']>=3]\n",
    "filtered_data_size = len(ratings)\n",
    "\n",
    "print(f'orginal_data_size: {orginal_data_size}, filtered_data_size: {filtered_data_size}')\n",
    "print(f'Ratio of Remaining Data is {filtered_data_size / orginal_data_size:.2%}')"
   ]
  },
  {
   "cell_type": "code",
   "execution_count": 24,
   "id": "divided-northeast",
   "metadata": {},
   "outputs": [
    {
     "data": {
      "text/html": [
       "<div>\n",
       "<style scoped>\n",
       "    .dataframe tbody tr th:only-of-type {\n",
       "        vertical-align: middle;\n",
       "    }\n",
       "\n",
       "    .dataframe tbody tr th {\n",
       "        vertical-align: top;\n",
       "    }\n",
       "\n",
       "    .dataframe thead th {\n",
       "        text-align: right;\n",
       "    }\n",
       "</style>\n",
       "<table border=\"1\" class=\"dataframe\">\n",
       "  <thead>\n",
       "    <tr style=\"text-align: right;\">\n",
       "      <th></th>\n",
       "      <th>user_id</th>\n",
       "      <th>movie_id</th>\n",
       "      <th>view_count</th>\n",
       "      <th>timestamp</th>\n",
       "    </tr>\n",
       "  </thead>\n",
       "  <tbody>\n",
       "    <tr>\n",
       "      <th>count</th>\n",
       "      <td>836478.000000</td>\n",
       "      <td>836478.000000</td>\n",
       "      <td>836478.000000</td>\n",
       "      <td>8.364780e+05</td>\n",
       "    </tr>\n",
       "    <tr>\n",
       "      <th>mean</th>\n",
       "      <td>3033.120626</td>\n",
       "      <td>1849.099114</td>\n",
       "      <td>3.958293</td>\n",
       "      <td>9.721628e+08</td>\n",
       "    </tr>\n",
       "    <tr>\n",
       "      <th>std</th>\n",
       "      <td>1729.255651</td>\n",
       "      <td>1091.870094</td>\n",
       "      <td>0.762280</td>\n",
       "      <td>1.206216e+07</td>\n",
       "    </tr>\n",
       "    <tr>\n",
       "      <th>min</th>\n",
       "      <td>1.000000</td>\n",
       "      <td>1.000000</td>\n",
       "      <td>3.000000</td>\n",
       "      <td>9.567039e+08</td>\n",
       "    </tr>\n",
       "    <tr>\n",
       "      <th>25%</th>\n",
       "      <td>1531.000000</td>\n",
       "      <td>1029.000000</td>\n",
       "      <td>3.000000</td>\n",
       "      <td>9.652795e+08</td>\n",
       "    </tr>\n",
       "    <tr>\n",
       "      <th>50%</th>\n",
       "      <td>3080.000000</td>\n",
       "      <td>1747.000000</td>\n",
       "      <td>4.000000</td>\n",
       "      <td>9.728388e+08</td>\n",
       "    </tr>\n",
       "    <tr>\n",
       "      <th>75%</th>\n",
       "      <td>4485.000000</td>\n",
       "      <td>2763.000000</td>\n",
       "      <td>5.000000</td>\n",
       "      <td>9.752064e+08</td>\n",
       "    </tr>\n",
       "    <tr>\n",
       "      <th>max</th>\n",
       "      <td>6040.000000</td>\n",
       "      <td>3952.000000</td>\n",
       "      <td>5.000000</td>\n",
       "      <td>1.046455e+09</td>\n",
       "    </tr>\n",
       "  </tbody>\n",
       "</table>\n",
       "</div>"
      ],
      "text/plain": [
       "             user_id       movie_id     view_count     timestamp\n",
       "count  836478.000000  836478.000000  836478.000000  8.364780e+05\n",
       "mean     3033.120626    1849.099114       3.958293  9.721628e+08\n",
       "std      1729.255651    1091.870094       0.762280  1.206216e+07\n",
       "min         1.000000       1.000000       3.000000  9.567039e+08\n",
       "25%      1531.000000    1029.000000       3.000000  9.652795e+08\n",
       "50%      3080.000000    1747.000000       4.000000  9.728388e+08\n",
       "75%      4485.000000    2763.000000       5.000000  9.752064e+08\n",
       "max      6040.000000    3952.000000       5.000000  1.046455e+09"
      ]
     },
     "execution_count": 24,
     "metadata": {},
     "output_type": "execute_result"
    }
   ],
   "source": [
    "# rating 컬럼의 이름을 count로 바꿉니다.\n",
    "ratings.rename(columns={'rating':'view_count'}, inplace=True)\n",
    "ratings.describe()"
   ]
  },
  {
   "cell_type": "markdown",
   "id": "stock-circular",
   "metadata": {},
   "source": [
    "필터링된 데이터는 836478개의 데이터가 있다.  \n",
    "\n",
    "데이터를 보면 일단 timestamp는 딱히 필요없어보인다.  \n",
    "그리고 다른 문제는 유저아이디와 영화아이디의 최소값이 1이다.  \n",
    "즉, 번호를 1번부터 세는데, 나중에 matrix에 매핑할경우,  \n",
    "인덱스는 0부터이므로 이 부분도 수정이 필요할 것 같다.\n",
    "\n",
    "그 외에도 영화가 단순히 아이디로만 나와있기 때문에 아이디와 영화타이틀을  \n",
    "연결시켜줄 데이터를 불러와서 합쳐주자."
   ]
  },
  {
   "cell_type": "code",
   "execution_count": 25,
   "id": "cross-investigator",
   "metadata": {},
   "outputs": [
    {
     "data": {
      "text/html": [
       "<div>\n",
       "<style scoped>\n",
       "    .dataframe tbody tr th:only-of-type {\n",
       "        vertical-align: middle;\n",
       "    }\n",
       "\n",
       "    .dataframe tbody tr th {\n",
       "        vertical-align: top;\n",
       "    }\n",
       "\n",
       "    .dataframe thead th {\n",
       "        text-align: right;\n",
       "    }\n",
       "</style>\n",
       "<table border=\"1\" class=\"dataframe\">\n",
       "  <thead>\n",
       "    <tr style=\"text-align: right;\">\n",
       "      <th></th>\n",
       "      <th>movie_id</th>\n",
       "      <th>title</th>\n",
       "      <th>genre</th>\n",
       "    </tr>\n",
       "  </thead>\n",
       "  <tbody>\n",
       "    <tr>\n",
       "      <th>0</th>\n",
       "      <td>1</td>\n",
       "      <td>Toy Story (1995)</td>\n",
       "      <td>Animation|Children's|Comedy</td>\n",
       "    </tr>\n",
       "    <tr>\n",
       "      <th>1</th>\n",
       "      <td>2</td>\n",
       "      <td>Jumanji (1995)</td>\n",
       "      <td>Adventure|Children's|Fantasy</td>\n",
       "    </tr>\n",
       "    <tr>\n",
       "      <th>2</th>\n",
       "      <td>3</td>\n",
       "      <td>Grumpier Old Men (1995)</td>\n",
       "      <td>Comedy|Romance</td>\n",
       "    </tr>\n",
       "    <tr>\n",
       "      <th>3</th>\n",
       "      <td>4</td>\n",
       "      <td>Waiting to Exhale (1995)</td>\n",
       "      <td>Comedy|Drama</td>\n",
       "    </tr>\n",
       "    <tr>\n",
       "      <th>4</th>\n",
       "      <td>5</td>\n",
       "      <td>Father of the Bride Part II (1995)</td>\n",
       "      <td>Comedy</td>\n",
       "    </tr>\n",
       "    <tr>\n",
       "      <th>...</th>\n",
       "      <td>...</td>\n",
       "      <td>...</td>\n",
       "      <td>...</td>\n",
       "    </tr>\n",
       "    <tr>\n",
       "      <th>3878</th>\n",
       "      <td>3948</td>\n",
       "      <td>Meet the Parents (2000)</td>\n",
       "      <td>Comedy</td>\n",
       "    </tr>\n",
       "    <tr>\n",
       "      <th>3879</th>\n",
       "      <td>3949</td>\n",
       "      <td>Requiem for a Dream (2000)</td>\n",
       "      <td>Drama</td>\n",
       "    </tr>\n",
       "    <tr>\n",
       "      <th>3880</th>\n",
       "      <td>3950</td>\n",
       "      <td>Tigerland (2000)</td>\n",
       "      <td>Drama</td>\n",
       "    </tr>\n",
       "    <tr>\n",
       "      <th>3881</th>\n",
       "      <td>3951</td>\n",
       "      <td>Two Family House (2000)</td>\n",
       "      <td>Drama</td>\n",
       "    </tr>\n",
       "    <tr>\n",
       "      <th>3882</th>\n",
       "      <td>3952</td>\n",
       "      <td>Contender, The (2000)</td>\n",
       "      <td>Drama|Thriller</td>\n",
       "    </tr>\n",
       "  </tbody>\n",
       "</table>\n",
       "<p>3883 rows × 3 columns</p>\n",
       "</div>"
      ],
      "text/plain": [
       "      movie_id                               title  \\\n",
       "0            1                    Toy Story (1995)   \n",
       "1            2                      Jumanji (1995)   \n",
       "2            3             Grumpier Old Men (1995)   \n",
       "3            4            Waiting to Exhale (1995)   \n",
       "4            5  Father of the Bride Part II (1995)   \n",
       "...        ...                                 ...   \n",
       "3878      3948             Meet the Parents (2000)   \n",
       "3879      3949          Requiem for a Dream (2000)   \n",
       "3880      3950                    Tigerland (2000)   \n",
       "3881      3951             Two Family House (2000)   \n",
       "3882      3952               Contender, The (2000)   \n",
       "\n",
       "                             genre  \n",
       "0      Animation|Children's|Comedy  \n",
       "1     Adventure|Children's|Fantasy  \n",
       "2                   Comedy|Romance  \n",
       "3                     Comedy|Drama  \n",
       "4                           Comedy  \n",
       "...                            ...  \n",
       "3878                        Comedy  \n",
       "3879                         Drama  \n",
       "3880                         Drama  \n",
       "3881                         Drama  \n",
       "3882                Drama|Thriller  \n",
       "\n",
       "[3883 rows x 3 columns]"
      ]
     },
     "execution_count": 25,
     "metadata": {},
     "output_type": "execute_result"
    }
   ],
   "source": [
    "movie_file_path=os.getenv('HOME') + '/aiffel/recommendata_iu/data/ml-1m/movies.dat'\n",
    "cols = ['movie_id', 'title', 'genre'] \n",
    "movies = pd.read_csv(movie_file_path, sep='::', names=cols, engine='python', encoding='ISO-8859-1')\n",
    "movies"
   ]
  },
  {
   "cell_type": "code",
   "execution_count": 26,
   "id": "chicken-montgomery",
   "metadata": {},
   "outputs": [
    {
     "data": {
      "text/html": [
       "<div>\n",
       "<style scoped>\n",
       "    .dataframe tbody tr th:only-of-type {\n",
       "        vertical-align: middle;\n",
       "    }\n",
       "\n",
       "    .dataframe tbody tr th {\n",
       "        vertical-align: top;\n",
       "    }\n",
       "\n",
       "    .dataframe thead th {\n",
       "        text-align: right;\n",
       "    }\n",
       "</style>\n",
       "<table border=\"1\" class=\"dataframe\">\n",
       "  <thead>\n",
       "    <tr style=\"text-align: right;\">\n",
       "      <th></th>\n",
       "      <th>user_id</th>\n",
       "      <th>title</th>\n",
       "      <th>view_count</th>\n",
       "      <th>movie_id</th>\n",
       "    </tr>\n",
       "  </thead>\n",
       "  <tbody>\n",
       "    <tr>\n",
       "      <th>0</th>\n",
       "      <td>1</td>\n",
       "      <td>Toy Story (1995)</td>\n",
       "      <td>5</td>\n",
       "      <td>1</td>\n",
       "    </tr>\n",
       "    <tr>\n",
       "      <th>1</th>\n",
       "      <td>6</td>\n",
       "      <td>Toy Story (1995)</td>\n",
       "      <td>4</td>\n",
       "      <td>1</td>\n",
       "    </tr>\n",
       "    <tr>\n",
       "      <th>2</th>\n",
       "      <td>8</td>\n",
       "      <td>Toy Story (1995)</td>\n",
       "      <td>4</td>\n",
       "      <td>1</td>\n",
       "    </tr>\n",
       "    <tr>\n",
       "      <th>3</th>\n",
       "      <td>9</td>\n",
       "      <td>Toy Story (1995)</td>\n",
       "      <td>5</td>\n",
       "      <td>1</td>\n",
       "    </tr>\n",
       "    <tr>\n",
       "      <th>4</th>\n",
       "      <td>10</td>\n",
       "      <td>Toy Story (1995)</td>\n",
       "      <td>5</td>\n",
       "      <td>1</td>\n",
       "    </tr>\n",
       "  </tbody>\n",
       "</table>\n",
       "</div>"
      ],
      "text/plain": [
       "   user_id             title  view_count  movie_id\n",
       "0        1  Toy Story (1995)           5         1\n",
       "1        6  Toy Story (1995)           4         1\n",
       "2        8  Toy Story (1995)           4         1\n",
       "3        9  Toy Story (1995)           5         1\n",
       "4       10  Toy Story (1995)           5         1"
      ]
     },
     "execution_count": 26,
     "metadata": {},
     "output_type": "execute_result"
    }
   ],
   "source": [
    "# movies와 ratings를 합쳐준다.\n",
    "data= pd.merge(movies, ratings)\n",
    "cols = [ 'user_id','title', 'view_count', 'movie_id']\n",
    "data = data[cols]\n",
    "data.head()"
   ]
  },
  {
   "cell_type": "code",
   "execution_count": 27,
   "id": "accepting-excerpt",
   "metadata": {},
   "outputs": [
    {
     "name": "stdout",
     "output_type": "stream",
     "text": [
      "movie_id column indexing OK!!\n"
     ]
    },
    {
     "data": {
      "text/html": [
       "<div>\n",
       "<style scoped>\n",
       "    .dataframe tbody tr th:only-of-type {\n",
       "        vertical-align: middle;\n",
       "    }\n",
       "\n",
       "    .dataframe tbody tr th {\n",
       "        vertical-align: top;\n",
       "    }\n",
       "\n",
       "    .dataframe thead th {\n",
       "        text-align: right;\n",
       "    }\n",
       "</style>\n",
       "<table border=\"1\" class=\"dataframe\">\n",
       "  <thead>\n",
       "    <tr style=\"text-align: right;\">\n",
       "      <th></th>\n",
       "      <th>user_id</th>\n",
       "      <th>title</th>\n",
       "      <th>view_count</th>\n",
       "      <th>movie_id</th>\n",
       "    </tr>\n",
       "  </thead>\n",
       "  <tbody>\n",
       "    <tr>\n",
       "      <th>0</th>\n",
       "      <td>1</td>\n",
       "      <td>Toy Story (1995)</td>\n",
       "      <td>5</td>\n",
       "      <td>0</td>\n",
       "    </tr>\n",
       "    <tr>\n",
       "      <th>1</th>\n",
       "      <td>6</td>\n",
       "      <td>Toy Story (1995)</td>\n",
       "      <td>4</td>\n",
       "      <td>0</td>\n",
       "    </tr>\n",
       "    <tr>\n",
       "      <th>2</th>\n",
       "      <td>8</td>\n",
       "      <td>Toy Story (1995)</td>\n",
       "      <td>4</td>\n",
       "      <td>0</td>\n",
       "    </tr>\n",
       "    <tr>\n",
       "      <th>3</th>\n",
       "      <td>9</td>\n",
       "      <td>Toy Story (1995)</td>\n",
       "      <td>5</td>\n",
       "      <td>0</td>\n",
       "    </tr>\n",
       "    <tr>\n",
       "      <th>4</th>\n",
       "      <td>10</td>\n",
       "      <td>Toy Story (1995)</td>\n",
       "      <td>5</td>\n",
       "      <td>0</td>\n",
       "    </tr>\n",
       "  </tbody>\n",
       "</table>\n",
       "</div>"
      ],
      "text/plain": [
       "   user_id             title  view_count  movie_id\n",
       "0        1  Toy Story (1995)           5         0\n",
       "1        6  Toy Story (1995)           4         0\n",
       "2        8  Toy Story (1995)           4         0\n",
       "3        9  Toy Story (1995)           5         0\n",
       "4       10  Toy Story (1995)           5         0"
      ]
     },
     "execution_count": 27,
     "metadata": {},
     "output_type": "execute_result"
    }
   ],
   "source": [
    "# 고유한 타이틀을 찾아내는 코드\n",
    "title_unique = data['title'].unique()\n",
    "\n",
    "title_to_idx = {v:k for k,v in enumerate(title_unique)}\n",
    "\n",
    "# indexing을 통해 데이터 컬럼 내 값을 바꾸는 코드\n",
    "\n",
    "# temp_title_data을 통해 title 컬럼도 동일한 방식으로 인덱싱해 줍니다. \n",
    "temp_movie_id_data = data['title'].map(title_to_idx.get).dropna()\n",
    "if len(temp_movie_id_data) == len(data):\n",
    "    print('movie_id column indexing OK!!')\n",
    "    data['movie_id'] = temp_movie_id_data\n",
    "else:\n",
    "    print('movie_id column indexing Fail!!')\n",
    "\n",
    "data.head()"
   ]
  },
  {
   "cell_type": "markdown",
   "id": "advised-sense",
   "metadata": {},
   "source": [
    "## 2. 분석"
   ]
  },
  {
   "cell_type": "code",
   "execution_count": 28,
   "id": "medium-border",
   "metadata": {},
   "outputs": [
    {
     "data": {
      "text/html": [
       "<div>\n",
       "<style scoped>\n",
       "    .dataframe tbody tr th:only-of-type {\n",
       "        vertical-align: middle;\n",
       "    }\n",
       "\n",
       "    .dataframe tbody tr th {\n",
       "        vertical-align: top;\n",
       "    }\n",
       "\n",
       "    .dataframe thead th {\n",
       "        text-align: right;\n",
       "    }\n",
       "</style>\n",
       "<table border=\"1\" class=\"dataframe\">\n",
       "  <thead>\n",
       "    <tr style=\"text-align: right;\">\n",
       "      <th></th>\n",
       "      <th>user_id</th>\n",
       "      <th>view_count</th>\n",
       "      <th>movie_id</th>\n",
       "    </tr>\n",
       "  </thead>\n",
       "  <tbody>\n",
       "    <tr>\n",
       "      <th>count</th>\n",
       "      <td>836478.000000</td>\n",
       "      <td>836478.000000</td>\n",
       "      <td>836478.000000</td>\n",
       "    </tr>\n",
       "    <tr>\n",
       "      <th>mean</th>\n",
       "      <td>3033.120626</td>\n",
       "      <td>3.958293</td>\n",
       "      <td>1680.387078</td>\n",
       "    </tr>\n",
       "    <tr>\n",
       "      <th>std</th>\n",
       "      <td>1729.255651</td>\n",
       "      <td>0.762280</td>\n",
       "      <td>992.075521</td>\n",
       "    </tr>\n",
       "    <tr>\n",
       "      <th>min</th>\n",
       "      <td>1.000000</td>\n",
       "      <td>3.000000</td>\n",
       "      <td>0.000000</td>\n",
       "    </tr>\n",
       "    <tr>\n",
       "      <th>25%</th>\n",
       "      <td>1531.000000</td>\n",
       "      <td>3.000000</td>\n",
       "      <td>942.000000</td>\n",
       "    </tr>\n",
       "    <tr>\n",
       "      <th>50%</th>\n",
       "      <td>3080.000000</td>\n",
       "      <td>4.000000</td>\n",
       "      <td>1559.000000</td>\n",
       "    </tr>\n",
       "    <tr>\n",
       "      <th>75%</th>\n",
       "      <td>4485.000000</td>\n",
       "      <td>5.000000</td>\n",
       "      <td>2508.000000</td>\n",
       "    </tr>\n",
       "    <tr>\n",
       "      <th>max</th>\n",
       "      <td>6040.000000</td>\n",
       "      <td>5.000000</td>\n",
       "      <td>3627.000000</td>\n",
       "    </tr>\n",
       "  </tbody>\n",
       "</table>\n",
       "</div>"
      ],
      "text/plain": [
       "             user_id     view_count       movie_id\n",
       "count  836478.000000  836478.000000  836478.000000\n",
       "mean     3033.120626       3.958293    1680.387078\n",
       "std      1729.255651       0.762280     992.075521\n",
       "min         1.000000       3.000000       0.000000\n",
       "25%      1531.000000       3.000000     942.000000\n",
       "50%      3080.000000       4.000000    1559.000000\n",
       "75%      4485.000000       5.000000    2508.000000\n",
       "max      6040.000000       5.000000    3627.000000"
      ]
     },
     "execution_count": 28,
     "metadata": {},
     "output_type": "execute_result"
    }
   ],
   "source": [
    "data.describe()"
   ]
  },
  {
   "cell_type": "code",
   "execution_count": 29,
   "id": "intellectual-pregnancy",
   "metadata": {},
   "outputs": [
    {
     "name": "stdout",
     "output_type": "stream",
     "text": [
      "유니크한 영화 개수 : 3628\n",
      "유니크한 사용자 수 : 6039\n"
     ]
    }
   ],
   "source": [
    "print(f\"유니크한 영화 개수 : {data['movie_id'].nunique()}\")\n",
    "print(f\"유니크한 사용자 수 : {data['user_id'].nunique()}\")"
   ]
  },
  {
   "cell_type": "code",
   "execution_count": 30,
   "id": "helpful-singapore",
   "metadata": {},
   "outputs": [
    {
     "name": "stdout",
     "output_type": "stream",
     "text": [
      "가장 인기 있는 영화 20개\n"
     ]
    },
    {
     "data": {
      "text/plain": [
       "title\n",
       "American Beauty (1999)                                   3211\n",
       "Star Wars: Episode IV - A New Hope (1977)                2910\n",
       "Star Wars: Episode V - The Empire Strikes Back (1980)    2885\n",
       "Star Wars: Episode VI - Return of the Jedi (1983)        2716\n",
       "Saving Private Ryan (1998)                               2561\n",
       "Terminator 2: Judgment Day (1991)                        2509\n",
       "Silence of the Lambs, The (1991)                         2498\n",
       "Raiders of the Lost Ark (1981)                           2473\n",
       "Back to the Future (1985)                                2460\n",
       "Matrix, The (1999)                                       2434\n",
       "Jurassic Park (1993)                                     2413\n",
       "Sixth Sense, The (1999)                                  2385\n",
       "Fargo (1996)                                             2371\n",
       "Braveheart (1995)                                        2314\n",
       "Men in Black (1997)                                      2297\n",
       "Schindler's List (1993)                                  2257\n",
       "Princess Bride, The (1987)                               2252\n",
       "Shakespeare in Love (1998)                               2213\n",
       "L.A. Confidential (1997)                                 2210\n",
       "Shawshank Redemption, The (1994)                         2194\n",
       "Name: user_id, dtype: int64"
      ]
     },
     "execution_count": 30,
     "metadata": {},
     "output_type": "execute_result"
    }
   ],
   "source": [
    "print(\"가장 인기 있는 영화 20개\")\n",
    "data.groupby('title')['user_id'].count().sort_values(ascending=False).head(20)"
   ]
  },
  {
   "cell_type": "markdown",
   "id": "therapeutic-china",
   "metadata": {},
   "source": [
    "## 3. 내가 선호하는 영화를 5가지 골라서 추가"
   ]
  },
  {
   "cell_type": "code",
   "execution_count": 31,
   "id": "worthy-argentina",
   "metadata": {},
   "outputs": [
    {
     "data": {
      "text/html": [
       "<div>\n",
       "<style scoped>\n",
       "    .dataframe tbody tr th:only-of-type {\n",
       "        vertical-align: middle;\n",
       "    }\n",
       "\n",
       "    .dataframe tbody tr th {\n",
       "        vertical-align: top;\n",
       "    }\n",
       "\n",
       "    .dataframe thead th {\n",
       "        text-align: right;\n",
       "    }\n",
       "</style>\n",
       "<table border=\"1\" class=\"dataframe\">\n",
       "  <thead>\n",
       "    <tr style=\"text-align: right;\">\n",
       "      <th></th>\n",
       "      <th>user_id</th>\n",
       "      <th>title</th>\n",
       "      <th>view_count</th>\n",
       "      <th>movie_id</th>\n",
       "    </tr>\n",
       "  </thead>\n",
       "  <tbody>\n",
       "    <tr>\n",
       "      <th>836473</th>\n",
       "      <td>5682</td>\n",
       "      <td>Contender, The (2000)</td>\n",
       "      <td>3</td>\n",
       "      <td>3627</td>\n",
       "    </tr>\n",
       "    <tr>\n",
       "      <th>836474</th>\n",
       "      <td>5812</td>\n",
       "      <td>Contender, The (2000)</td>\n",
       "      <td>4</td>\n",
       "      <td>3627</td>\n",
       "    </tr>\n",
       "    <tr>\n",
       "      <th>836475</th>\n",
       "      <td>5831</td>\n",
       "      <td>Contender, The (2000)</td>\n",
       "      <td>3</td>\n",
       "      <td>3627</td>\n",
       "    </tr>\n",
       "    <tr>\n",
       "      <th>836476</th>\n",
       "      <td>5837</td>\n",
       "      <td>Contender, The (2000)</td>\n",
       "      <td>4</td>\n",
       "      <td>3627</td>\n",
       "    </tr>\n",
       "    <tr>\n",
       "      <th>836477</th>\n",
       "      <td>5998</td>\n",
       "      <td>Contender, The (2000)</td>\n",
       "      <td>4</td>\n",
       "      <td>3627</td>\n",
       "    </tr>\n",
       "    <tr>\n",
       "      <th>0</th>\n",
       "      <td>kwansu</td>\n",
       "      <td>Titanic (1997)</td>\n",
       "      <td>5</td>\n",
       "      <td>1540</td>\n",
       "    </tr>\n",
       "    <tr>\n",
       "      <th>1</th>\n",
       "      <td>kwansu</td>\n",
       "      <td>Sixth Sense, The (1999)</td>\n",
       "      <td>5</td>\n",
       "      <td>2507</td>\n",
       "    </tr>\n",
       "    <tr>\n",
       "      <th>2</th>\n",
       "      <td>kwansu</td>\n",
       "      <td>Shawshank Redemption, The (1994)</td>\n",
       "      <td>5</td>\n",
       "      <td>305</td>\n",
       "    </tr>\n",
       "    <tr>\n",
       "      <th>3</th>\n",
       "      <td>kwansu</td>\n",
       "      <td>Alien (1979)</td>\n",
       "      <td>5</td>\n",
       "      <td>1098</td>\n",
       "    </tr>\n",
       "    <tr>\n",
       "      <th>4</th>\n",
       "      <td>kwansu</td>\n",
       "      <td>Die Hard (1988)</td>\n",
       "      <td>5</td>\n",
       "      <td>949</td>\n",
       "    </tr>\n",
       "  </tbody>\n",
       "</table>\n",
       "</div>"
      ],
      "text/plain": [
       "       user_id                             title  view_count  movie_id\n",
       "836473    5682             Contender, The (2000)           3      3627\n",
       "836474    5812             Contender, The (2000)           4      3627\n",
       "836475    5831             Contender, The (2000)           3      3627\n",
       "836476    5837             Contender, The (2000)           4      3627\n",
       "836477    5998             Contender, The (2000)           4      3627\n",
       "0       kwansu                    Titanic (1997)           5      1540\n",
       "1       kwansu           Sixth Sense, The (1999)           5      2507\n",
       "2       kwansu  Shawshank Redemption, The (1994)           5       305\n",
       "3       kwansu                      Alien (1979)           5      1098\n",
       "4       kwansu                   Die Hard (1988)           5       949"
      ]
     },
     "execution_count": 31,
     "metadata": {},
     "output_type": "execute_result"
    }
   ],
   "source": [
    "# 내가 좋아하시는 영화의 데이터로 바꿔서 추가한다.\n",
    "my_favorite = ['Titanic (1997)', 'Sixth Sense, The (1999)', 'Shawshank Redemption, The (1994)', 'Alien (1979)', 'Die Hard (1988)']\n",
    "my_favorite_id = [title_to_idx[x] for x in my_favorite]\n",
    "\n",
    "my_playlist = pd.DataFrame({'user_id': ['kwansu']*5, 'title': my_favorite, 'movie_id':my_favorite_id, 'view_count':[5]*5})\n",
    "\n",
    "if not data.isin({'user_id':['kwansu']})['user_id'].any():  \n",
    "    data = data.append(my_playlist)   \n",
    "    \n",
    "data.tail(10)"
   ]
  },
  {
   "cell_type": "markdown",
   "id": "coordinate-wrestling",
   "metadata": {},
   "source": [
    "kwansu라는 user_id가 아닌데다 matrix로 만들기 위해 id를 인덱스 순서로 넣어주자."
   ]
  },
  {
   "cell_type": "code",
   "execution_count": 32,
   "id": "assured-looking",
   "metadata": {},
   "outputs": [
    {
     "name": "stdout",
     "output_type": "stream",
     "text": [
      "user_id column indexing OK!!\n"
     ]
    },
    {
     "data": {
      "text/html": [
       "<div>\n",
       "<style scoped>\n",
       "    .dataframe tbody tr th:only-of-type {\n",
       "        vertical-align: middle;\n",
       "    }\n",
       "\n",
       "    .dataframe tbody tr th {\n",
       "        vertical-align: top;\n",
       "    }\n",
       "\n",
       "    .dataframe thead th {\n",
       "        text-align: right;\n",
       "    }\n",
       "</style>\n",
       "<table border=\"1\" class=\"dataframe\">\n",
       "  <thead>\n",
       "    <tr style=\"text-align: right;\">\n",
       "      <th></th>\n",
       "      <th>user_id</th>\n",
       "      <th>title</th>\n",
       "      <th>view_count</th>\n",
       "      <th>movie_id</th>\n",
       "    </tr>\n",
       "  </thead>\n",
       "  <tbody>\n",
       "    <tr>\n",
       "      <th>836473</th>\n",
       "      <td>2696</td>\n",
       "      <td>Contender, The (2000)</td>\n",
       "      <td>3</td>\n",
       "      <td>3627</td>\n",
       "    </tr>\n",
       "    <tr>\n",
       "      <th>836474</th>\n",
       "      <td>2161</td>\n",
       "      <td>Contender, The (2000)</td>\n",
       "      <td>4</td>\n",
       "      <td>3627</td>\n",
       "    </tr>\n",
       "    <tr>\n",
       "      <th>836475</th>\n",
       "      <td>1931</td>\n",
       "      <td>Contender, The (2000)</td>\n",
       "      <td>3</td>\n",
       "      <td>3627</td>\n",
       "    </tr>\n",
       "    <tr>\n",
       "      <th>836476</th>\n",
       "      <td>2162</td>\n",
       "      <td>Contender, The (2000)</td>\n",
       "      <td>4</td>\n",
       "      <td>3627</td>\n",
       "    </tr>\n",
       "    <tr>\n",
       "      <th>836477</th>\n",
       "      <td>3134</td>\n",
       "      <td>Contender, The (2000)</td>\n",
       "      <td>4</td>\n",
       "      <td>3627</td>\n",
       "    </tr>\n",
       "    <tr>\n",
       "      <th>0</th>\n",
       "      <td>6039</td>\n",
       "      <td>Titanic (1997)</td>\n",
       "      <td>5</td>\n",
       "      <td>1540</td>\n",
       "    </tr>\n",
       "    <tr>\n",
       "      <th>1</th>\n",
       "      <td>6039</td>\n",
       "      <td>Sixth Sense, The (1999)</td>\n",
       "      <td>5</td>\n",
       "      <td>2507</td>\n",
       "    </tr>\n",
       "    <tr>\n",
       "      <th>2</th>\n",
       "      <td>6039</td>\n",
       "      <td>Shawshank Redemption, The (1994)</td>\n",
       "      <td>5</td>\n",
       "      <td>305</td>\n",
       "    </tr>\n",
       "    <tr>\n",
       "      <th>3</th>\n",
       "      <td>6039</td>\n",
       "      <td>Alien (1979)</td>\n",
       "      <td>5</td>\n",
       "      <td>1098</td>\n",
       "    </tr>\n",
       "    <tr>\n",
       "      <th>4</th>\n",
       "      <td>6039</td>\n",
       "      <td>Die Hard (1988)</td>\n",
       "      <td>5</td>\n",
       "      <td>949</td>\n",
       "    </tr>\n",
       "  </tbody>\n",
       "</table>\n",
       "</div>"
      ],
      "text/plain": [
       "        user_id                             title  view_count  movie_id\n",
       "836473     2696             Contender, The (2000)           3      3627\n",
       "836474     2161             Contender, The (2000)           4      3627\n",
       "836475     1931             Contender, The (2000)           3      3627\n",
       "836476     2162             Contender, The (2000)           4      3627\n",
       "836477     3134             Contender, The (2000)           4      3627\n",
       "0          6039                    Titanic (1997)           5      1540\n",
       "1          6039           Sixth Sense, The (1999)           5      2507\n",
       "2          6039  Shawshank Redemption, The (1994)           5       305\n",
       "3          6039                      Alien (1979)           5      1098\n",
       "4          6039                   Die Hard (1988)           5       949"
      ]
     },
     "execution_count": 32,
     "metadata": {},
     "output_type": "execute_result"
    }
   ],
   "source": [
    "# 고유한 유저, 타이틀을 찾아내는 코드\n",
    "user_unique = data['user_id'].unique()\n",
    "\n",
    "# 유저, 타이틀 indexing 하는 코드 idx는 index의 약자입니다.\n",
    "user_to_idx = {v:k for k,v in enumerate(user_unique)}\n",
    "\n",
    "# user_to_idx.get을 통해 user_id 컬럼의 모든 값을 인덱싱한 Series를 구해 봅시다. \n",
    "# 혹시 정상적으로 인덱싱되지 않은 row가 있다면 인덱스가 NaN이 될 테니 dropna()로 제거합니다. \n",
    "temp_user_data = data['user_id'].map(user_to_idx.get).dropna()\n",
    "if len(temp_user_data) == len(data):   # 모든 row가 정상적으로 인덱싱되었다면\n",
    "    print('user_id column indexing OK!!')\n",
    "    data['user_id'] = temp_user_data   # data['user_id']을 인덱싱된 Series로 교체해 줍니다. \n",
    "else:\n",
    "    print('user_id column indexing Fail!!')\n",
    "    \n",
    "data.tail(10)"
   ]
  },
  {
   "cell_type": "markdown",
   "id": "excited-surrey",
   "metadata": {},
   "source": [
    "## 4. CSR matrix 만들기"
   ]
  },
  {
   "cell_type": "code",
   "execution_count": 33,
   "id": "alone-occupation",
   "metadata": {},
   "outputs": [
    {
     "data": {
      "text/plain": [
       "<6040x3628 sparse matrix of type '<class 'numpy.longlong'>'\n",
       "\twith 836483 stored elements in Compressed Sparse Row format>"
      ]
     },
     "execution_count": 33,
     "metadata": {},
     "output_type": "execute_result"
    }
   ],
   "source": [
    "num_user = data['user_id'].nunique()\n",
    "num_movie = data['movie_id'].nunique()\n",
    "\n",
    "csr_data = csr_matrix((data.view_count, (data.user_id, data.movie_id)), shape=(num_user, num_movie))\n",
    "csr_data"
   ]
  },
  {
   "cell_type": "code",
   "execution_count": 34,
   "id": "informal-authentication",
   "metadata": {},
   "outputs": [
    {
     "name": "stdout",
     "output_type": "stream",
     "text": [
      "유니크한 영화 개수 : 3628\n",
      "유니크한 사용자 수 : 6040\n",
      "CSR matrix의 크기 : (6040, 3628)\n"
     ]
    }
   ],
   "source": [
    "print(f\"유니크한 영화 개수 : {data['movie_id'].nunique()}\")\n",
    "print(f\"유니크한 사용자 수 : {data['user_id'].nunique()}\")\n",
    "print(f'CSR matrix의 크기 : {csr_data.shape}')"
   ]
  },
  {
   "cell_type": "markdown",
   "id": "generic-elephant",
   "metadata": {},
   "source": [
    "사용자에 나 자신 'kwansu'를 포함한 6040명과  \n",
    "총 영화 개수 3628개의 CSR 행렬이 잘 만들어진 것을 확인 할 수 있다."
   ]
  },
  {
   "cell_type": "markdown",
   "id": "trying-belle",
   "metadata": {},
   "source": [
    "## 5. 모델 구성 및 훈련"
   ]
  },
  {
   "cell_type": "code",
   "execution_count": 45,
   "id": "acoustic-undergraduate",
   "metadata": {},
   "outputs": [
    {
     "data": {
      "application/vnd.jupyter.widget-view+json": {
       "model_id": "b925ef495c394c9fa71ffeb4ff26b270",
       "version_major": 2,
       "version_minor": 0
      },
      "text/plain": [
       "  0%|          | 0/50 [00:00<?, ?it/s]"
      ]
     },
     "metadata": {},
     "output_type": "display_data"
    }
   ],
   "source": [
    "# Implicit AlternatingLeastSquares 모델의 선언\n",
    "als_model = AlternatingLeastSquares(factors=200, regularization=0.01, use_gpu=False, iterations=50, dtype=np.float32)\n",
    "\n",
    "# als 모델은 input으로 (item X user 꼴의 matrix를 받기 때문에 Transpose해줍니다.)\n",
    "csr_data_transpose = csr_data.T\n",
    "csr_data_transpose\n",
    "\n",
    "als_model.fit(csr_data_transpose)"
   ]
  },
  {
   "cell_type": "markdown",
   "id": "sealed-buddy",
   "metadata": {},
   "source": [
    "## 6. 훈련된 모델이 예측한 나의 선호도 파악"
   ]
  },
  {
   "cell_type": "markdown",
   "id": "quarterly-connecticut",
   "metadata": {},
   "source": [
    "200 벡터로 분해된 벡터들을 확인해보자."
   ]
  },
  {
   "cell_type": "code",
   "execution_count": 46,
   "id": "public-parade",
   "metadata": {},
   "outputs": [
    {
     "data": {
      "text/plain": [
       "array([ 1.25568673e-01, -2.74167233e-03, -7.10283443e-02,  4.44298446e-01,\n",
       "       -5.58168054e-01, -2.47826487e-01,  1.66025937e-01, -1.25213295e-01,\n",
       "        2.14092046e-01,  4.11083519e-01, -4.11800057e-01,  3.97916317e-01,\n",
       "       -7.09772766e-01, -4.35470104e-01, -5.85334785e-02, -1.23645803e-02,\n",
       "        1.86502516e-01, -2.70894676e-01, -4.03234735e-02,  2.40782738e-01,\n",
       "       -3.71534862e-02,  9.12126452e-02, -3.33768725e-01,  5.15889674e-02,\n",
       "        5.16377874e-02, -1.26121730e-01,  1.74363032e-01,  6.51619971e-01,\n",
       "       -2.40067348e-01, -1.96008638e-01,  3.74800116e-02, -1.11757323e-01,\n",
       "        6.24691322e-02, -1.31393299e-01, -2.40660876e-01, -8.69611651e-02,\n",
       "       -2.60068327e-01,  1.13219202e-01, -4.66706902e-01, -7.55535588e-02,\n",
       "        2.61957943e-03,  3.65824133e-01, -3.54913846e-02,  2.45839193e-01,\n",
       "       -6.44224882e-01,  2.42593274e-01, -6.80310205e-02,  1.24267712e-01,\n",
       "        1.84557274e-01, -9.27338004e-02,  2.15958655e-01,  3.75406981e-01,\n",
       "       -2.26452515e-01, -2.79370338e-01, -2.36039594e-01,  1.44725725e-01,\n",
       "        6.61394477e-01, -2.09365368e-01, -5.61862923e-02,  4.73697960e-01,\n",
       "       -2.21866414e-01,  4.02268171e-02, -1.19846761e-01,  2.90859193e-01,\n",
       "        2.75952190e-01, -2.78537244e-01, -1.55522794e-01,  2.40529343e-01,\n",
       "        2.91633725e-01, -7.02846795e-02,  2.88339436e-01, -2.25043967e-01,\n",
       "       -1.06540814e-01,  3.60047638e-01,  1.28776520e-01,  3.48968059e-02,\n",
       "       -2.61581481e-01,  1.11849792e-01, -5.45872211e-01,  7.14093968e-02,\n",
       "        1.14488944e-01,  9.83485878e-01, -1.16690867e-01,  2.21219093e-01,\n",
       "       -9.45563540e-02,  6.79258227e-01,  4.86655563e-01, -2.19019443e-01,\n",
       "       -2.98560858e-01,  1.74178951e-03, -3.06311280e-01, -1.14081107e-01,\n",
       "        4.11042154e-01, -5.15243933e-02,  7.10765496e-02, -8.39798972e-02,\n",
       "       -4.91943508e-01, -1.54207826e-01, -1.10639632e-01, -5.67697823e-01,\n",
       "       -6.13340735e-02, -1.56864263e-02, -6.66463852e-01, -3.97288293e-01,\n",
       "        2.52572089e-01, -1.43987894e-01,  6.06977165e-01,  3.83054942e-01,\n",
       "       -9.14288033e-03,  1.31061912e-01,  2.58100271e-01, -3.86786282e-01,\n",
       "        9.51784849e-01, -1.00292375e-04,  2.29704082e-01, -4.18005675e-01,\n",
       "        1.62243560e-01, -1.38190180e-01,  1.89075917e-01, -3.09811354e-01,\n",
       "       -2.04304919e-01, -7.81008244e-01,  1.99422683e-03, -7.53969885e-03,\n",
       "       -1.78229844e-03,  3.26303035e-01, -4.75352928e-02, -2.10020050e-01,\n",
       "       -1.59755066e-01, -5.24087921e-02,  2.24747166e-01,  1.53393134e-01,\n",
       "       -1.49465322e-01,  4.47458118e-01,  2.89529860e-01,  1.26305908e-01,\n",
       "        2.31756210e-01,  1.45732448e-01,  4.29603338e-01, -4.33455288e-01,\n",
       "       -1.78989246e-01,  4.80209962e-02, -1.98396355e-01,  1.34467244e-01,\n",
       "       -2.83225268e-01, -2.12538138e-01, -3.44366461e-01, -8.09416920e-02,\n",
       "       -1.54647976e-01,  3.07554245e-01,  3.58598143e-01, -5.91189981e-01,\n",
       "       -1.67421013e-01, -2.94471413e-01, -6.02077246e-02, -1.53713867e-01,\n",
       "        1.46957293e-01,  6.52122423e-02,  3.28303695e-01,  3.52256984e-01,\n",
       "        2.63762295e-01,  5.52585304e-01,  4.34346616e-01, -3.59626636e-02,\n",
       "       -1.85477391e-01,  4.10838068e-01, -3.30538541e-01,  1.11573152e-01,\n",
       "        3.14401150e-01,  1.23078860e-01,  7.86629245e-02,  1.31781518e-01,\n",
       "       -2.70132590e-02,  1.22604333e-01, -5.69900811e-01,  1.40673667e-01,\n",
       "       -4.67055351e-01,  8.52902457e-02, -7.73749113e-01,  2.78306961e-01,\n",
       "        3.68726104e-01,  4.57173467e-01, -2.52812564e-01, -3.37184042e-01,\n",
       "       -3.40820432e-01, -9.33471397e-02, -4.67479795e-01,  1.83348939e-01,\n",
       "        2.21363872e-01,  2.85450578e-01, -4.64899212e-01,  6.32133037e-02,\n",
       "       -1.12174064e-01,  7.44278654e-02, -1.61143646e-01,  6.36197031e-01,\n",
       "        6.56239390e-02, -2.54637808e-01,  4.18782324e-01,  1.64341107e-01],\n",
       "      dtype=float32)"
      ]
     },
     "execution_count": 46,
     "metadata": {},
     "output_type": "execute_result"
    }
   ],
   "source": [
    "kwansu = user_to_idx['kwansu']\n",
    "kwansu_vector = als_model.user_factors[kwansu]\n",
    "\n",
    "kwansu_vector"
   ]
  },
  {
   "cell_type": "code",
   "execution_count": 47,
   "id": "abroad-snake",
   "metadata": {},
   "outputs": [
    {
     "data": {
      "text/plain": [
       "(200,)"
      ]
     },
     "execution_count": 47,
     "metadata": {},
     "output_type": "execute_result"
    }
   ],
   "source": [
    "shawshank = title_to_idx['Shawshank Redemption, The (1994)']\n",
    "shawshank_vector = als_model.item_factors[shawshank]\n",
    "\n",
    "shawshank_vector.shape"
   ]
  },
  {
   "cell_type": "markdown",
   "id": "bound-rendering",
   "metadata": {},
   "source": [
    "내 자신이 좋아한다고 학습시킨 영화에 대한 선호도"
   ]
  },
  {
   "cell_type": "code",
   "execution_count": 48,
   "id": "exceptional-footwear",
   "metadata": {},
   "outputs": [
    {
     "name": "stdout",
     "output_type": "stream",
     "text": [
      "영화 쇼생크 탈출에 대한 선호도 : 0.6779145002365112\n"
     ]
    }
   ],
   "source": [
    "np.dot(kwansu_vector, shawshank_vector)\n",
    "print(f'영화 쇼생크 탈출에 대한 선호도 : {np.dot(kwansu_vector, shawshank_vector)}')"
   ]
  },
  {
   "cell_type": "code",
   "execution_count": 49,
   "id": "worst-netherlands",
   "metadata": {},
   "outputs": [
    {
     "name": "stdout",
     "output_type": "stream",
     "text": [
      "영화 양들에 침묵에 대한 선호도 : 0.4809550344944\n"
     ]
    }
   ],
   "source": [
    "silence = title_to_idx['Silence of the Lambs, The (1991)']\n",
    "silence_vector = als_model.item_factors[silence]\n",
    "print(f'영화 양들에 침묵에 대한 선호도 : {np.dot(kwansu_vector, silence_vector)}')"
   ]
  },
  {
   "cell_type": "markdown",
   "id": "rubber-better",
   "metadata": {},
   "source": [
    "## 7. 좋아하는 영화와 비슷한 영화를 추천"
   ]
  },
  {
   "cell_type": "code",
   "execution_count": 50,
   "id": "average-contribution",
   "metadata": {},
   "outputs": [],
   "source": [
    "idx_to_title = {v:k for k,v in title_to_idx.items()}\n",
    "\n",
    "def get_similar_title(title_name: str):\n",
    "    title_id = title_to_idx[title_name]\n",
    "    similar_title = als_model.similar_items(title_id)\n",
    "    similar_title = [idx_to_title[i[0]] for i in similar_title]\n",
    "    return similar_title"
   ]
  },
  {
   "cell_type": "code",
   "execution_count": 51,
   "id": "cooperative-pickup",
   "metadata": {},
   "outputs": [
    {
     "data": {
      "text/plain": [
       "['Shawshank Redemption, The (1994)',\n",
       " 'Silence of the Lambs, The (1991)',\n",
       " 'Pulp Fiction (1994)',\n",
       " 'Good Will Hunting (1997)',\n",
       " 'GoodFellas (1990)',\n",
       " 'Fargo (1996)',\n",
       " \"Schindler's List (1993)\",\n",
       " 'Dead Man Walking (1995)',\n",
       " 'Brother Minister: The Assassination of Malcolm X (1994)',\n",
       " 'Son of Dracula (1943)']"
      ]
     },
     "execution_count": 51,
     "metadata": {},
     "output_type": "execute_result"
    }
   ],
   "source": [
    "get_similar_title('Shawshank Redemption, The (1994)')"
   ]
  },
  {
   "cell_type": "code",
   "execution_count": 52,
   "id": "strong-nashville",
   "metadata": {},
   "outputs": [
    {
     "data": {
      "text/plain": [
       "['Alien (1979)',\n",
       " 'Aliens (1986)',\n",
       " 'Terminator, The (1984)',\n",
       " 'Jaws (1975)',\n",
       " 'Invasion of the Body Snatchers (1956)',\n",
       " 'Alien³ (1992)',\n",
       " 'Blade Runner (1982)',\n",
       " 'Star Wars: Episode IV - A New Hope (1977)',\n",
       " 'Back Stage (2000)',\n",
       " 'Alien: Resurrection (1997)']"
      ]
     },
     "execution_count": 52,
     "metadata": {},
     "output_type": "execute_result"
    }
   ],
   "source": [
    "get_similar_title('Alien (1979)')"
   ]
  },
  {
   "cell_type": "markdown",
   "id": "better-focus",
   "metadata": {},
   "source": [
    "위의 결과들을 보면 나름 비슷한 유형의 영화들을 잘 추천해주는 것 같다."
   ]
  },
  {
   "cell_type": "markdown",
   "id": "wireless-parker",
   "metadata": {},
   "source": [
    "## 8. 내가 가장 좋아할 만한 영화들을 추천"
   ]
  },
  {
   "cell_type": "code",
   "execution_count": 53,
   "id": "early-distinction",
   "metadata": {},
   "outputs": [
    {
     "name": "stdout",
     "output_type": "stream",
     "text": [
      "내가 좋아할 만한 영화 추천 목록 : \n",
      "영화이름 : Silence of the Lambs, The (1991)                   선호도 : 0.480955\n",
      "영화이름 : Terminator, The (1984)                             선호도 : 0.461898\n",
      "영화이름 : Aliens (1986)                                      선호도 : 0.438358\n",
      "영화이름 : Jaws (1975)                                        선호도 : 0.299320\n",
      "영화이름 : Raiders of the Lost Ark (1981)                     선호도 : 0.251855\n",
      "영화이름 : Pulp Fiction (1994)                                선호도 : 0.228851\n",
      "영화이름 : Schindler's List (1993)                            선호도 : 0.217845\n",
      "영화이름 : Jerry Maguire (1996)                               선호도 : 0.211932\n",
      "영화이름 : Rocky (1976)                                       선호도 : 0.211865\n",
      "영화이름 : Predator (1987)                                    선호도 : 0.210351\n",
      "영화이름 : Terminator 2: Judgment Day (1991)                  선호도 : 0.208525\n",
      "영화이름 : Star Wars: Episode IV - A New Hope (1977)          선호도 : 0.203096\n",
      "영화이름 : Indiana Jones and the Last Crusade (1989)          선호도 : 0.198687\n",
      "영화이름 : Fargo (1996)                                       선호도 : 0.195728\n",
      "영화이름 : Shining, The (1980)                                선호도 : 0.195696\n",
      "영화이름 : Usual Suspects, The (1995)                         선호도 : 0.192042\n",
      "영화이름 : Fugitive, The (1993)                               선호도 : 0.181377\n",
      "영화이름 : Good Will Hunting (1997)                           선호도 : 0.181183\n",
      "영화이름 : Amadeus (1984)                                     선호도 : 0.170273\n",
      "영화이름 : Seven (Se7en) (1995)                               선호도 : 0.161856\n"
     ]
    }
   ],
   "source": [
    "user = user_to_idx['kwansu']\n",
    "\n",
    "# recommend에서는 user*item CSR Matrix를 받습니다.\n",
    "title_recommended = als_model.recommend(user, csr_data, N=20, filter_already_liked_items=True)\n",
    "\n",
    "print(\"내가 좋아할 만한 영화 추천 목록 : \")\n",
    "for i in title_recommended:\n",
    "    print(f'영화이름 : {idx_to_title[i[0]]:50s} 선호도 : {i[1]:f}')"
   ]
  },
  {
   "cell_type": "markdown",
   "id": "informative-horror",
   "metadata": {},
   "source": [
    "결과가 생각보다 내 취향의 영화들이 나왔다.  \n",
    "예상보다 학습결과가 좋은 것 같다.\n",
    "\n",
    "그럼 다음으로는 가장 추천하는 영화 터미너이터와 양들의 침묵에 대한 기여도를 확인해보자."
   ]
  },
  {
   "cell_type": "code",
   "execution_count": 54,
   "id": "accomplished-check",
   "metadata": {},
   "outputs": [
    {
     "name": "stdout",
     "output_type": "stream",
     "text": [
      "터미네이터에 대한 기여도 :\n"
     ]
    },
    {
     "data": {
      "text/plain": [
       "[('Die Hard (1988)', 0.2541255047690311),\n",
       " ('Alien (1979)', 0.1883153247166049),\n",
       " ('Sixth Sense, The (1999)', 0.02122794028406909),\n",
       " ('Titanic (1997)', -0.0008528946891768014),\n",
       " ('Shawshank Redemption, The (1994)', -0.0037453307478643658)]"
      ]
     },
     "execution_count": 54,
     "metadata": {},
     "output_type": "execute_result"
    }
   ],
   "source": [
    "terminator = title_to_idx['Terminator, The (1984)']\n",
    "explain = als_model.explain(user, csr_data, itemid=terminator)\n",
    "\n",
    "print('터미네이터에 대한 기여도 :')\n",
    "[(idx_to_title[i[0]], i[1]) for i in explain[1]]\n"
   ]
  },
  {
   "cell_type": "code",
   "execution_count": 55,
   "id": "developed-ambassador",
   "metadata": {},
   "outputs": [
    {
     "name": "stdout",
     "output_type": "stream",
     "text": [
      "양들에 침묵에 대한 기여도 :\n"
     ]
    },
    {
     "data": {
      "text/plain": [
       "[('Shawshank Redemption, The (1994)', 0.2931562916574094),\n",
       " ('Sixth Sense, The (1999)', 0.129930780406022),\n",
       " ('Die Hard (1988)', 0.0386205746951783),\n",
       " ('Titanic (1997)', 0.010007979015329835),\n",
       " ('Alien (1979)', 0.006259764898336246)]"
      ]
     },
     "execution_count": 55,
     "metadata": {},
     "output_type": "execute_result"
    }
   ],
   "source": [
    "silence = title_to_idx['Silence of the Lambs, The (1991)']\n",
    "explain = als_model.explain(user, csr_data, itemid=silence)\n",
    "\n",
    "print('양들에 침묵에 대한 기여도 :')\n",
    "[(idx_to_title[i[0]], i[1]) for i in explain[1]]"
   ]
  },
  {
   "cell_type": "markdown",
   "id": "democratic-malawi",
   "metadata": {},
   "source": [
    "터미네이터는 비슷한 액션 장르인 다이하드의 기여도가 가장 높았고,  \n",
    "반대로 다른 전혀 다른 장르인 식스센스의 기여도는 음수였다.\n",
    "\n",
    "양들의 침묵은 비슷한 장르인 쇼생크 탈출이 가장 높고,  \n",
    "스케일 때문인지 타이타닉이 가장 낮은 기여도를 보였다.\n",
    "\n",
    "기여도가 어느정도 잘 반영된 것 같다."
   ]
  },
  {
   "cell_type": "markdown",
   "id": "demanding-significance",
   "metadata": {},
   "source": [
    "## 9. 회고"
   ]
  },
  {
   "cell_type": "markdown",
   "id": "textile-monitoring",
   "metadata": {},
   "source": [
    "처음 벡터의 크기가 100일 때는 좋아하는 영화에 대해 너무 낮은 선호도가 나와  \n",
    "300으로 늘렸지만, 다른 영화들에 대한 선호도가 너무 떨어졌다.  \n",
    "예상으로는 기존 5개의 정보에 너무 오버피팅 된거 같아서 적당히 200개 크기로 잡았다.\n",
    "\n",
    "특히 이번 프로젝트를 하면서 rating matrix와  Matrix Factorization에 대해서 많이 알게 된 것 같다.  \n",
    "그러면서 머신러닝을 통한 추천 시스템에 대한 기본적인 지식이 많이 쌓인것 같다."
   ]
  }
 ],
 "metadata": {
  "kernelspec": {
   "display_name": "Python 3",
   "language": "python",
   "name": "python3"
  },
  "language_info": {
   "codemirror_mode": {
    "name": "ipython",
    "version": 3
   },
   "file_extension": ".py",
   "mimetype": "text/x-python",
   "name": "python",
   "nbconvert_exporter": "python",
   "pygments_lexer": "ipython3",
   "version": "3.7.9"
  }
 },
 "nbformat": 4,
 "nbformat_minor": 5
}
