{
 "cells": [
  {
   "cell_type": "markdown",
   "id": "industrial-norway",
   "metadata": {},
   "source": [
    "# 네이버 영화리뷰 감성분석 도전하기"
   ]
  },
  {
   "cell_type": "markdown",
   "id": "finished-expression",
   "metadata": {},
   "source": [
    "## 0. 모듈 import"
   ]
  },
  {
   "cell_type": "code",
   "execution_count": 1,
   "id": "vertical-comedy",
   "metadata": {},
   "outputs": [],
   "source": [
    "import pandas as pd\n",
    "import numpy as np\n",
    "import urllib.request\n",
    "%matplotlib inline\n",
    "import matplotlib.pyplot as plt\n",
    "import re\n",
    "import os\n",
    "import gensim\n",
    "from gensim.models import KeyedVectors\n",
    "from collections import Counter\n",
    "from konlpy.tag import Okt\n",
    "from tensorflow import keras\n",
    "from tensorflow.keras.initializers import Constant\n",
    "from tensorflow.keras.preprocessing.text import Tokenizer\n",
    "from tensorflow.keras.preprocessing.sequence import pad_sequences"
   ]
  },
  {
   "cell_type": "markdown",
   "id": "running-grounds",
   "metadata": {},
   "source": [
    "## 1. 데이터 준비와 확인\n",
    "\n",
    "다음 주소에서 다운 받은 자료를 사용한다.  \n",
    "https://github.com/e9t/nsmc"
   ]
  },
  {
   "cell_type": "code",
   "execution_count": 2,
   "id": "viral-queen",
   "metadata": {},
   "outputs": [
    {
     "data": {
      "text/html": [
       "<div>\n",
       "<style scoped>\n",
       "    .dataframe tbody tr th:only-of-type {\n",
       "        vertical-align: middle;\n",
       "    }\n",
       "\n",
       "    .dataframe tbody tr th {\n",
       "        vertical-align: top;\n",
       "    }\n",
       "\n",
       "    .dataframe thead th {\n",
       "        text-align: right;\n",
       "    }\n",
       "</style>\n",
       "<table border=\"1\" class=\"dataframe\">\n",
       "  <thead>\n",
       "    <tr style=\"text-align: right;\">\n",
       "      <th></th>\n",
       "      <th>id</th>\n",
       "      <th>document</th>\n",
       "      <th>label</th>\n",
       "    </tr>\n",
       "  </thead>\n",
       "  <tbody>\n",
       "    <tr>\n",
       "      <th>0</th>\n",
       "      <td>9976970</td>\n",
       "      <td>아 더빙.. 진짜 짜증나네요 목소리</td>\n",
       "      <td>0</td>\n",
       "    </tr>\n",
       "    <tr>\n",
       "      <th>1</th>\n",
       "      <td>3819312</td>\n",
       "      <td>흠...포스터보고 초딩영화줄....오버연기조차 가볍지 않구나</td>\n",
       "      <td>1</td>\n",
       "    </tr>\n",
       "    <tr>\n",
       "      <th>2</th>\n",
       "      <td>10265843</td>\n",
       "      <td>너무재밓었다그래서보는것을추천한다</td>\n",
       "      <td>0</td>\n",
       "    </tr>\n",
       "    <tr>\n",
       "      <th>3</th>\n",
       "      <td>9045019</td>\n",
       "      <td>교도소 이야기구먼 ..솔직히 재미는 없다..평점 조정</td>\n",
       "      <td>0</td>\n",
       "    </tr>\n",
       "    <tr>\n",
       "      <th>4</th>\n",
       "      <td>6483659</td>\n",
       "      <td>사이몬페그의 익살스런 연기가 돋보였던 영화!스파이더맨에서 늙어보이기만 했던 커스틴 ...</td>\n",
       "      <td>1</td>\n",
       "    </tr>\n",
       "    <tr>\n",
       "      <th>5</th>\n",
       "      <td>5403919</td>\n",
       "      <td>막 걸음마 뗀 3세부터 초등학교 1학년생인 8살용영화.ㅋㅋㅋ...별반개도 아까움.</td>\n",
       "      <td>0</td>\n",
       "    </tr>\n",
       "    <tr>\n",
       "      <th>6</th>\n",
       "      <td>7797314</td>\n",
       "      <td>원작의 긴장감을 제대로 살려내지못했다.</td>\n",
       "      <td>0</td>\n",
       "    </tr>\n",
       "    <tr>\n",
       "      <th>7</th>\n",
       "      <td>9443947</td>\n",
       "      <td>별 반개도 아깝다 욕나온다 이응경 길용우 연기생활이몇년인지..정말 발로해도 그것보단...</td>\n",
       "      <td>0</td>\n",
       "    </tr>\n",
       "    <tr>\n",
       "      <th>8</th>\n",
       "      <td>7156791</td>\n",
       "      <td>액션이 없는데도 재미 있는 몇안되는 영화</td>\n",
       "      <td>1</td>\n",
       "    </tr>\n",
       "    <tr>\n",
       "      <th>9</th>\n",
       "      <td>5912145</td>\n",
       "      <td>왜케 평점이 낮은건데? 꽤 볼만한데.. 헐리우드식 화려함에만 너무 길들여져 있나?</td>\n",
       "      <td>1</td>\n",
       "    </tr>\n",
       "  </tbody>\n",
       "</table>\n",
       "</div>"
      ],
      "text/plain": [
       "         id                                           document  label\n",
       "0   9976970                                아 더빙.. 진짜 짜증나네요 목소리      0\n",
       "1   3819312                  흠...포스터보고 초딩영화줄....오버연기조차 가볍지 않구나      1\n",
       "2  10265843                                  너무재밓었다그래서보는것을추천한다      0\n",
       "3   9045019                      교도소 이야기구먼 ..솔직히 재미는 없다..평점 조정      0\n",
       "4   6483659  사이몬페그의 익살스런 연기가 돋보였던 영화!스파이더맨에서 늙어보이기만 했던 커스틴 ...      1\n",
       "5   5403919      막 걸음마 뗀 3세부터 초등학교 1학년생인 8살용영화.ㅋㅋㅋ...별반개도 아까움.      0\n",
       "6   7797314                              원작의 긴장감을 제대로 살려내지못했다.      0\n",
       "7   9443947  별 반개도 아깝다 욕나온다 이응경 길용우 연기생활이몇년인지..정말 발로해도 그것보단...      0\n",
       "8   7156791                             액션이 없는데도 재미 있는 몇안되는 영화      1\n",
       "9   5912145      왜케 평점이 낮은건데? 꽤 볼만한데.. 헐리우드식 화려함에만 너무 길들여져 있나?      1"
      ]
     },
     "execution_count": 2,
     "metadata": {},
     "output_type": "execute_result"
    }
   ],
   "source": [
    "train_data = pd.read_table('~/aiffel/Exploration/E07_AnalysisNaverMovieReviews/data/ratings_train.txt')\n",
    "test_data = pd.read_table('~/aiffel/Exploration/E07_AnalysisNaverMovieReviews/data/ratings_test.txt')\n",
    "\n",
    "train_data.head(10)"
   ]
  },
  {
   "cell_type": "markdown",
   "id": "chronic-happiness",
   "metadata": {},
   "source": [
    "2번 평을 보면 칭찬인것 같은데, label은 0이다.  \n",
    "위의 데이터를 만드는데 네이버 평점을 반영한 것으로 생각되는데,  \n",
    "2번째는 반어법으로 문장을 작성하였거나 단순히 실수 일수도 있다.\n",
    "\n",
    "다만 학습과정에서 문장만으로 감성을 평가해야하는데, 저런 경우는 노이즈라고도 볼 수 있겠다.  \n",
    "일단 전체적인 데이터는 잘 맞는 것 같고, 소수의 노이즈는 무시하자."
   ]
  },
  {
   "cell_type": "markdown",
   "id": "boring-momentum",
   "metadata": {},
   "source": [
    "## 2. 데이터로더 구성\n",
    "\n",
    "위의 텍스트 데이터를 받아서 가공된 학습 데이터와 테스트 데이터를 반환하는  \n",
    "데이터 로더를 만들어 보자."
   ]
  },
  {
   "cell_type": "code",
   "execution_count": 3,
   "id": "signed-sheep",
   "metadata": {},
   "outputs": [],
   "source": [
    "from konlpy.tag import Mecab\n",
    "tokenizer = Mecab()\n",
    "stopwords = ['의','가','이','은','들','는','좀','잘','걍','과','도','를','으로','자','에','와','한','하다']\n",
    "\n",
    "def load_data(train_data, test_data, num_words=10000):\n",
    "    train_data.drop_duplicates(subset=['document'], inplace=True)\n",
    "    train_data = train_data.dropna(how = 'any') \n",
    "    test_data.drop_duplicates(subset=['document'], inplace=True)\n",
    "    test_data = test_data.dropna(how = 'any') \n",
    "    \n",
    "    X_train = []\n",
    "    for sentence in train_data['document']:\n",
    "        temp_X = tokenizer.morphs(sentence) # 토큰화\n",
    "        temp_X = [word for word in temp_X if not word in stopwords] # 불용어 제거\n",
    "        X_train.append(temp_X)\n",
    "\n",
    "    X_test = []\n",
    "    for sentence in test_data['document']:\n",
    "        temp_X = tokenizer.morphs(sentence) # 토큰화\n",
    "        temp_X = [word for word in temp_X if not word in stopwords] # 불용어 제거\n",
    "        X_test.append(temp_X)\n",
    "    \n",
    "    words = np.concatenate(X_train).tolist()\n",
    "    counter = Counter(words)\n",
    "    print(f'총 단어수 : {len(counter)}, 사용할 단어수 : {num_words}')\n",
    "    counter = counter.most_common(num_words-4)\n",
    "    #word_to_index[\"<PAD>\"] = 0\n",
    "    #word_to_index[\"<BOS>\"] = 1\n",
    "    #word_to_index[\"<UNK>\"] = 2  # unknown\n",
    "    #word_to_index[\"<UNUSED>\"] = 3\n",
    "    vocab = ['<PAD>', '<BOS>', '<UNK>', '<UNUSED>'] + [key for key, _ in counter]\n",
    "    word_to_index = {word:index for index, word in enumerate(vocab)}\n",
    "        \n",
    "    def wordlist_to_indexlist(wordlist):\n",
    "        return [word_to_index[word] if word in word_to_index else word_to_index['<UNK>'] for word in wordlist]\n",
    "        \n",
    "    X_train = list(map(wordlist_to_indexlist, X_train))\n",
    "    X_test = list(map(wordlist_to_indexlist, X_test))\n",
    "        \n",
    "    return X_train, np.array(list(train_data['label'])), X_test, np.array(list(test_data['label'])), word_to_index"
   ]
  },
  {
   "cell_type": "code",
   "execution_count": 4,
   "id": "demanding-update",
   "metadata": {},
   "outputs": [
    {
     "name": "stdout",
     "output_type": "stream",
     "text": [
      "총 단어수 : 53961, 사용할 단어수 : 10000\n"
     ]
    }
   ],
   "source": [
    "x_train, y_train, x_test, y_test, word_to_index = load_data(train_data, test_data)"
   ]
  },
  {
   "cell_type": "code",
   "execution_count": 5,
   "id": "virtual-window",
   "metadata": {},
   "outputs": [],
   "source": [
    "# 문장 1개를 활용할 딕셔너리와 함께 주면, 단어 인덱스 리스트 벡터로 변환해 주는 함수입니다. \n",
    "# 단, 모든 문장은 <BOS>로 시작하는 것으로 합니다. \n",
    "def get_encoded_sentence(sentence, word_to_index):\n",
    "    return [word_to_index['<BOS>']]+[word_to_index[word] if word in word_to_index else word_to_index['<UNK>'] for word in sentence.split()]\n",
    "\n",
    "# 여러 개의 문장 리스트를 한꺼번에 단어 인덱스 리스트 벡터로 encode해 주는 함수입니다. \n",
    "def get_encoded_sentences(sentences, word_to_index):\n",
    "    return [get_encoded_sentence(sentence, word_to_index) for sentence in sentences]\n",
    "\n",
    "# 숫자 벡터로 encode된 문장을 원래대로 decode하는 함수입니다. \n",
    "def get_decoded_sentence(encoded_sentence, index_to_word):\n",
    "    return ' '.join(index_to_word[index] if index in index_to_word else '<UNK>' for index in encoded_sentence[1:])  #[1:]를 통해 <BOS>를 제외\n",
    "\n",
    "# 여러 개의 숫자 벡터로 encode된 문장을 한꺼번에 원래대로 decode하는 함수입니다. \n",
    "def get_decoded_sentences(encoded_sentences, index_to_word):\n",
    "    return [get_decoded_sentence(encoded_sentence, index_to_word) for encoded_sentence in encoded_sentences]"
   ]
  },
  {
   "cell_type": "markdown",
   "id": "hollywood-bedroom",
   "metadata": {},
   "source": [
    "## 3. 모델구성을 위한 데이터 분석 및 가공"
   ]
  },
  {
   "cell_type": "markdown",
   "id": "accredited-alarm",
   "metadata": {},
   "source": [
    "### 데이터셋 내 문장 길이 분포"
   ]
  },
  {
   "cell_type": "code",
   "execution_count": 6,
   "id": "amended-helicopter",
   "metadata": {},
   "outputs": [
    {
     "name": "stdout",
     "output_type": "stream",
     "text": [
      "[32, 74, 919, 4, 4, 39, 228, 20, 33, 748]\n",
      "라벨:  0\n",
      "1번째 리뷰 문장 길이:  10\n",
      "2번째 리뷰 문장 길이:  17\n"
     ]
    }
   ],
   "source": [
    "print(x_train[0])  # 1번째 리뷰데이터\n",
    "print('라벨: ', y_train[0])  # 1번째 리뷰데이터의 라벨\n",
    "print('1번째 리뷰 문장 길이: ', len(x_train[0]))\n",
    "print('2번째 리뷰 문장 길이: ', len(x_train[1]))"
   ]
  },
  {
   "cell_type": "markdown",
   "id": "thrown-designer",
   "metadata": {},
   "source": [
    "### 적절한 최대 문장 길이 지정"
   ]
  },
  {
   "cell_type": "code",
   "execution_count": 7,
   "id": "pleased-dress",
   "metadata": {},
   "outputs": [
    {
     "name": "stdout",
     "output_type": "stream",
     "text": [
      "281\n"
     ]
    }
   ],
   "source": [
    "index_to_word = {index:word for word, index in word_to_index.items()}\n",
    "#print(index_to_word.keys())\n",
    "print(word_to_index['추천'])"
   ]
  },
  {
   "cell_type": "code",
   "execution_count": 8,
   "id": "related-bailey",
   "metadata": {},
   "outputs": [
    {
     "name": "stdout",
     "output_type": "stream",
     "text": [
      "더 빙 . . 진짜 짜증 나 네요 목소리\n",
      "라벨:  0\n"
     ]
    }
   ],
   "source": [
    "print(get_decoded_sentence(x_train[0], index_to_word))\n",
    "print('라벨: ', y_train[0])  # 1번째 리뷰데이터의 라벨"
   ]
  },
  {
   "cell_type": "code",
   "execution_count": 9,
   "id": "underlying-guarantee",
   "metadata": {},
   "outputs": [
    {
     "name": "stdout",
     "output_type": "stream",
     "text": [
      "문장길이 평균 :  15.96940191154864\n",
      "문장길이 최대 :  116\n",
      "문장길이 표준편차 :  12.843571191092\n",
      "pad_sequences maxlen :  41\n",
      "전체 문장의 0.9342988343341575%가 maxlen 설정값 이내에 포함됩니다. \n"
     ]
    }
   ],
   "source": [
    "total_data_text = list(x_train) + list(x_test)\n",
    "# 텍스트데이터 문장길이의 리스트를 생성한 후\n",
    "num_tokens = [len(tokens) for tokens in total_data_text]\n",
    "num_tokens = np.array(num_tokens)\n",
    "# 문장길이의 평균값, 최대값, 표준편차를 계산해 본다. \n",
    "print('문장길이 평균 : ', np.mean(num_tokens))\n",
    "print('문장길이 최대 : ', np.max(num_tokens))\n",
    "print('문장길이 표준편차 : ', np.std(num_tokens))\n",
    "\n",
    "# 예를들어, 최대 길이를 (평균 + 2*표준편차)로 한다면,  \n",
    "max_tokens = np.mean(num_tokens) + 2 * np.std(num_tokens)\n",
    "maxlen = int(max_tokens)\n",
    "print('pad_sequences maxlen : ', maxlen)\n",
    "print('전체 문장의 {}%가 maxlen 설정값 이내에 포함됩니다. '.format(np.sum(num_tokens < max_tokens) / len(num_tokens)))"
   ]
  },
  {
   "cell_type": "markdown",
   "id": "creative-access",
   "metadata": {},
   "source": [
    "### keras.preprocessing.sequence.pad_sequences 을 활용한 패딩 추가\n",
    "\n",
    "pad를 앞쪽과 뒤쪽 모두 넣은 경우 모두를 생성해서 비교해보자."
   ]
  },
  {
   "cell_type": "code",
   "execution_count": 10,
   "id": "engaging-bargain",
   "metadata": {},
   "outputs": [
    {
     "name": "stdout",
     "output_type": "stream",
     "text": [
      "(146182, 41)\n"
     ]
    }
   ],
   "source": [
    "x_train_post = keras.preprocessing.sequence.pad_sequences(x_train, value=word_to_index[\"<PAD>\"], padding='post', maxlen=maxlen)\n",
    "x_test_post = keras.preprocessing.sequence.pad_sequences(x_test, value=word_to_index[\"<PAD>\"], padding='post', maxlen=maxlen)\n",
    "\n",
    "x_train_pre = keras.preprocessing.sequence.pad_sequences(x_train, value=word_to_index[\"<PAD>\"], padding='pre', maxlen=maxlen)\n",
    "x_test_pre = keras.preprocessing.sequence.pad_sequences(x_test, value=word_to_index[\"<PAD>\"], padding='pre', maxlen=maxlen)\n",
    "\n",
    "print(x_train_post.shape)"
   ]
  },
  {
   "cell_type": "markdown",
   "id": "typical-variance",
   "metadata": {},
   "source": [
    "## 4. 모델구성 및 validation set 구성\n",
    "\n",
    "여러 개의 모델을 구성해보자.\n",
    "\n",
    "우선 40000만개의 데이터를 validation set으로 구성하자."
   ]
  },
  {
   "cell_type": "code",
   "execution_count": 11,
   "id": "pleasant-barrier",
   "metadata": {},
   "outputs": [
    {
     "name": "stdout",
     "output_type": "stream",
     "text": [
      "(106182, 41)\n",
      "(106182,)\n"
     ]
    }
   ],
   "source": [
    "# validation set\n",
    "x_val_post = x_train_post[:40000]\n",
    "x_val_pre = x_train_pre[:40000]\n",
    "y_val = y_train[:40000]   \n",
    "\n",
    "# train set\n",
    "partial_x_train_post = x_train_post[40000:]  \n",
    "partial_x_train_pre = x_train_pre[40000:]\n",
    "partial_y_train = y_train[40000:]\n",
    "\n",
    "print(partial_x_train_post.shape)\n",
    "print(partial_y_train.shape)"
   ]
  },
  {
   "cell_type": "markdown",
   "id": "excessive-buddy",
   "metadata": {},
   "source": [
    "### RNN을 사용한 모델"
   ]
  },
  {
   "cell_type": "code",
   "execution_count": 12,
   "id": "selective-growth",
   "metadata": {},
   "outputs": [
    {
     "name": "stdout",
     "output_type": "stream",
     "text": [
      "Model: \"sequential\"\n",
      "_________________________________________________________________\n",
      "Layer (type)                 Output Shape              Param #   \n",
      "=================================================================\n",
      "embedding (Embedding)        (None, None, 100)         1000000   \n",
      "_________________________________________________________________\n",
      "lstm (LSTM)                  (None, 128)               117248    \n",
      "_________________________________________________________________\n",
      "dense (Dense)                (None, 512)               66048     \n",
      "_________________________________________________________________\n",
      "dense_1 (Dense)              (None, 1)                 513       \n",
      "=================================================================\n",
      "Total params: 1,183,809\n",
      "Trainable params: 1,183,809\n",
      "Non-trainable params: 0\n",
      "_________________________________________________________________\n"
     ]
    }
   ],
   "source": [
    "# 하이퍼 파라미터\n",
    "vocab_size = 10000\n",
    "word_vector_dim = 100\n",
    "lstm_output = 128\n",
    "dense_ouput = 512\n",
    "\n",
    "\n",
    "rnn_model = keras.Sequential()\n",
    "rnn_model.add(keras.layers.Embedding(vocab_size, word_vector_dim, input_shape=(None,)))\n",
    "rnn_model.add(keras.layers.LSTM(lstm_output))\n",
    "rnn_model.add(keras.layers.Dense(dense_ouput, activation='relu'))\n",
    "rnn_model.add(keras.layers.Dense(1, activation='sigmoid'))\n",
    "\n",
    "rnn_model.summary()"
   ]
  },
  {
   "cell_type": "markdown",
   "id": "vulnerable-compiler",
   "metadata": {},
   "source": [
    "### 1-D Convolution을 사용한 모델"
   ]
  },
  {
   "cell_type": "code",
   "execution_count": 13,
   "id": "cellular-birthday",
   "metadata": {},
   "outputs": [
    {
     "name": "stdout",
     "output_type": "stream",
     "text": [
      "Model: \"sequential_1\"\n",
      "_________________________________________________________________\n",
      "Layer (type)                 Output Shape              Param #   \n",
      "=================================================================\n",
      "embedding_1 (Embedding)      (None, None, 100)         1000000   \n",
      "_________________________________________________________________\n",
      "conv1d (Conv1D)              (None, None, 64)          44864     \n",
      "_________________________________________________________________\n",
      "max_pooling1d (MaxPooling1D) (None, None, 64)          0         \n",
      "_________________________________________________________________\n",
      "conv1d_1 (Conv1D)            (None, None, 64)          28736     \n",
      "_________________________________________________________________\n",
      "global_max_pooling1d (Global (None, 64)                0         \n",
      "_________________________________________________________________\n",
      "dense_2 (Dense)              (None, 128)               8320      \n",
      "_________________________________________________________________\n",
      "dense_3 (Dense)              (None, 1)                 129       \n",
      "=================================================================\n",
      "Total params: 1,082,049\n",
      "Trainable params: 1,082,049\n",
      "Non-trainable params: 0\n",
      "_________________________________________________________________\n"
     ]
    }
   ],
   "source": [
    "# 하이퍼 파라미터\n",
    "vocab_size = 10000\n",
    "word_vector_dim = 100\n",
    "conv_filters = 64\n",
    "conv_kernel_size = 7\n",
    "dense_ouput = 128\n",
    "\n",
    "cnn_model = keras.Sequential()\n",
    "cnn_model.add(keras.layers.Embedding(vocab_size, word_vector_dim, input_shape=(None,)))\n",
    "cnn_model.add(keras.layers.Conv1D(conv_filters, conv_kernel_size, activation='relu'))\n",
    "cnn_model.add(keras.layers.MaxPooling1D(5))\n",
    "cnn_model.add(keras.layers.Conv1D(conv_filters, conv_kernel_size, activation='relu'))\n",
    "cnn_model.add(keras.layers.GlobalMaxPooling1D())\n",
    "cnn_model.add(keras.layers.Dense(dense_ouput, activation='relu'))\n",
    "cnn_model.add(keras.layers.Dense(1, activation='sigmoid'))  # 최종 출력은 긍정/부정을 나타내는 1dim 입니다.\n",
    "\n",
    "cnn_model.summary()"
   ]
  },
  {
   "cell_type": "markdown",
   "id": "elementary-ocean",
   "metadata": {},
   "source": [
    "### GlobalMaxPooling1D 사용하는 모델"
   ]
  },
  {
   "cell_type": "code",
   "execution_count": 14,
   "id": "collected-delivery",
   "metadata": {},
   "outputs": [
    {
     "name": "stdout",
     "output_type": "stream",
     "text": [
      "Model: \"sequential_2\"\n",
      "_________________________________________________________________\n",
      "Layer (type)                 Output Shape              Param #   \n",
      "=================================================================\n",
      "embedding_2 (Embedding)      (None, None, 100)         1000000   \n",
      "_________________________________________________________________\n",
      "global_max_pooling1d_1 (Glob (None, 100)               0         \n",
      "_________________________________________________________________\n",
      "dense_4 (Dense)              (None, 128)               12928     \n",
      "_________________________________________________________________\n",
      "dense_5 (Dense)              (None, 1)                 129       \n",
      "=================================================================\n",
      "Total params: 1,013,057\n",
      "Trainable params: 1,013,057\n",
      "Non-trainable params: 0\n",
      "_________________________________________________________________\n"
     ]
    }
   ],
   "source": [
    "# 하이퍼 파라미터\n",
    "vocab_size = 10000\n",
    "word_vector_dim = 100\n",
    "dense_ouput = 128\n",
    "\n",
    "glo_model = keras.Sequential()\n",
    "glo_model.add(keras.layers.Embedding(vocab_size, word_vector_dim, input_shape=(None,)))\n",
    "glo_model.add(keras.layers.GlobalMaxPooling1D())\n",
    "glo_model.add(keras.layers.Dense(dense_ouput, activation='relu'))\n",
    "glo_model.add(keras.layers.Dense(1, activation='sigmoid'))  # 최종 출력은 긍정/부정을 나타내는 1dim 입니다.\n",
    "\n",
    "glo_model.summary()"
   ]
  },
  {
   "cell_type": "markdown",
   "id": "outstanding-richardson",
   "metadata": {},
   "source": [
    "## 5. 모델 훈련 개시\n",
    "\n",
    "위에서 만든 모델들을 학습 시키자.  \n",
    "간편하게 함수로 만들어 여러 모델과 데이터에 대하여 학습을 시킨다."
   ]
  },
  {
   "cell_type": "code",
   "execution_count": 15,
   "id": "innocent-trade",
   "metadata": {},
   "outputs": [],
   "source": [
    "def train_model(model, x, y, epochs, batch_size, val_data):\n",
    "    model.compile(optimizer='adam', loss='binary_crossentropy', metrics=['accuracy'])\n",
    "    history = model.fit(x, y, epochs=epochs, batch_size=batch_size, validation_data=val_data, verbose=1)\n",
    "    \n",
    "    return history"
   ]
  },
  {
   "cell_type": "markdown",
   "id": "material-greeting",
   "metadata": {},
   "source": [
    "rnn모델을 post와 pre 데이터로 학습시켜보자."
   ]
  },
  {
   "cell_type": "code",
   "execution_count": 16,
   "id": "realistic-citation",
   "metadata": {},
   "outputs": [
    {
     "name": "stdout",
     "output_type": "stream",
     "text": [
      "Epoch 1/10\n",
      "208/208 [==============================] - 10s 35ms/step - loss: 0.5693 - accuracy: 0.6483 - val_loss: 0.3583 - val_accuracy: 0.8407\n",
      "Epoch 2/10\n",
      "208/208 [==============================] - 6s 31ms/step - loss: 0.3363 - accuracy: 0.8564 - val_loss: 0.3551 - val_accuracy: 0.8449\n",
      "Epoch 3/10\n",
      "208/208 [==============================] - 6s 31ms/step - loss: 0.3002 - accuracy: 0.8738 - val_loss: 0.3536 - val_accuracy: 0.8457\n",
      "Epoch 4/10\n",
      "208/208 [==============================] - 6s 31ms/step - loss: 0.2765 - accuracy: 0.8836 - val_loss: 0.3445 - val_accuracy: 0.8516\n",
      "Epoch 5/10\n",
      "208/208 [==============================] - 6s 31ms/step - loss: 0.2496 - accuracy: 0.8972 - val_loss: 0.3436 - val_accuracy: 0.8521\n",
      "Epoch 6/10\n",
      "208/208 [==============================] - 6s 31ms/step - loss: 0.2243 - accuracy: 0.9093 - val_loss: 0.4091 - val_accuracy: 0.8543\n",
      "Epoch 7/10\n",
      "208/208 [==============================] - 7s 31ms/step - loss: 0.2003 - accuracy: 0.9187 - val_loss: 0.4440 - val_accuracy: 0.8508\n",
      "Epoch 8/10\n",
      "208/208 [==============================] - 6s 31ms/step - loss: 0.1774 - accuracy: 0.9297 - val_loss: 0.4075 - val_accuracy: 0.8484\n",
      "Epoch 9/10\n",
      "208/208 [==============================] - 7s 31ms/step - loss: 0.1641 - accuracy: 0.9365 - val_loss: 0.4076 - val_accuracy: 0.8493\n",
      "Epoch 10/10\n",
      "208/208 [==============================] - 6s 31ms/step - loss: 0.1463 - accuracy: 0.9447 - val_loss: 0.5111 - val_accuracy: 0.8414\n"
     ]
    }
   ],
   "source": [
    "rnn_history = train_model(rnn_model, partial_x_train_post, partial_y_train, 10, 512, (x_val_post, y_val))"
   ]
  },
  {
   "cell_type": "code",
   "execution_count": 17,
   "id": "departmental-cookie",
   "metadata": {},
   "outputs": [
    {
     "name": "stdout",
     "output_type": "stream",
     "text": [
      "1537/1537 - 5s - loss: 0.5171 - accuracy: 0.8364\n",
      "결과 : [0.5170636177062988, 0.8363610506057739]\n"
     ]
    }
   ],
   "source": [
    "results = rnn_model.evaluate(x_test_post,  y_test, verbose=2)\n",
    "print(f'결과 : {results}')"
   ]
  },
  {
   "cell_type": "code",
   "execution_count": 18,
   "id": "military-operator",
   "metadata": {},
   "outputs": [
    {
     "name": "stdout",
     "output_type": "stream",
     "text": [
      "Epoch 1/10\n",
      "208/208 [==============================] - 9s 34ms/step - loss: 0.1705 - accuracy: 0.9349 - val_loss: 0.4631 - val_accuracy: 0.8487\n",
      "Epoch 2/10\n",
      "208/208 [==============================] - 6s 31ms/step - loss: 0.1205 - accuracy: 0.9559 - val_loss: 0.5393 - val_accuracy: 0.8433\n",
      "Epoch 3/10\n",
      "208/208 [==============================] - 7s 31ms/step - loss: 0.1095 - accuracy: 0.9597 - val_loss: 0.5915 - val_accuracy: 0.8417\n",
      "Epoch 4/10\n",
      "208/208 [==============================] - 7s 31ms/step - loss: 0.1010 - accuracy: 0.9622 - val_loss: 0.6830 - val_accuracy: 0.8464\n",
      "Epoch 5/10\n",
      "208/208 [==============================] - 6s 31ms/step - loss: 0.0895 - accuracy: 0.9660 - val_loss: 0.6979 - val_accuracy: 0.8467\n",
      "Epoch 6/10\n",
      "208/208 [==============================] - 7s 31ms/step - loss: 0.0816 - accuracy: 0.9702 - val_loss: 0.8045 - val_accuracy: 0.8413\n",
      "Epoch 7/10\n",
      "208/208 [==============================] - 7s 32ms/step - loss: 0.0744 - accuracy: 0.9718 - val_loss: 0.8456 - val_accuracy: 0.8404\n",
      "Epoch 8/10\n",
      "208/208 [==============================] - 7s 32ms/step - loss: 0.0690 - accuracy: 0.9732 - val_loss: 0.8442 - val_accuracy: 0.8415\n",
      "Epoch 9/10\n",
      "208/208 [==============================] - 7s 31ms/step - loss: 0.0643 - accuracy: 0.9755 - val_loss: 0.8910 - val_accuracy: 0.8423\n",
      "Epoch 10/10\n",
      "208/208 [==============================] - 7s 32ms/step - loss: 0.0580 - accuracy: 0.9773 - val_loss: 0.8737 - val_accuracy: 0.8396\n"
     ]
    }
   ],
   "source": [
    "rnn_history_pre = train_model(rnn_model, partial_x_train_pre, partial_y_train, 10, 512, (x_val_pre, y_val))"
   ]
  },
  {
   "cell_type": "code",
   "execution_count": 19,
   "id": "wanted-villa",
   "metadata": {},
   "outputs": [
    {
     "name": "stdout",
     "output_type": "stream",
     "text": [
      "1537/1537 - 5s - loss: 0.8781 - accuracy: 0.8360\n",
      "결과 : [0.8780755400657654, 0.8360355496406555]\n"
     ]
    }
   ],
   "source": [
    "results = rnn_model.evaluate(x_test_pre,  y_test, verbose=2)\n",
    "print(f'결과 : {results}')"
   ]
  },
  {
   "cell_type": "markdown",
   "id": "corrected-might",
   "metadata": {},
   "source": [
    "마찬가지로 cnn가 globalmaxpooling모델을 사용한 경우도 학습시켜본다."
   ]
  },
  {
   "cell_type": "code",
   "execution_count": 20,
   "id": "lucky-signature",
   "metadata": {},
   "outputs": [
    {
     "name": "stdout",
     "output_type": "stream",
     "text": [
      "Epoch 1/10\n",
      "208/208 [==============================] - 10s 36ms/step - loss: 0.5373 - accuracy: 0.6973 - val_loss: 0.3403 - val_accuracy: 0.8516\n",
      "Epoch 2/10\n",
      "208/208 [==============================] - 4s 21ms/step - loss: 0.2942 - accuracy: 0.8781 - val_loss: 0.3344 - val_accuracy: 0.8545\n",
      "Epoch 3/10\n",
      "208/208 [==============================] - 4s 21ms/step - loss: 0.2076 - accuracy: 0.9218 - val_loss: 0.3571 - val_accuracy: 0.8510\n",
      "Epoch 4/10\n",
      "208/208 [==============================] - 4s 21ms/step - loss: 0.1181 - accuracy: 0.9606 - val_loss: 0.4496 - val_accuracy: 0.8437\n",
      "Epoch 5/10\n",
      "208/208 [==============================] - 4s 21ms/step - loss: 0.0644 - accuracy: 0.9791 - val_loss: 0.5683 - val_accuracy: 0.8401\n",
      "Epoch 6/10\n",
      "208/208 [==============================] - 5s 22ms/step - loss: 0.0398 - accuracy: 0.9874 - val_loss: 0.6848 - val_accuracy: 0.8420\n",
      "Epoch 7/10\n",
      "208/208 [==============================] - 4s 21ms/step - loss: 0.0261 - accuracy: 0.9918 - val_loss: 0.8012 - val_accuracy: 0.8344\n",
      "Epoch 8/10\n",
      "208/208 [==============================] - 4s 21ms/step - loss: 0.0244 - accuracy: 0.9917 - val_loss: 0.8295 - val_accuracy: 0.8316\n",
      "Epoch 9/10\n",
      "208/208 [==============================] - 4s 21ms/step - loss: 0.0313 - accuracy: 0.9879 - val_loss: 0.8024 - val_accuracy: 0.8361\n",
      "Epoch 10/10\n",
      "208/208 [==============================] - 4s 21ms/step - loss: 0.0217 - accuracy: 0.9919 - val_loss: 0.8969 - val_accuracy: 0.8388\n"
     ]
    }
   ],
   "source": [
    "cnn_history = train_model(cnn_model, partial_x_train_post, partial_y_train, 10, 512, (x_val_post, y_val))"
   ]
  },
  {
   "cell_type": "code",
   "execution_count": 21,
   "id": "incredible-ecology",
   "metadata": {},
   "outputs": [
    {
     "name": "stdout",
     "output_type": "stream",
     "text": [
      "1537/1537 - 4s - loss: 0.9110 - accuracy: 0.8346\n",
      "결과 : [0.9110322594642639, 0.8345504999160767]\n"
     ]
    }
   ],
   "source": [
    "results = cnn_model.evaluate(x_test_post,  y_test, verbose=2)\n",
    "print(f'결과 : {results}')"
   ]
  },
  {
   "cell_type": "code",
   "execution_count": 22,
   "id": "caring-reader",
   "metadata": {},
   "outputs": [
    {
     "name": "stdout",
     "output_type": "stream",
     "text": [
      "Epoch 1/10\n",
      "208/208 [==============================] - 5s 23ms/step - loss: 0.2048 - accuracy: 0.9166 - val_loss: 0.4581 - val_accuracy: 0.8455\n",
      "Epoch 2/10\n",
      "208/208 [==============================] - 4s 21ms/step - loss: 0.0735 - accuracy: 0.9731 - val_loss: 0.6081 - val_accuracy: 0.8396\n",
      "Epoch 3/10\n",
      "208/208 [==============================] - 4s 21ms/step - loss: 0.0403 - accuracy: 0.9860 - val_loss: 0.7955 - val_accuracy: 0.8372\n",
      "Epoch 4/10\n",
      "208/208 [==============================] - 4s 21ms/step - loss: 0.0279 - accuracy: 0.9898 - val_loss: 0.9071 - val_accuracy: 0.8414\n",
      "Epoch 5/10\n",
      "208/208 [==============================] - 4s 21ms/step - loss: 0.0264 - accuracy: 0.9902 - val_loss: 0.8492 - val_accuracy: 0.8354\n",
      "Epoch 6/10\n",
      "208/208 [==============================] - 4s 21ms/step - loss: 0.0210 - accuracy: 0.9923 - val_loss: 0.9811 - val_accuracy: 0.8364\n",
      "Epoch 7/10\n",
      "208/208 [==============================] - 4s 21ms/step - loss: 0.0221 - accuracy: 0.9919 - val_loss: 0.9782 - val_accuracy: 0.8320\n",
      "Epoch 8/10\n",
      "208/208 [==============================] - 4s 21ms/step - loss: 0.0175 - accuracy: 0.9933 - val_loss: 1.0145 - val_accuracy: 0.8392\n",
      "Epoch 9/10\n",
      "208/208 [==============================] - 4s 21ms/step - loss: 0.0148 - accuracy: 0.9944 - val_loss: 1.1614 - val_accuracy: 0.8357\n",
      "Epoch 10/10\n",
      "208/208 [==============================] - 4s 22ms/step - loss: 0.0147 - accuracy: 0.9942 - val_loss: 1.0857 - val_accuracy: 0.8339\n"
     ]
    }
   ],
   "source": [
    "cnn_history = train_model(cnn_model, partial_x_train_pre, partial_y_train, 10, 512, (x_val_pre, y_val))"
   ]
  },
  {
   "cell_type": "code",
   "execution_count": 23,
   "id": "final-purse",
   "metadata": {},
   "outputs": [
    {
     "name": "stdout",
     "output_type": "stream",
     "text": [
      "1537/1537 - 3s - loss: 1.1444 - accuracy: 0.8311\n",
      "결과 : [1.1444281339645386, 0.8310515284538269]\n"
     ]
    }
   ],
   "source": [
    "results = cnn_model.evaluate(x_test_pre,  y_test, verbose=2)\n",
    "print(f'결과 : {results}')"
   ]
  },
  {
   "cell_type": "code",
   "execution_count": 24,
   "id": "swiss-syndicate",
   "metadata": {},
   "outputs": [
    {
     "name": "stdout",
     "output_type": "stream",
     "text": [
      "Epoch 1/10\n",
      "208/208 [==============================] - 3s 13ms/step - loss: 0.5650 - accuracy: 0.7200 - val_loss: 0.3472 - val_accuracy: 0.8478\n",
      "Epoch 2/10\n",
      "208/208 [==============================] - 3s 12ms/step - loss: 0.3058 - accuracy: 0.8709 - val_loss: 0.3387 - val_accuracy: 0.8533\n",
      "Epoch 3/10\n",
      "208/208 [==============================] - 3s 13ms/step - loss: 0.2523 - accuracy: 0.8997 - val_loss: 0.3500 - val_accuracy: 0.8523\n",
      "Epoch 4/10\n",
      "208/208 [==============================] - 3s 12ms/step - loss: 0.2045 - accuracy: 0.9239 - val_loss: 0.3744 - val_accuracy: 0.8486\n",
      "Epoch 5/10\n",
      "208/208 [==============================] - 3s 12ms/step - loss: 0.1632 - accuracy: 0.9414 - val_loss: 0.4127 - val_accuracy: 0.8457\n",
      "Epoch 6/10\n",
      "208/208 [==============================] - 3s 12ms/step - loss: 0.1227 - accuracy: 0.9598 - val_loss: 0.4629 - val_accuracy: 0.8416\n",
      "Epoch 7/10\n",
      "208/208 [==============================] - 3s 13ms/step - loss: 0.0875 - accuracy: 0.9734 - val_loss: 0.5303 - val_accuracy: 0.8365\n",
      "Epoch 8/10\n",
      "208/208 [==============================] - 3s 12ms/step - loss: 0.0621 - accuracy: 0.9822 - val_loss: 0.5892 - val_accuracy: 0.8335\n",
      "Epoch 9/10\n",
      "208/208 [==============================] - 3s 13ms/step - loss: 0.0449 - accuracy: 0.9876 - val_loss: 0.6515 - val_accuracy: 0.8339\n",
      "Epoch 10/10\n",
      "208/208 [==============================] - 3s 12ms/step - loss: 0.0300 - accuracy: 0.9924 - val_loss: 0.7173 - val_accuracy: 0.8322\n"
     ]
    }
   ],
   "source": [
    "glo_history = train_model(glo_model, partial_x_train_post, partial_y_train, 10, 512, (x_val_post, y_val))"
   ]
  },
  {
   "cell_type": "code",
   "execution_count": 25,
   "id": "tough-hearts",
   "metadata": {},
   "outputs": [
    {
     "name": "stdout",
     "output_type": "stream",
     "text": [
      "1537/1537 - 2s - loss: 0.7286 - accuracy: 0.8290\n",
      "결과 : [0.7285672426223755, 0.8290375471115112]\n"
     ]
    }
   ],
   "source": [
    "results = glo_model.evaluate(x_test_post,  y_test, verbose=2)\n",
    "print(f'결과 : {results}')"
   ]
  },
  {
   "cell_type": "code",
   "execution_count": 26,
   "id": "prescribed-publication",
   "metadata": {},
   "outputs": [
    {
     "name": "stdout",
     "output_type": "stream",
     "text": [
      "Epoch 1/10\n",
      "208/208 [==============================] - 3s 13ms/step - loss: 0.0264 - accuracy: 0.9921 - val_loss: 0.8271 - val_accuracy: 0.8292\n",
      "Epoch 2/10\n",
      "208/208 [==============================] - 3s 13ms/step - loss: 0.0194 - accuracy: 0.9942 - val_loss: 0.9137 - val_accuracy: 0.8279\n",
      "Epoch 3/10\n",
      "208/208 [==============================] - 3s 12ms/step - loss: 0.0135 - accuracy: 0.9957 - val_loss: 0.9677 - val_accuracy: 0.8281\n",
      "Epoch 4/10\n",
      "208/208 [==============================] - 3s 13ms/step - loss: 0.0112 - accuracy: 0.9961 - val_loss: 1.0252 - val_accuracy: 0.8253\n",
      "Epoch 5/10\n",
      "208/208 [==============================] - 3s 12ms/step - loss: 0.0091 - accuracy: 0.9964 - val_loss: 1.0780 - val_accuracy: 0.8243\n",
      "Epoch 6/10\n",
      "208/208 [==============================] - 3s 12ms/step - loss: 0.0083 - accuracy: 0.9966 - val_loss: 1.1288 - val_accuracy: 0.8261\n",
      "Epoch 7/10\n",
      "208/208 [==============================] - 3s 12ms/step - loss: 0.0077 - accuracy: 0.9968 - val_loss: 1.1819 - val_accuracy: 0.8244\n",
      "Epoch 8/10\n",
      "208/208 [==============================] - 3s 13ms/step - loss: 0.0071 - accuracy: 0.9971 - val_loss: 1.2233 - val_accuracy: 0.8247\n",
      "Epoch 9/10\n",
      "208/208 [==============================] - 3s 13ms/step - loss: 0.0072 - accuracy: 0.9968 - val_loss: 1.2749 - val_accuracy: 0.8221\n",
      "Epoch 10/10\n",
      "208/208 [==============================] - 3s 12ms/step - loss: 0.0104 - accuracy: 0.9955 - val_loss: 1.3607 - val_accuracy: 0.8196\n"
     ]
    }
   ],
   "source": [
    "glo_history = train_model(glo_model, partial_x_train_pre, partial_y_train, 10, 512, (x_val_pre, y_val))"
   ]
  },
  {
   "cell_type": "code",
   "execution_count": 27,
   "id": "liquid-spoke",
   "metadata": {},
   "outputs": [
    {
     "name": "stdout",
     "output_type": "stream",
     "text": [
      "1537/1537 - 2s - loss: 1.3684 - accuracy: 0.8172\n",
      "결과 : [1.3683699369430542, 0.8171979784965515]\n"
     ]
    }
   ],
   "source": [
    "results = glo_model.evaluate(x_test_pre,  y_test, verbose=2)\n",
    "print(f'결과 : {results}')"
   ]
  },
  {
   "cell_type": "markdown",
   "id": "returning-employment",
   "metadata": {},
   "source": [
    "## 6.  Loss, Accuracy 그래프 시각화\n",
    "\n",
    "history를 이용하여 학습 과정을 그래프로 시각화시켜보자."
   ]
  },
  {
   "cell_type": "code",
   "execution_count": 28,
   "id": "fluid-roulette",
   "metadata": {},
   "outputs": [
    {
     "name": "stdout",
     "output_type": "stream",
     "text": [
      "dict_keys(['loss', 'accuracy', 'val_loss', 'val_accuracy'])\n"
     ]
    }
   ],
   "source": [
    "history_dict = rnn_history.history\n",
    "print(history_dict.keys()) # epoch에 따른 그래프를 그려볼 수 있는 항목들"
   ]
  },
  {
   "cell_type": "code",
   "execution_count": 29,
   "id": "chicken-polymer",
   "metadata": {},
   "outputs": [],
   "source": [
    "def draw_history(history):\n",
    "    fig = plt.figure()\n",
    "    loss_ax = fig.add_subplot(2, 1, 1)\n",
    "    acc_ax = fig.add_subplot(2, 1, 2)\n",
    "    \n",
    "    loss_ax.plot(history.history['loss'], 'y', label='train loss')\n",
    "    loss_ax.plot(history.history['val_loss'], 'r', label='val loss')\n",
    "    acc_ax.plot(history.history['accuracy'], 'b', label='train acc')\n",
    "    acc_ax.plot(history.history['val_accuracy'], 'g', label='val acc')\n",
    "    \n",
    "    loss_ax.set_xlabel('epoch')\n",
    "    loss_ax.set_ylabel('loss')\n",
    "    acc_ax.set_ylabel('accuray')\n",
    "    \n",
    "    loss_ax.legend(loc='upper left')\n",
    "    acc_ax.legend(loc='lower left')\n",
    "\n",
    "    plt.show()"
   ]
  },
  {
   "cell_type": "code",
   "execution_count": 30,
   "id": "outdoor-regulation",
   "metadata": {},
   "outputs": [
    {
     "data": {
      "image/png": "[encoded data removed]",
      "text/plain": [
       "<Figure size 432x288 with 2 Axes>"
      ]
     },
     "metadata": {
      "needs_background": "light"
     },
     "output_type": "display_data"
    }
   ],
   "source": [
    "draw_history(rnn_history)"
   ]
  },
  {
   "cell_type": "code",
   "execution_count": 31,
   "id": "pharmaceutical-yield",
   "metadata": {},
   "outputs": [
    {
     "data": {
      "image/png": "[encoded data removed]",
      "text/plain": [
       "<Figure size 432x288 with 2 Axes>"
      ]
     },
     "metadata": {
      "needs_background": "light"
     },
     "output_type": "display_data"
    }
   ],
   "source": [
    "draw_history(cnn_history)"
   ]
  },
  {
   "cell_type": "code",
   "execution_count": 32,
   "id": "fresh-estimate",
   "metadata": {},
   "outputs": [
    {
     "data": {
      "image/png": "[encoded data removed]",
      "text/plain": [
       "<Figure size 432x288 with 2 Axes>"
      ]
     },
     "metadata": {
      "needs_background": "light"
     },
     "output_type": "display_data"
    }
   ],
   "source": [
    "draw_history(glo_history)"
   ]
  },
  {
   "cell_type": "markdown",
   "id": "round-kitty",
   "metadata": {},
   "source": [
    "학습 결과를 확인한 결과 예상 외로 pad를 pre에 넣은 것 보다 post를 넣은 경우가 더 좋은 결과가 나왔다.\n",
    "\n",
    "그리고 전반적으로 학습할수록 validation이 떨어지는 걸로보아 overfit된걸로 보인다.  \n",
    "dropout이나, batchnormalize같은 레이어를 추가하여야 할 거 같다."
   ]
  },
  {
   "cell_type": "markdown",
   "id": "conventional-following",
   "metadata": {},
   "source": [
    "## 7. 학습된 Embedding 레이어 분석\n",
    "\n",
    "위의 학습으로 만들어진 임베딩 레이어를 분석해보자."
   ]
  },
  {
   "cell_type": "code",
   "execution_count": 34,
   "id": "direct-prairie",
   "metadata": {},
   "outputs": [
    {
     "name": "stdout",
     "output_type": "stream",
     "text": [
      "(10000, 100)\n"
     ]
    }
   ],
   "source": [
    "embedding_layer = rnn_model.layers[0]\n",
    "weights = embedding_layer.get_weights()[0]\n",
    "print(weights.shape)    # shape: (vocab_size, embedding_dim)"
   ]
  },
  {
   "cell_type": "code",
   "execution_count": 36,
   "id": "adjacent-utility",
   "metadata": {},
   "outputs": [],
   "source": [
    "# 학습한 Embedding 파라미터를 파일에 써서 저장합니다. \n",
    "word2vec_file_path = os.getenv('HOME')+'/aiffel/Exploration/E07_AnalysisNaverMovieReviews/data/word2vec_rnn.txt'\n",
    "f = open(word2vec_file_path, 'w')\n",
    "f.write('{} {}\\n'.format(vocab_size-4, word_vector_dim))  # 몇개의 벡터를 얼마 사이즈로 기재할지 타이틀을 씁니다.\n",
    "\n",
    "# 단어 개수(에서 특수문자 4개는 제외하고)만큼의 워드 벡터를 파일에 기록합니다. \n",
    "vectors = rnn_model.get_weights()[0]\n",
    "for i in range(4,vocab_size):\n",
    "    f.write('{} {}\\n'.format(index_to_word[i], ' '.join(map(str, list(vectors[i, :])))))\n",
    "f.close()"
   ]
  },
  {
   "cell_type": "markdown",
   "id": "mobile-ticket",
   "metadata": {},
   "source": [
    "위에서 저장한 word2vec를 gensim을 이용하여 활용해보자."
   ]
  },
  {
   "cell_type": "code",
   "execution_count": 38,
   "id": "discrete-candidate",
   "metadata": {},
   "outputs": [
    {
     "data": {
      "text/plain": [
       "array([ 0.01781549, -0.04791987,  0.04822287,  0.02396975, -0.04763526,\n",
       "       -0.00391535, -0.00032974,  0.00153115, -0.04410589,  0.01621325,\n",
       "       -0.00970161, -0.00065181, -0.01877561,  0.01648282,  0.02526707,\n",
       "       -0.01483635, -0.05240749, -0.0186971 , -0.01086484,  0.01572185,\n",
       "        0.03678608, -0.00578166, -0.04981833, -0.00783142,  0.03978392,\n",
       "        0.0422303 ,  0.05099586,  0.00290733, -0.01983805, -0.01608467,\n",
       "       -0.04543546, -0.00532634,  0.02262577,  0.0186555 ,  0.02215891,\n",
       "        0.05301909,  0.03314031,  0.01262058, -0.00134843, -0.04497351,\n",
       "       -0.03389598, -0.08406056,  0.00579309, -0.01358179,  0.01444559,\n",
       "       -0.03401092,  0.01461152,  0.05646025,  0.01904467, -0.02343385,\n",
       "        0.00710843, -0.06060328, -0.0259028 , -0.05978473, -0.0455312 ,\n",
       "       -0.02372305,  0.02554787,  0.03175697,  0.04955297,  0.00951195,\n",
       "       -0.01514804,  0.01983827,  0.08765844,  0.03172155, -0.01172354,\n",
       "       -0.05517138,  0.00979511,  0.04239251,  0.0659629 ,  0.06493226,\n",
       "        0.02015796,  0.00139056, -0.00283905,  0.07818539, -0.00208794,\n",
       "        0.00039117, -0.06911947,  0.04330365, -0.05408214,  0.02162045,\n",
       "        0.043064  ,  0.00660386,  0.03462837,  0.00652221, -0.03541435,\n",
       "       -0.09198458, -0.06647611, -0.01534352, -0.00056883,  0.03693384,\n",
       "       -0.02032995,  0.04778114, -0.00165213, -0.00950349,  0.00582609,\n",
       "        0.00049307,  0.01722362,  0.04310233,  0.0051132 , -0.02952778],\n",
       "      dtype=float32)"
      ]
     },
     "execution_count": 38,
     "metadata": {},
     "output_type": "execute_result"
    }
   ],
   "source": [
    "from gensim.models.keyedvectors import Word2VecKeyedVectors\n",
    "\n",
    "word_vectors = Word2VecKeyedVectors.load_word2vec_format(word2vec_file_path, binary=False)\n",
    "vector = word_vectors['영화']\n",
    "vector"
   ]
  },
  {
   "cell_type": "markdown",
   "id": "blessed-transaction",
   "metadata": {},
   "source": [
    "단어 임베딩이 잘 학습되었는지 확인하기 위해서 유사한 단어를 출력시켜보자."
   ]
  },
  {
   "cell_type": "code",
   "execution_count": 39,
   "id": "separate-objective",
   "metadata": {},
   "outputs": [
    {
     "data": {
      "text/plain": [
       "[('괜춘', 0.8696855306625366),\n",
       " ('~!!!', 0.8576535582542419),\n",
       " ('강렬', 0.8508882522583008),\n",
       " ('부조리', 0.8500752449035645),\n",
       " ('끝장', 0.8481454849243164),\n",
       " ('막연', 0.8442492485046387),\n",
       " ('이제서야', 0.8419989347457886),\n",
       " ('준다면', 0.8411141633987427),\n",
       " ('풍성', 0.8403722047805786),\n",
       " ('소울', 0.8402131795883179)]"
      ]
     },
     "execution_count": 39,
     "metadata": {},
     "output_type": "execute_result"
    }
   ],
   "source": [
    "word_vectors.similar_by_word(\"추천\")"
   ]
  },
  {
   "cell_type": "markdown",
   "id": "thermal-plane",
   "metadata": {},
   "source": [
    "가장 비슷한 3개는 추천의 의미와 비슷한것 같은데,  \n",
    "'부조리'나 '이제서야'같은 연관성이 없어 보이는 단어들도 보인다.\n",
    "\n",
    "아마 한정된 영화리뷰에서 학습을 하다보니 실제의미보다는  \n",
    "단순히 감정을 나타내는 부분에서 겹치는 단어가 우연히 많아서  \n",
    "그런게 아닐까 예상해본다."
   ]
  },
  {
   "cell_type": "markdown",
   "id": "certified-wallace",
   "metadata": {},
   "source": [
    "## 8. 한국어 Word2Vec 임베딩 활용하여 성능개선\n",
    "\n",
    "위와 같이 학습된 임베딩 레이어를 분석한 결과 실제 유사한 단어들이  \n",
    "이상한 경우도 있는것 같다.\n",
    "\n",
    "그래서 미리 학습된 임베딩을 활용하여 성능을 개선시켜보자.\n",
    "\n",
    "출저 : https://github.com/Kyubyong/wordvectors"
   ]
  },
  {
   "cell_type": "code",
   "execution_count": 40,
   "id": "accredited-heating",
   "metadata": {},
   "outputs": [
    {
     "data": {
      "text/plain": [
       "(30185, 200)"
      ]
     },
     "execution_count": 40,
     "metadata": {},
     "output_type": "execute_result"
    }
   ],
   "source": [
    "word2vec_path = os.getenv('HOME')+'/aiffel/Exploration/E07_AnalysisNaverMovieReviews/data/ko.bin'\n",
    "word2vec = gensim.models.Word2Vec.load(word2vec_path).wv\n",
    "word2vec.vectors.shape"
   ]
  },
  {
   "cell_type": "markdown",
   "id": "opening-disability",
   "metadata": {},
   "source": [
    "총 단어 개수는 30185개에 200차원의 벡터를 가진다.  \n",
    "영화리뷰에서 사용된 토큰화된 단어가 5만개 쯤이었으니, 모든 단어를 포함하지는 못할듯 하다.\n",
    "\n",
    "일단 불러온 임베딩의 단어 유사도를 확인해보자."
   ]
  },
  {
   "cell_type": "code",
   "execution_count": 43,
   "id": "solid-rogers",
   "metadata": {},
   "outputs": [
    {
     "name": "stdout",
     "output_type": "stream",
     "text": [
      "[('위촉', 0.6401861906051636), ('천거', 0.6389721632003784), ('추대', 0.5849215984344482), ('선출', 0.5803494453430176), ('초청', 0.5759262442588806), ('발탁', 0.5613522529602051), ('선정', 0.5511638522148132), ('임명', 0.5414161682128906), ('초빙', 0.5363222360610962), ('기용', 0.5326868295669556)]\n"
     ]
    }
   ],
   "source": [
    "result = word2vec.most_similar(\"추천\")\n",
    "print(result)"
   ]
  },
  {
   "cell_type": "markdown",
   "id": "fleet-chuck",
   "metadata": {},
   "source": [
    "너무 사전적인 단어들만 학습된게 아닐까 싶기도하다."
   ]
  },
  {
   "cell_type": "code",
   "execution_count": 44,
   "id": "rubber-protest",
   "metadata": {},
   "outputs": [
    {
     "name": "stdout",
     "output_type": "stream",
     "text": [
      "미리 학습된 임베딩 단어 개수 : 5807\n",
      "[',', '봤', '했', 'ㅋㅋ', '~', '1', 'ㅋㅋㅋ', '10', '재미없', '2', '3', '입니다', \"'\", '이게', '된', '봐도', '인데', '^^', '만든', '합니다']\n"
     ]
    }
   ],
   "source": [
    "vocab_size = 10000 \n",
    "word_vector_dim = 200\n",
    "\n",
    "embedding_matrix = np.random.rand(vocab_size, word_vector_dim)\n",
    "nonpretrained_words = []\n",
    "\n",
    "pretrained_count = 0\n",
    "# embedding_matrix에 Word2Vec 워드 벡터를 단어 하나씩마다 차례차례 카피한다.\n",
    "for i in range(4,vocab_size):\n",
    "    if index_to_word[i] in word2vec:\n",
    "        embedding_matrix[i] = word2vec[index_to_word[i]]\n",
    "        pretrained_count += 1\n",
    "    else:\n",
    "        nonpretrained_words.append(index_to_word[i])\n",
    "\n",
    "print(f'미리 학습된 임베딩 단어 개수 : {pretrained_count}')\n",
    "print(nonpretrained_words[:20])"
   ]
  },
  {
   "cell_type": "markdown",
   "id": "official-leadership",
   "metadata": {},
   "source": [
    "가장 많이 사용된 단어 10000개를 기준으로 5800개 가량의 단어가  \n",
    "미리 학습된 임베딩에 존재하였고, 나머지 'ㅋㅋ', '재미없'와 같이  \n",
    "의성어나 완성되지 못한 단어들은 따로 학습을 시켜주어야 할 듯 하다.\n",
    "\n",
    "이전의 오버피팅을 고려해서 dropout레이어들을 추가하였다."
   ]
  },
  {
   "cell_type": "code",
   "execution_count": 70,
   "id": "distinguished-working",
   "metadata": {},
   "outputs": [
    {
     "name": "stdout",
     "output_type": "stream",
     "text": [
      "Model: \"sequential_21\"\n",
      "_________________________________________________________________\n",
      "Layer (type)                 Output Shape              Param #   \n",
      "=================================================================\n",
      "embedding_21 (Embedding)     (None, None, 200)         2000000   \n",
      "_________________________________________________________________\n",
      "spatial_dropout1d_18 (Spatia (None, None, 200)         0         \n",
      "_________________________________________________________________\n",
      "lstm_28 (LSTM)               (None, None, 128)         168448    \n",
      "_________________________________________________________________\n",
      "global_max_pooling1d_9 (Glob (None, 128)               0         \n",
      "_________________________________________________________________\n",
      "dense_29 (Dense)             (None, 512)               66048     \n",
      "_________________________________________________________________\n",
      "dense_30 (Dense)             (None, 256)               131328    \n",
      "_________________________________________________________________\n",
      "dense_31 (Dense)             (None, 1)                 257       \n",
      "=================================================================\n",
      "Total params: 2,366,081\n",
      "Trainable params: 2,366,081\n",
      "Non-trainable params: 0\n",
      "_________________________________________________________________\n"
     ]
    }
   ],
   "source": [
    "# 하이퍼 파라미터\n",
    "vocab_size = 10000\n",
    "word_vector_dim = 200\n",
    "lstm_output = 128\n",
    "dense_ouput_1 = 512\n",
    "dense_ouput_2 = 256\n",
    "\n",
    "\n",
    "model = keras.Sequential()\n",
    "model.add(keras.layers.Embedding(vocab_size, word_vector_dim, input_shape=(None,)))\n",
    "model.add(keras.layers.SpatialDropout1D(0.4))\n",
    "model.add(keras.layers.LSTM(lstm_output, return_sequences=True, dropout=0.2))\n",
    "model.add(keras.layers.GlobalMaxPooling1D())\n",
    "model.add(keras.layers.Dense(dense_ouput_1, activation='relu'))\n",
    "model.add(keras.layers.Dense(dense_ouput_2, activation='relu'))\n",
    "model.add(keras.layers.Dense(1, activation='sigmoid'))\n",
    "\n",
    "model.summary()"
   ]
  },
  {
   "cell_type": "code",
   "execution_count": 71,
   "id": "informative-meaning",
   "metadata": {},
   "outputs": [
    {
     "name": "stdout",
     "output_type": "stream",
     "text": [
      "Epoch 1/10\n",
      "208/208 [==============================] - 12s 49ms/step - loss: 0.5303 - accuracy: 0.6968 - val_loss: 0.3606 - val_accuracy: 0.8416\n",
      "Epoch 2/10\n",
      "208/208 [==============================] - 10s 46ms/step - loss: 0.3192 - accuracy: 0.8650 - val_loss: 0.3190 - val_accuracy: 0.8610\n",
      "Epoch 3/10\n",
      "208/208 [==============================] - 10s 48ms/step - loss: 0.2719 - accuracy: 0.8865 - val_loss: 0.3280 - val_accuracy: 0.8597\n",
      "Epoch 4/10\n",
      "208/208 [==============================] - 10s 48ms/step - loss: 0.2430 - accuracy: 0.9014 - val_loss: 0.3304 - val_accuracy: 0.8627\n",
      "Epoch 5/10\n",
      "208/208 [==============================] - 10s 47ms/step - loss: 0.2168 - accuracy: 0.9147 - val_loss: 0.3444 - val_accuracy: 0.8599\n",
      "Epoch 6/10\n",
      "208/208 [==============================] - 10s 48ms/step - loss: 0.1959 - accuracy: 0.9225 - val_loss: 0.3692 - val_accuracy: 0.8546\n",
      "Epoch 7/10\n",
      "208/208 [==============================] - 10s 48ms/step - loss: 0.1776 - accuracy: 0.9300 - val_loss: 0.3755 - val_accuracy: 0.8583\n",
      "Epoch 8/10\n",
      "208/208 [==============================] - 10s 48ms/step - loss: 0.1611 - accuracy: 0.9365 - val_loss: 0.4184 - val_accuracy: 0.8572\n",
      "Epoch 9/10\n",
      "208/208 [==============================] - 10s 48ms/step - loss: 0.1494 - accuracy: 0.9415 - val_loss: 0.4372 - val_accuracy: 0.8518\n",
      "Epoch 10/10\n",
      "208/208 [==============================] - 10s 48ms/step - loss: 0.1347 - accuracy: 0.9472 - val_loss: 0.4508 - val_accuracy: 0.8533\n"
     ]
    }
   ],
   "source": [
    "history = train_model(model, partial_x_train_pre, partial_y_train, 10, 512, (x_val_pre, y_val))"
   ]
  },
  {
   "cell_type": "code",
   "execution_count": 72,
   "id": "painful-queens",
   "metadata": {},
   "outputs": [
    {
     "name": "stdout",
     "output_type": "stream",
     "text": [
      "1537/1537 - 5s - loss: 0.4546 - accuracy: 0.8493\n",
      "결과 : [0.45462512969970703, 0.8493195176124573]\n"
     ]
    }
   ],
   "source": [
    "results = model.evaluate(x_test_pre,  y_test, verbose=2)\n",
    "print(f'결과 : {results}')"
   ]
  },
  {
   "cell_type": "code",
   "execution_count": 73,
   "id": "designed-discrimination",
   "metadata": {},
   "outputs": [
    {
     "data": {
      "image/png": "[encoded data removed]",
      "text/plain": [
       "<Figure size 432x288 with 2 Axes>"
      ]
     },
     "metadata": {
      "needs_background": "light"
     },
     "output_type": "display_data"
    }
   ],
   "source": [
    "draw_history(history)"
   ]
  },
  {
   "cell_type": "markdown",
   "id": "handed-medline",
   "metadata": {},
   "source": [
    "다음으로 cnn에도 dropout을 추가하여 결과를 보자."
   ]
  },
  {
   "cell_type": "code",
   "execution_count": 74,
   "id": "automotive-worship",
   "metadata": {},
   "outputs": [
    {
     "name": "stdout",
     "output_type": "stream",
     "text": [
      "Model: \"sequential_22\"\n",
      "_________________________________________________________________\n",
      "Layer (type)                 Output Shape              Param #   \n",
      "=================================================================\n",
      "embedding_22 (Embedding)     (None, 41, 200)           2000000   \n",
      "_________________________________________________________________\n",
      "spatial_dropout1d_19 (Spatia (None, 41, 200)           0         \n",
      "_________________________________________________________________\n",
      "conv1d_2 (Conv1D)            (None, 35, 64)            89664     \n",
      "_________________________________________________________________\n",
      "max_pooling1d_5 (MaxPooling1 (None, 7, 64)             0         \n",
      "_________________________________________________________________\n",
      "dropout (Dropout)            (None, 7, 64)             0         \n",
      "_________________________________________________________________\n",
      "conv1d_3 (Conv1D)            (None, 1, 64)             28736     \n",
      "_________________________________________________________________\n",
      "global_max_pooling1d_10 (Glo (None, 64)                0         \n",
      "_________________________________________________________________\n",
      "dropout_1 (Dropout)          (None, 64)                0         \n",
      "_________________________________________________________________\n",
      "dense_32 (Dense)             (None, 128)               8320      \n",
      "_________________________________________________________________\n",
      "dense_33 (Dense)             (None, 1)                 129       \n",
      "=================================================================\n",
      "Total params: 2,126,849\n",
      "Trainable params: 2,126,849\n",
      "Non-trainable params: 0\n",
      "_________________________________________________________________\n"
     ]
    }
   ],
   "source": [
    "# 하이퍼 파라미터\n",
    "vocab_size = 10000\n",
    "word_vector_dim = 200\n",
    "conv_filters = 64\n",
    "conv_kernel_size = 7\n",
    "dense_ouput = 128\n",
    "\n",
    "model = keras.Sequential()\n",
    "model.add(keras.layers.Embedding(vocab_size, \n",
    "                                 word_vector_dim, \n",
    "                                 embeddings_initializer=Constant(embedding_matrix),  # 카피한 임베딩을 여기서 활용\n",
    "                                 input_length=maxlen, \n",
    "                                 trainable=True))   # trainable을 True로 주면 Fine-tuning\n",
    "model.add(keras.layers.SpatialDropout1D(0.4))\n",
    "model.add(keras.layers.Conv1D(conv_filters, conv_kernel_size, activation='relu'))\n",
    "model.add(keras.layers.MaxPooling1D(5))\n",
    "model.add(keras.layers.Dropout(0.2))\n",
    "model.add(keras.layers.Conv1D(conv_filters, conv_kernel_size, activation='relu'))\n",
    "model.add(keras.layers.GlobalMaxPooling1D())\n",
    "model.add(keras.layers.Dropout(0.2))\n",
    "model.add(keras.layers.Dense(dense_ouput, activation='relu'))\n",
    "model.add(keras.layers.Dense(1, activation='sigmoid'))  # 최종 출력은 긍정/부정을 나타내는 1dim 입니다.\n",
    "\n",
    "model.summary()"
   ]
  },
  {
   "cell_type": "code",
   "execution_count": 75,
   "id": "minute-daughter",
   "metadata": {},
   "outputs": [
    {
     "name": "stdout",
     "output_type": "stream",
     "text": [
      "Epoch 1/10\n",
      "208/208 [==============================] - 11s 44ms/step - loss: 0.6715 - accuracy: 0.5737 - val_loss: 0.4936 - val_accuracy: 0.7671\n",
      "Epoch 2/10\n",
      "208/208 [==============================] - 8s 39ms/step - loss: 0.5108 - accuracy: 0.7514 - val_loss: 0.4261 - val_accuracy: 0.8087\n",
      "Epoch 3/10\n",
      "208/208 [==============================] - 8s 38ms/step - loss: 0.4446 - accuracy: 0.7936 - val_loss: 0.3815 - val_accuracy: 0.8328\n",
      "Epoch 4/10\n",
      "208/208 [==============================] - 8s 37ms/step - loss: 0.4020 - accuracy: 0.8186 - val_loss: 0.3574 - val_accuracy: 0.8433\n",
      "Epoch 5/10\n",
      "208/208 [==============================] - 8s 38ms/step - loss: 0.3734 - accuracy: 0.8327 - val_loss: 0.3514 - val_accuracy: 0.8491\n",
      "Epoch 6/10\n",
      "208/208 [==============================] - 8s 38ms/step - loss: 0.3554 - accuracy: 0.8433 - val_loss: 0.3406 - val_accuracy: 0.8526\n",
      "Epoch 7/10\n",
      "208/208 [==============================] - 8s 38ms/step - loss: 0.3392 - accuracy: 0.8525 - val_loss: 0.3314 - val_accuracy: 0.8571\n",
      "Epoch 8/10\n",
      "208/208 [==============================] - 8s 37ms/step - loss: 0.3265 - accuracy: 0.8577 - val_loss: 0.3311 - val_accuracy: 0.8537\n",
      "Epoch 9/10\n",
      "208/208 [==============================] - 8s 37ms/step - loss: 0.3170 - accuracy: 0.8638 - val_loss: 0.3234 - val_accuracy: 0.8582\n",
      "Epoch 10/10\n",
      "208/208 [==============================] - 8s 37ms/step - loss: 0.3054 - accuracy: 0.8696 - val_loss: 0.3263 - val_accuracy: 0.8600\n"
     ]
    }
   ],
   "source": [
    "history = train_model(model, partial_x_train_pre, partial_y_train, 10, 512, (x_val_pre, y_val))"
   ]
  },
  {
   "cell_type": "code",
   "execution_count": 76,
   "id": "nervous-robinson",
   "metadata": {},
   "outputs": [
    {
     "name": "stdout",
     "output_type": "stream",
     "text": [
      "1537/1537 - 4s - loss: 0.3323 - accuracy: 0.8566\n",
      "결과 : [0.33228668570518494, 0.85658198595047]\n"
     ]
    }
   ],
   "source": [
    "results = model.evaluate(x_test_pre,  y_test, verbose=2)\n",
    "print(f'결과 : {results}')"
   ]
  },
  {
   "cell_type": "code",
   "execution_count": 77,
   "id": "present-geometry",
   "metadata": {},
   "outputs": [
    {
     "data": {
      "image/png": "[encoded data removed]",
      "text/plain": [
       "<Figure size 432x288 with 2 Axes>"
      ]
     },
     "metadata": {
      "needs_background": "light"
     },
     "output_type": "display_data"
    }
   ],
   "source": [
    "draw_history(history)"
   ]
  },
  {
   "cell_type": "markdown",
   "id": "identical-tsunami",
   "metadata": {},
   "source": [
    "최종 정확도는 0.856이 나왔다."
   ]
  },
  {
   "cell_type": "markdown",
   "id": "divine-chambers",
   "metadata": {},
   "source": [
    "## 9. 회고"
   ]
  },
  {
   "cell_type": "markdown",
   "id": "modular-logic",
   "metadata": {},
   "source": [
    "이번 프로젝트를 진행하면서 언어 임베딩에 많은 것을 공부하게되었다.  \n",
    "이전에 이미지를 임베딩 벡터로 만들때와는 달리 자연어는 임베딩 레이어를  \n",
    "가장 먼저 설정하였다.\n",
    "\n",
    "이미지는 조금의 변화로도 새롭게 변화는데 반해 자연어는 각 단어를 표현하는  \n",
    "정해진 벡터로 표현 할 수 있기 때문에 이런식으로 임베딩 벡터를 학습 시키는 것 같다.\n",
    "\n",
    "거기에 더해 감정이라는 매우 추상적인 개념을 판단할 수 있는 모델을 만드는 것도 신기한 경험이었다.\n",
    "\n",
    "미리 학습된 임베딩 데이터를 파인튜닝 하는과정에서 생각보다 큰 효과를 보지 못하였다.  \n",
    "일단 미리 학습된 한글 임베딩의 단어가 3만개 정도로 적은 수여서 모든 단어를 포함하지 못하였고,  \n",
    "확인해보니 리뷰를 토큰화한 단어에는 완성되지 못한 단어나 의성어 등의 전처리가 완벽하지 못한점도 있었다.  \n",
    "\n",
    "그 외에도 불용어라는 처음보는 개념등은 더 공부해야 할 것 같다."
   ]
  }
 ],
 "metadata": {
  "kernelspec": {
   "display_name": "Python 3",
   "language": "python",
   "name": "python3"
  },
  "language_info": {
   "codemirror_mode": {
    "name": "ipython",
    "version": 3
   },
   "file_extension": ".py",
   "mimetype": "text/x-python",
   "name": "python",
   "nbconvert_exporter": "python",
   "pygments_lexer": "ipython3",
   "version": "3.7.9"
  }
 },
 "nbformat": 4,
 "nbformat_minor": 5
}
