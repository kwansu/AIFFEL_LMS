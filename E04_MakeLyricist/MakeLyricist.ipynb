{
 "cells": [
  {
   "cell_type": "markdown",
   "id": "fitted-heritage",
   "metadata": {},
   "source": [
    "# 멋진 작사가 만들기\n",
    "\n",
    "RNN을 이용해서 여러 가사를 학습시킨 모델로 새로운 가사를 만들어보자."
   ]
  },
  {
   "cell_type": "markdown",
   "id": "oriented-draft",
   "metadata": {},
   "source": [
    "## 0. 모듈 import"
   ]
  },
  {
   "cell_type": "code",
   "execution_count": 1,
   "id": "damaged-payment",
   "metadata": {},
   "outputs": [],
   "source": [
    "from sklearn.model_selection import train_test_split\n",
    "import matplotlib.pyplot as plt\n",
    "import glob\n",
    "import os, re \n",
    "import numpy as np\n",
    "import tensorflow as tf"
   ]
  },
  {
   "cell_type": "markdown",
   "id": "laden-plymouth",
   "metadata": {},
   "source": [
    "## 1. 데이터 다운로드\n",
    "\n",
    "\n",
    "미리 준비된 데이터를 사용한다."
   ]
  },
  {
   "cell_type": "markdown",
   "id": "interim-consistency",
   "metadata": {},
   "source": [
    "## 2. 데이터 읽어오기\n",
    "glob로 모든 파일을 읽어서 하나의 리스트에 넣는다."
   ]
  },
  {
   "cell_type": "code",
   "execution_count": 2,
   "id": "rotary-sleeve",
   "metadata": {},
   "outputs": [
    {
     "name": "stdout",
     "output_type": "stream",
     "text": [
      "데이터 크기: 187088\n"
     ]
    }
   ],
   "source": [
    "import glob\n",
    "import os\n",
    "\n",
    "txt_file_path = os.getenv('HOME')+'/aiffel/Exploration/E04_MakeLyricist/data/*'\n",
    "\n",
    "raw_corpus = []\n",
    "\n",
    "# 여러개의 txt 파일을 모두 읽어서 raw_corpus 에 담습니다.\n",
    "for txt_file in glob.glob(txt_file_path):\n",
    "    with open(txt_file, \"r\") as f:\n",
    "        raw = f.read().splitlines()\n",
    "        raw_corpus.extend(raw)\n",
    "\n",
    "print(f\"데이터 크기: {len(raw_corpus)}\")"
   ]
  },
  {
   "cell_type": "markdown",
   "id": "fossil-intranet",
   "metadata": {},
   "source": [
    "데이터가 잘 로드 됐는지 확인해보자."
   ]
  },
  {
   "cell_type": "code",
   "execution_count": 3,
   "id": "improving-agenda",
   "metadata": {},
   "outputs": [
    {
     "name": "stdout",
     "output_type": "stream",
     "text": [
      "Examples:\n",
      " ['The first words that come out', 'And I can see this song will be about you', \"I can't believe that I can breathe without you\"]\n"
     ]
    }
   ],
   "source": [
    "print(\"Examples:\\n\", raw_corpus[:3])"
   ]
  },
  {
   "cell_type": "markdown",
   "id": "recreational-tactics",
   "metadata": {},
   "source": [
    "## 3. 데이터 정제\n",
    "\n",
    "### 정규화를 통한 전처리\n",
    "\n",
    "정규화를 통해 필요없는 특수문자등을 제거하자.\n",
    "\n",
    "그리고 너무 긴 문장은 노래가사에 어울리지 않을 수 있고,  \n",
    "나머지 데이터의 0 padding이 너무 많아 지므로 15개이상의 토큰을 가질 경우 제거하자."
   ]
  },
  {
   "cell_type": "code",
   "execution_count": 4,
   "id": "intermediate-salon",
   "metadata": {},
   "outputs": [],
   "source": [
    "# 입력된 문장을\n",
    "#     1. 소문자로 바꾸고, 양쪽 공백을 지웁니다\n",
    "#     2. 특수문자 양쪽에 공백을 넣고\n",
    "#     3. 여러개의 공백은 하나의 공백으로 바꿉니다\n",
    "#     4. a-zA-Z?.!,¿가 아닌 모든 문자를 하나의 공백으로 바꿉니다\n",
    "#     5. 다시 양쪽 공백을 지웁니다\n",
    "#     6. 문장 시작에는 <start>, 끝에는 <end>를 추가합니다\n",
    "# 이 순서로 처리해주면 문제가 되는 상황을 방지할 수 있겠네요!\n",
    "def preprocess_sentence(sentence):\n",
    "    sentence = sentence.lower().strip() # 1\n",
    "    sentence = re.sub(r\"([?.!,¿])\", r\" \\1 \", sentence) # 2\n",
    "    sentence = re.sub(r'[\" \"]+', \" \", sentence) # 3\n",
    "    sentence = re.sub(r\"[^a-zA-Z?.!,¿]+\", \" \", sentence) # 4\n",
    "    sentence = sentence.strip() # 5\n",
    "    sentence = '<start> ' + sentence + ' <end>' # 6\n",
    "    return sentence"
   ]
  },
  {
   "cell_type": "code",
   "execution_count": 5,
   "id": "liable-handling",
   "metadata": {},
   "outputs": [
    {
     "name": "stdout",
     "output_type": "stream",
     "text": [
      "사용된 총 단어 개수 27621\n"
     ]
    }
   ],
   "source": [
    "corpus = []\n",
    "words = set()\n",
    "\n",
    "for sentence in raw_corpus:\n",
    "    if len(sentence.strip()) == 0: # 문자가 아예 없거나 공백으로 채워져있으면 제외\n",
    "        continue\n",
    "    \n",
    "    preprocessed_sentence = preprocess_sentence(sentence)\n",
    "    \n",
    "    token = preprocessed_sentence.split()\n",
    "    words.update(token)\n",
    "    if len(token) > 15: # 문자가 15개를 넘으면 제외한다.\n",
    "        continue\n",
    "    \n",
    "    corpus.append(preprocessed_sentence)\n",
    "        \n",
    "#corpus[0:10] # 전처리를 거친 데이터 10개만 출력\n",
    "print(f\"사용된 총 단어 개수 {len(words)}\")"
   ]
  },
  {
   "cell_type": "markdown",
   "id": "secure-leather",
   "metadata": {},
   "source": [
    "## 4. 평가 데이터셋 분리\n",
    "\n",
    "전처리된 데이터를 통해 학습 데이터셋과 테스트 데이터셋을 만들어보자.\n",
    "\n",
    "### 데이터 토큰화"
   ]
  },
  {
   "cell_type": "code",
   "execution_count": 6,
   "id": "widespread-respondent",
   "metadata": {},
   "outputs": [],
   "source": [
    "def tokenize(corpus, num_words):\n",
    "    # num_words 만큼 단어를 기억할 수 있는 tokenizer를 생성\n",
    "    # num_words 단어에 포함되지 못한 단어는 '<unk>' 대체\n",
    "    tokenizer = tf.keras.preprocessing.text.Tokenizer(num_words=num_words, filters=' ', oov_token=\"<unk>\")\n",
    "    \n",
    "    # corpus를 이용해 tokenizer 내부의 단어장을 완성합니다\n",
    "    tokenizer.fit_on_texts(corpus)\n",
    "    \n",
    "    # 준비한 tokenizer를 이용해 corpus를 Tensor로 변환합니다\n",
    "    tensor = tokenizer.texts_to_sequences(corpus)   \n",
    "    \n",
    "    # 입력 데이터의 시퀀스 길이를 일정하게 맞춰줍니다\n",
    "    # 만약 시퀀스가 짧다면 문장 뒤에 패딩을 붙여 길이를 맞춰줍니다.\n",
    "    tensor = tf.keras.preprocessing.sequence.pad_sequences(tensor, padding='post')  \n",
    "    \n",
    "    return tensor, tokenizer"
   ]
  },
  {
   "cell_type": "markdown",
   "id": "proud-smart",
   "metadata": {},
   "source": [
    "현재 모든 문장에서 사용된 총 단어 개수는 27621개이다.  \n",
    "거의 사용되지 않는 단어를 제외하고, 많이 사용하는 순서대로  \n",
    "절반쯤인 13000개의 단어를 저장하였다."
   ]
  },
  {
   "cell_type": "code",
   "execution_count": 7,
   "id": "remarkable-prisoner",
   "metadata": {},
   "outputs": [
    {
     "name": "stdout",
     "output_type": "stream",
     "text": [
      "1 : <unk>\n",
      "2 : <start>\n",
      "3 : <end>\n",
      "4 : i\n",
      "5 : ,\n",
      "6 : the\n",
      "7 : you\n",
      "8 : and\n",
      "9 : a\n",
      "10 : to\n"
     ]
    }
   ],
   "source": [
    "tensor, tokenizer = tokenize(corpus, 13000) # 단어장의 크기는 13000\n",
    "\n",
    "src_input = tensor[:, :-1]  \n",
    "# tensor에서 <start>를 잘라내서 타겟 문장을 생성합니다.\n",
    "tgt_input = tensor[:, 1:]\n",
    "\n",
    "for idx in tokenizer.index_word:\n",
    "    print(idx, \":\", tokenizer.index_word[idx])\n",
    "\n",
    "    if idx >= 10:\n",
    "        break"
   ]
  },
  {
   "cell_type": "markdown",
   "id": "human-mirror",
   "metadata": {},
   "source": [
    "가장 많이 사용된 글자는 pad와 start, end를 제외하면 i , the you 순이다."
   ]
  },
  {
   "cell_type": "markdown",
   "id": "cellular-oregon",
   "metadata": {},
   "source": [
    "### 데이터 분리\n",
    "\n",
    "sklearn의 train_test_split을 사용해서 학습데이터와 테스트데이터로 분리하자."
   ]
  },
  {
   "cell_type": "code",
   "execution_count": 8,
   "id": "stopped-brave",
   "metadata": {},
   "outputs": [
    {
     "name": "stdout",
     "output_type": "stream",
     "text": [
      "Source Train: (124960, 14)\n",
      "Target Train: (124960, 14)\n"
     ]
    }
   ],
   "source": [
    "enc_train, enc_val, dec_train, dec_val = train_test_split(src_input, tgt_input, test_size=0.2, random_state=7)\n",
    "\n",
    "print(\"Source Train:\", enc_train.shape)\n",
    "print(\"Target Train:\", dec_train.shape)"
   ]
  },
  {
   "cell_type": "markdown",
   "id": "stable-obligation",
   "metadata": {},
   "source": [
    "### Dataset만들기\n",
    "문자가 토큰화되어 숫자로 바뀐 tensor를 이용하여 학습시킬 데이터 셋을 만들자."
   ]
  },
  {
   "cell_type": "code",
   "execution_count": 9,
   "id": "formed-latex",
   "metadata": {},
   "outputs": [],
   "source": [
    "BUFFER_SIZE = len(src_input)\n",
    "BATCH_SIZE = 256\n",
    "steps_per_epoch = len(src_input) // BATCH_SIZE\n",
    "\n",
    " # tokenizer가 구축한 단어사전 내 13000개와, 여기 포함되지 않은 0:<pad>를 포함하여 13001개\n",
    "VOCAB_SIZE = tokenizer.num_words + 1   \n",
    "\n",
    "# 준비한 데이터 소스로부터 데이터셋을 만듭니다\n",
    "train_dataset = tf.data.Dataset.from_tensor_slices((enc_train, dec_train))\n",
    "train_dataset = train_dataset.shuffle(BUFFER_SIZE)\n",
    "train_dataset = train_dataset.batch(BATCH_SIZE, drop_remainder=True)\n",
    "\n",
    "# 테스트 데이터셋 만들기\n",
    "val_dataset = tf.data.Dataset.from_tensor_slices((enc_val, dec_val))\n",
    "val_dataset = val_dataset.batch(BATCH_SIZE)\n"
   ]
  },
  {
   "cell_type": "markdown",
   "id": "paperback-banks",
   "metadata": {},
   "source": [
    "## 5. 인공지능 만들기\n",
    "이제 준비된 데이터셋을 모델을 만들어 학습시켜보자."
   ]
  },
  {
   "cell_type": "markdown",
   "id": "standard-thermal",
   "metadata": {},
   "source": [
    "### 모델 구성\n",
    "기존의 LSTM의 2층 짜리 레이어는 오차가 잘 줄지 않아, Bidirectional을 사용하여  \n",
    "양방향으로 학습하는 모델을 구성하였다.\n",
    "\n",
    "CuDNN 커널을 사용하기 위해 활성화 함수는 'tanh'를 사용하였다.  \n",
    "CuDNN 커널을 사용하기 위한 사양은 다음 공식사이트에서 확인가능하다.  \n",
    "https://www.tensorflow.org/guide/keras/rnn?hl=ko#%EC%84%B1%EB%8A%A5_%EC%B5%9C%EC%A0%81%ED%99%94_%EB%B0%8F_cudnn_%EC%BB%A4%EB%84%90\n",
    "\n",
    "그리고 batchnormal를 사용하여 overfiting을 어느정도 방지하고, dropout을 대체하였다."
   ]
  },
  {
   "cell_type": "code",
   "execution_count": 10,
   "id": "mexican-wrestling",
   "metadata": {},
   "outputs": [],
   "source": [
    "class TextGenerator(tf.keras.Model):\n",
    "    def __init__(self, vocab_size, embedding_size, hidden_size):\n",
    "        super().__init__()\n",
    "        \n",
    "        self.embedding = tf.keras.layers.Embedding(vocab_size, embedding_size)\n",
    "        forward_layer = tf.keras.layers.LSTM(hidden_size, return_sequences=True)\n",
    "        backward_layer = tf.keras.layers.LSTM(hidden_size, activation='tanh',\n",
    "                                             return_sequences=True, go_backwards=True)\n",
    "        self.rnn = tf.keras.layers.Bidirectional(forward_layer, backward_layer=backward_layer)\n",
    "        self.batchnormal = tf.keras.layers.BatchNormalization()\n",
    "        self.linear = tf.keras.layers.Dense(vocab_size)\n",
    "        \n",
    "        \n",
    "    def call(self, x):\n",
    "        out = self.embedding(x)\n",
    "        out = self.rnn(out)\n",
    "        out = self.batchnormal(out)\n",
    "        out = self.linear(out)\n",
    "        \n",
    "        return out"
   ]
  },
  {
   "cell_type": "markdown",
   "id": "higher-rover",
   "metadata": {},
   "source": [
    "### 하이퍼 파라미터 설정\n",
    "데이터의 양이 많아진 만큼 임베딩 사이즈와 히든레이어를 좀 더 키웠다."
   ]
  },
  {
   "cell_type": "code",
   "execution_count": 11,
   "id": "accurate-questionnaire",
   "metadata": {},
   "outputs": [],
   "source": [
    "embedding_size = 512\n",
    "hidden_size = 2048\n",
    "epochs=10"
   ]
  },
  {
   "cell_type": "markdown",
   "id": "straight-comparison",
   "metadata": {},
   "source": [
    "학습 과정에서 loss값 외에도 accuracy를 확인하려고 추가해 보았는데,  \n",
    "학습 속도가 너무 느려져서 그냥 빼버렸다."
   ]
  },
  {
   "cell_type": "code",
   "execution_count": 12,
   "id": "passing-exclusive",
   "metadata": {},
   "outputs": [
    {
     "name": "stdout",
     "output_type": "stream",
     "text": [
      "gpu를 사용 : [PhysicalDevice(name='/physical_device:GPU:0', device_type='GPU')]\n"
     ]
    }
   ],
   "source": [
    "print(f\"gpu를 사용 : {tf.config.list_physical_devices('GPU')}\")\n",
    "\n",
    "lyricist = TextGenerator(tokenizer.num_words + 1, embedding_size , hidden_size)\n",
    "\n",
    "optimizer = tf.keras.optimizers.Adam()\n",
    "loss = tf.keras.losses.SparseCategoricalCrossentropy(from_logits=True, reduction='none')\n",
    "\n",
    "lyricist.compile(loss=loss, optimizer=optimizer)"
   ]
  },
  {
   "cell_type": "code",
   "execution_count": 13,
   "id": "sunset-onion",
   "metadata": {},
   "outputs": [
    {
     "name": "stdout",
     "output_type": "stream",
     "text": [
      "Model: \"text_generator\"\n",
      "_________________________________________________________________\n",
      "Layer (type)                 Output Shape              Param #   \n",
      "=================================================================\n",
      "embedding (Embedding)        multiple                  6656512   \n",
      "_________________________________________________________________\n",
      "bidirectional (Bidirectional multiple                  41959424  \n",
      "_________________________________________________________________\n",
      "batch_normalization (BatchNo multiple                  16384     \n",
      "_________________________________________________________________\n",
      "dense (Dense)                multiple                  53265097  \n",
      "=================================================================\n",
      "Total params: 101,897,417\n",
      "Trainable params: 101,889,225\n",
      "Non-trainable params: 8,192\n",
      "_________________________________________________________________\n"
     ]
    }
   ],
   "source": [
    "for src_sample, tgt_sample in train_dataset.take(1): break\n",
    "\n",
    "# 한 배치만 불러온 데이터를 모델에 넣어봅니다\n",
    "lyricist(src_sample)\n",
    "lyricist.summary()"
   ]
  },
  {
   "cell_type": "markdown",
   "id": "regulated-burke",
   "metadata": {},
   "source": [
    "### 학습 시키기"
   ]
  },
  {
   "cell_type": "code",
   "execution_count": 14,
   "id": "ultimate-infrared",
   "metadata": {},
   "outputs": [
    {
     "name": "stdout",
     "output_type": "stream",
     "text": [
      "Epoch 1/10\n",
      "488/488 [==============================] - 605s 1s/step - loss: 2.0547 - val_loss: 0.6879\n",
      "Epoch 2/10\n",
      "488/488 [==============================] - 603s 1s/step - loss: 0.0170 - val_loss: 0.0318\n",
      "Epoch 3/10\n",
      "488/488 [==============================] - 603s 1s/step - loss: 0.0023 - val_loss: 0.0270\n",
      "Epoch 4/10\n",
      "488/488 [==============================] - 602s 1s/step - loss: 0.0010 - val_loss: 0.0277\n",
      "Epoch 5/10\n",
      "488/488 [==============================] - 603s 1s/step - loss: 8.4181e-04 - val_loss: 0.0277\n",
      "Epoch 6/10\n",
      "488/488 [==============================] - 675s 1s/step - loss: 0.0015 - val_loss: 0.0315\n",
      "Epoch 7/10\n",
      "488/488 [==============================] - 1551s 3s/step - loss: 0.0028 - val_loss: 0.0320\n",
      "Epoch 8/10\n",
      "488/488 [==============================] - 1547s 3s/step - loss: 0.0037 - val_loss: 0.0266\n",
      "Epoch 9/10\n",
      "488/488 [==============================] - 1545s 3s/step - loss: 0.0022 - val_loss: 0.0203\n",
      "Epoch 10/10\n",
      "488/488 [==============================] - 1542s 3s/step - loss: 0.0011 - val_loss: 0.0163\n"
     ]
    }
   ],
   "source": [
    "hist = lyricist.fit(train_dataset, epochs=epochs, validation_data=val_dataset)"
   ]
  },
  {
   "cell_type": "markdown",
   "id": "aggregate-delay",
   "metadata": {},
   "source": [
    "### 학습결과 확인\n",
    "학습한 모델을 저장하여 나중에 확인 가능하게 만들었다.\n",
    "\n",
    "그리고 학습동안의 loss를 그래프로 그려보자."
   ]
  },
  {
   "cell_type": "code",
   "execution_count": 16,
   "id": "psychological-madagascar",
   "metadata": {},
   "outputs": [
    {
     "name": "stdout",
     "output_type": "stream",
     "text": [
      "모델을 저장하였습니다. 위치 : /aiffel/aiffel/lyricist/model/lyricist_512_2048_10(1).h5\n"
     ]
    },
    {
     "data": {
      "image/png": "[encoded data removed]",
      "text/plain": [
       "<Figure size 432x288 with 1 Axes>"
      ]
     },
     "metadata": {
      "needs_background": "light"
     },
     "output_type": "display_data"
    },
    {
     "data": {
      "text/plain": [
       "<Figure size 432x288 with 0 Axes>"
      ]
     },
     "metadata": {},
     "output_type": "display_data"
    }
   ],
   "source": [
    "def create_save_path(forder_path, filename):\n",
    "    file_path = f'{forder_path}/{filename}'\n",
    "    uniq = 1\n",
    "    while os.path.exists(file_path + '.h5'):\n",
    "        file_path = f'{forder_path}/{filename}({uniq})'\n",
    "        uniq += 1\n",
    "    return file_path\n",
    "\n",
    "forder_path = os.getenv('HOME')+'/aiffel/lyricist/model'\n",
    "filename = f'lyricist_{embedding_size}_{hidden_size}_{epochs}'\n",
    "save_file_path = create_save_path(forder_path, filename)\n",
    "\n",
    "# rnn등의 한방향 sequence가 아닌 모델에는 model.save가 안되서 weight로 저장\n",
    "lyricist.save_weights(save_file_path +'.h5')\n",
    "print(f\"모델을 저장하였습니다. 위치 : {save_file_path}.h5\")\n",
    "    \n",
    "plt.plot(hist.history['loss'], 'y', label='train loss')\n",
    "plt.plot(hist.history['val_loss'], 'r', label='val loss')\n",
    "\n",
    "plt.xlabel('epoch')\n",
    "plt.ylabel('loss')\n",
    "\n",
    "plt.legend(loc='upper left')\n",
    "plt.legend(loc='lower left')\n",
    "\n",
    "plt.show()\n",
    "plt.savefig(save_file_path + '.png')  # 나중에 확인가능하게 학습 그래프를 이미지로 같은 이름으로 저장한다."
   ]
  },
  {
   "cell_type": "markdown",
   "id": "registered-launch",
   "metadata": {},
   "source": [
    "## 6. 가사 생성하기\n",
    "학습한 모델로 부터 노래 가사를 생성해보자.\n",
    "\n",
    "다음은 모델로 부터 시작 단어를 받아서 문장을 완성키는 함수이다."
   ]
  },
  {
   "cell_type": "code",
   "execution_count": 17,
   "id": "crude-terrace",
   "metadata": {},
   "outputs": [],
   "source": [
    "def generate_text(model, tokenizer, init_sentence=\"<start>\", max_len=20):\n",
    "    # 테스트를 위해서 입력받은 init_sentence도 텐서로 변환합니다\n",
    "    test_input = tokenizer.texts_to_sequences([init_sentence])\n",
    "    test_tensor = tf.convert_to_tensor(test_input, dtype=tf.int64)\n",
    "    end_token = tokenizer.word_index[\"<end>\"]\n",
    "\n",
    "    # 단어 하나씩 예측해 문장을 만듭니다\n",
    "    #    1. 입력받은 문장의 텐서를 입력합니다\n",
    "    #    2. 예측된 값 중 가장 높은 확률인 word index를 뽑아냅니다\n",
    "    #    3. 2에서 예측된 word index를 문장 뒤에 붙입니다\n",
    "    #    4. 모델이 <end>를 예측했거나, max_len에 도달했다면 문장 생성을 마칩니다\n",
    "    while True:\n",
    "        # 1\n",
    "        predict = model(test_tensor) \n",
    "        # 2\n",
    "        predict_word = tf.argmax(tf.nn.softmax(predict, axis=-1), axis=-1)[:, -1] \n",
    "        # 3 \n",
    "        test_tensor = tf.concat([test_tensor, tf.expand_dims(predict_word, axis=0)], axis=-1)\n",
    "        # 4\n",
    "        if predict_word.numpy()[0] == end_token: break\n",
    "        if test_tensor.shape[1] >= max_len: break\n",
    "\n",
    "    generated = \"\"\n",
    "    # tokenizer를 이용해 word index를 단어로 하나씩 변환합니다 \n",
    "    for word_index in test_tensor[0].numpy():\n",
    "        generated += tokenizer.index_word[word_index] + \" \"\n",
    "\n",
    "    return generated"
   ]
  },
  {
   "cell_type": "markdown",
   "id": "automatic-economy",
   "metadata": {},
   "source": [
    "i love 다음으로 어떤 가사가 생성될 지 확인해보자."
   ]
  },
  {
   "cell_type": "code",
   "execution_count": 22,
   "id": "naval-crawford",
   "metadata": {},
   "outputs": [
    {
     "data": {
      "text/plain": [
       "'<start> i love to steal the tear like an speaking turn up <end> '"
      ]
     },
     "execution_count": 22,
     "metadata": {},
     "output_type": "execute_result"
    }
   ],
   "source": [
    "generate_text(lyricist, tokenizer, init_sentence=\"<start> i love\", max_len=20)"
   ]
  },
  {
   "cell_type": "markdown",
   "id": "european-issue",
   "metadata": {},
   "source": [
    "'i love to steal the tear like an speaking turn up' 라는 말이 나왔는데,  \n",
    "솔직히 영어를 잘 못해서 제대로 나온건지 알 수가없다."
   ]
  },
  {
   "cell_type": "markdown",
   "id": "delayed-witness",
   "metadata": {},
   "source": [
    "## 7. 회고\n",
    "\n",
    "RNN을 통해 문장을 생성하는 기본적인 내용을 해보았다.  \n",
    "아직 토큰화된 문자열을 임베딩하는 과정이나 RNN이 되는 원리를  \n",
    "정확하게 파악하지 못 한것 같다.\n",
    "\n",
    "다만 토큰화된 단어들을 추상적인 과정으로 표현된다는 것에서  \n",
    "여러 의미로 자연어 처리에 대한 전반적인 과정을 어느정도 이해한 것 같기도하다.\n",
    "\n",
    "나중에라도 자연어 처리에 대한 전반적인 공부를 해야할 것 같다."
   ]
  }
 ],
 "metadata": {
  "kernelspec": {
   "display_name": "Python 3",
   "language": "python",
   "name": "python3"
  },
  "language_info": {
   "codemirror_mode": {
    "name": "ipython",
    "version": 3
   },
   "file_extension": ".py",
   "mimetype": "text/x-python",
   "name": "python",
   "nbconvert_exporter": "python",
   "pygments_lexer": "ipython3",
   "version": "3.7.9"
  }
 },
 "nbformat": 4,
 "nbformat_minor": 5
}
