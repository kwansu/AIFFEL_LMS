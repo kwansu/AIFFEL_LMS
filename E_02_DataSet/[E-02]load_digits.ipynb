{
 "cells": [
  {
   "cell_type": "markdown",
   "id": "backed-fruit",
   "metadata": {},
   "source": [
    "# 손글씨 분류하기\n",
    "\n",
    "sklearn의 예제 데이터 셋인 digits를 학습하는 모델을 만들어 보자."
   ]
  },
  {
   "cell_type": "markdown",
   "id": "dense-platinum",
   "metadata": {},
   "source": [
    "## 필요한 모듈 Import하기"
   ]
  },
  {
   "cell_type": "code",
   "execution_count": 1,
   "id": "convenient-debut",
   "metadata": {},
   "outputs": [],
   "source": [
    "from sklearn.datasets import load_digits\n",
    "from sklearn.model_selection import train_test_split\n",
    "from sklearn.metrics import classification_report\n",
    "import matplotlib.pyplot as plt\n",
    "import numpy as np"
   ]
  },
  {
   "cell_type": "markdown",
   "id": "continent-helmet",
   "metadata": {},
   "source": [
    "학습시킬 모델들도 import한다"
   ]
  },
  {
   "cell_type": "code",
   "execution_count": 2,
   "id": "colonial-stewart",
   "metadata": {},
   "outputs": [],
   "source": [
    "from sklearn import svm\n",
    "from sklearn.tree import DecisionTreeClassifier\n",
    "from sklearn.ensemble import RandomForestClassifier\n",
    "from sklearn.linear_model import SGDClassifier\n",
    "from sklearn.linear_model import LogisticRegression"
   ]
  },
  {
   "cell_type": "markdown",
   "id": "surface-apartment",
   "metadata": {},
   "source": [
    "## 데이터 준비하기\n",
    "sklearn에서 digits data set을 로드한다."
   ]
  },
  {
   "cell_type": "code",
   "execution_count": 3,
   "id": "patent-edward",
   "metadata": {},
   "outputs": [],
   "source": [
    "digits = load_digits()"
   ]
  },
  {
   "cell_type": "markdown",
   "id": "satisfactory-surfing",
   "metadata": {},
   "source": [
    "## 데이터 이해하기\n",
    "\n",
    "로드된 데이터를 분석해보자.  \n",
    "우선 데이터 feature와 target을 확인해보자."
   ]
  },
  {
   "cell_type": "code",
   "execution_count": 4,
   "id": "nuclear-giant",
   "metadata": {},
   "outputs": [
    {
     "data": {
      "text/plain": [
       "dict_keys(['data', 'target', 'frame', 'feature_names', 'target_names', 'images', 'DESCR'])"
      ]
     },
     "execution_count": 4,
     "metadata": {},
     "output_type": "execute_result"
    }
   ],
   "source": [
    "digits.keys()"
   ]
  },
  {
   "cell_type": "code",
   "execution_count": 5,
   "id": "statutory-yacht",
   "metadata": {},
   "outputs": [
    {
     "data": {
      "text/plain": [
       "['pixel_0_0',\n",
       " 'pixel_0_1',\n",
       " 'pixel_0_2',\n",
       " 'pixel_0_3',\n",
       " 'pixel_0_4',\n",
       " 'pixel_0_5',\n",
       " 'pixel_0_6',\n",
       " 'pixel_0_7',\n",
       " 'pixel_1_0',\n",
       " 'pixel_1_1',\n",
       " 'pixel_1_2',\n",
       " 'pixel_1_3',\n",
       " 'pixel_1_4',\n",
       " 'pixel_1_5',\n",
       " 'pixel_1_6',\n",
       " 'pixel_1_7',\n",
       " 'pixel_2_0',\n",
       " 'pixel_2_1',\n",
       " 'pixel_2_2',\n",
       " 'pixel_2_3',\n",
       " 'pixel_2_4',\n",
       " 'pixel_2_5',\n",
       " 'pixel_2_6',\n",
       " 'pixel_2_7',\n",
       " 'pixel_3_0',\n",
       " 'pixel_3_1',\n",
       " 'pixel_3_2',\n",
       " 'pixel_3_3',\n",
       " 'pixel_3_4',\n",
       " 'pixel_3_5',\n",
       " 'pixel_3_6',\n",
       " 'pixel_3_7',\n",
       " 'pixel_4_0',\n",
       " 'pixel_4_1',\n",
       " 'pixel_4_2',\n",
       " 'pixel_4_3',\n",
       " 'pixel_4_4',\n",
       " 'pixel_4_5',\n",
       " 'pixel_4_6',\n",
       " 'pixel_4_7',\n",
       " 'pixel_5_0',\n",
       " 'pixel_5_1',\n",
       " 'pixel_5_2',\n",
       " 'pixel_5_3',\n",
       " 'pixel_5_4',\n",
       " 'pixel_5_5',\n",
       " 'pixel_5_6',\n",
       " 'pixel_5_7',\n",
       " 'pixel_6_0',\n",
       " 'pixel_6_1',\n",
       " 'pixel_6_2',\n",
       " 'pixel_6_3',\n",
       " 'pixel_6_4',\n",
       " 'pixel_6_5',\n",
       " 'pixel_6_6',\n",
       " 'pixel_6_7',\n",
       " 'pixel_7_0',\n",
       " 'pixel_7_1',\n",
       " 'pixel_7_2',\n",
       " 'pixel_7_3',\n",
       " 'pixel_7_4',\n",
       " 'pixel_7_5',\n",
       " 'pixel_7_6',\n",
       " 'pixel_7_7']"
      ]
     },
     "execution_count": 5,
     "metadata": {},
     "output_type": "execute_result"
    }
   ],
   "source": [
    "digits.feature_names"
   ]
  },
  {
   "cell_type": "code",
   "execution_count": 6,
   "id": "imperial-climb",
   "metadata": {},
   "outputs": [
    {
     "data": {
      "text/plain": [
       "<matplotlib.image.AxesImage at 0x7fd1445025d0>"
      ]
     },
     "execution_count": 6,
     "metadata": {},
     "output_type": "execute_result"
    },
    {
     "data": {
      "image/png": "[encoded data removed]",
      "text/plain": [
       "<Figure size 432x288 with 1 Axes>"
      ]
     },
     "metadata": {
      "needs_background": "light"
     },
     "output_type": "display_data"
    }
   ],
   "source": [
    "plt.imshow(digits.images[0], cmap=\"gray\")"
   ]
  },
  {
   "cell_type": "code",
   "execution_count": 7,
   "id": "adopted-football",
   "metadata": {},
   "outputs": [
    {
     "data": {
      "text/plain": [
       "16.0"
      ]
     },
     "execution_count": 7,
     "metadata": {},
     "output_type": "execute_result"
    }
   ],
   "source": [
    "np.max(digits.data)"
   ]
  },
  {
   "cell_type": "markdown",
   "id": "brilliant-culture",
   "metadata": {},
   "source": [
    "### Target Names 출력해 보기"
   ]
  },
  {
   "cell_type": "code",
   "execution_count": 8,
   "id": "invisible-library",
   "metadata": {},
   "outputs": [
    {
     "data": {
      "text/plain": [
       "array([0, 1, 2, 3, 4, 5, 6, 7, 8, 9])"
      ]
     },
     "execution_count": 8,
     "metadata": {},
     "output_type": "execute_result"
    }
   ],
   "source": [
    "digits.target_names"
   ]
  },
  {
   "cell_type": "markdown",
   "id": "desperate-experience",
   "metadata": {},
   "source": [
    "이 손글씨 데이터는 8x8(64)의 0 ~ 16 범위의 픽셀 데이터와, 0 ~ 9까지 10개의 라벨로 구성되어있다.  \n",
    "모두 같이 0~16까지의 작은 범위를 가져서 굳이 정규화를 안해도 될 것 같다."
   ]
  },
  {
   "cell_type": "markdown",
   "id": "finnish-banner",
   "metadata": {},
   "source": [
    "### Feature Data 지정하기\n",
    "cnn같이 다차원 데이터가 필요한게 아니니깐 그냥 64개의 픽셀 데이터를 그대로 사용한다."
   ]
  },
  {
   "cell_type": "code",
   "execution_count": 9,
   "id": "brilliant-control",
   "metadata": {},
   "outputs": [
    {
     "data": {
      "text/plain": [
       "(1797, 64)"
      ]
     },
     "execution_count": 9,
     "metadata": {},
     "output_type": "execute_result"
    }
   ],
   "source": [
    "x_data = digits.data\n",
    "x_data.shape"
   ]
  },
  {
   "cell_type": "markdown",
   "id": "japanese-newark",
   "metadata": {},
   "source": [
    "### Label Data 지정하기\n",
    "라벨도 0~9까지 숫자 값으로 target데이터를 그대로 사용한다."
   ]
  },
  {
   "cell_type": "code",
   "execution_count": 10,
   "id": "coupled-scientist",
   "metadata": {},
   "outputs": [
    {
     "data": {
      "text/plain": [
       "(1797,)"
      ]
     },
     "execution_count": 10,
     "metadata": {},
     "output_type": "execute_result"
    }
   ],
   "source": [
    "y_data = digits.target # label\n",
    "y_data.shape"
   ]
  },
  {
   "cell_type": "markdown",
   "id": "informational-charm",
   "metadata": {},
   "source": [
    "총 데이터의 개수와 라벨의 분포를 알아보자."
   ]
  },
  {
   "cell_type": "code",
   "execution_count": 11,
   "id": "professional-president",
   "metadata": {},
   "outputs": [
    {
     "name": "stdout",
     "output_type": "stream",
     "text": [
      "총 데이터 개수 : 1797\n",
      "0의 개수 : 178\n",
      "1의 개수 : 182\n",
      "2의 개수 : 177\n",
      "3의 개수 : 183\n",
      "4의 개수 : 181\n",
      "5의 개수 : 182\n",
      "6의 개수 : 181\n",
      "7의 개수 : 179\n",
      "8의 개수 : 174\n",
      "9의 개수 : 180\n"
     ]
    },
    {
     "data": {
      "text/plain": [
       "<BarContainer object of 10 artists>"
      ]
     },
     "execution_count": 11,
     "metadata": {},
     "output_type": "execute_result"
    },
    {
     "data": {
      "image/png": "[encoded data removed]",
      "text/plain": [
       "<Figure size 432x288 with 1 Axes>"
      ]
     },
     "metadata": {
      "needs_background": "light"
     },
     "output_type": "display_data"
    }
   ],
   "source": [
    "print(f\"총 데이터 개수 : {len(x_data)}\")\n",
    "\n",
    "label_counts = []\n",
    "for i, name in enumerate(digits.target_names):\n",
    "    label_counts.append(np.count_nonzero(y_data == i))\n",
    "    print(f\"{name}의 개수 : {label_counts[i]}\")\n",
    "    \n",
    "plt.xticks(np.arange(0, 10, step=1))\n",
    "plt.bar(digits.target_names, label_counts)"
   ]
  },
  {
   "cell_type": "markdown",
   "id": "funky-pioneer",
   "metadata": {},
   "source": [
    "총 이미지의 개수는 1797개이고, 각 숫자는 대략 180개로 균등하게 분포되어 있다."
   ]
  },
  {
   "cell_type": "markdown",
   "id": "revised-purchase",
   "metadata": {},
   "source": [
    "### 데이터 Describe 해 보기"
   ]
  },
  {
   "cell_type": "code",
   "execution_count": 12,
   "id": "together-shareware",
   "metadata": {},
   "outputs": [
    {
     "name": "stdout",
     "output_type": "stream",
     "text": [
      ".. _digits_dataset:\n",
      "\n",
      "Optical recognition of handwritten digits dataset\n",
      "--------------------------------------------------\n",
      "\n",
      "**Data Set Characteristics:**\n",
      "\n",
      "    :Number of Instances: 5620\n",
      "    :Number of Attributes: 64\n",
      "    :Attribute Information: 8x8 image of integer pixels in the range 0..16.\n",
      "    :Missing Attribute Values: None\n",
      "    :Creator: E. Alpaydin (alpaydin '@' boun.edu.tr)\n",
      "    :Date: July; 1998\n",
      "\n",
      "This is a copy of the test set of the UCI ML hand-written digits datasets\n",
      "https://archive.ics.uci.edu/ml/datasets/Optical+Recognition+of+Handwritten+Digits\n",
      "\n",
      "The data set contains images of hand-written digits: 10 classes where\n",
      "each class refers to a digit.\n",
      "\n",
      "Preprocessing programs made available by NIST were used to extract\n",
      "normalized bitmaps of handwritten digits from a preprinted form. From a\n",
      "total of 43 people, 30 contributed to the training set and different 13\n",
      "to the test set. 32x32 bitmaps are divided into nonoverlapping blocks of\n",
      "4x4 and the number of on pixels are counted in each block. This generates\n",
      "an input matrix of 8x8 where each element is an integer in the range\n",
      "0..16. This reduces dimensionality and gives invariance to small\n",
      "distortions.\n",
      "\n",
      "For info on NIST preprocessing routines, see M. D. Garris, J. L. Blue, G.\n",
      "T. Candela, D. L. Dimmick, J. Geist, P. J. Grother, S. A. Janet, and C.\n",
      "L. Wilson, NIST Form-Based Handprint Recognition System, NISTIR 5469,\n",
      "1994.\n",
      "\n",
      ".. topic:: References\n",
      "\n",
      "  - C. Kaynak (1995) Methods of Combining Multiple Classifiers and Their\n",
      "    Applications to Handwritten Digit Recognition, MSc Thesis, Institute of\n",
      "    Graduate Studies in Science and Engineering, Bogazici University.\n",
      "  - E. Alpaydin, C. Kaynak (1998) Cascading Classifiers, Kybernetika.\n",
      "  - Ken Tang and Ponnuthurai N. Suganthan and Xi Yao and A. Kai Qin.\n",
      "    Linear dimensionalityreduction using relevance weighted LDA. School of\n",
      "    Electrical and Electronic Engineering Nanyang Technological University.\n",
      "    2005.\n",
      "  - Claudio Gentile. A New Approximate Maximal Margin Classification\n",
      "    Algorithm. NIPS. 2000.\n"
     ]
    }
   ],
   "source": [
    "print(digits.DESCR)"
   ]
  },
  {
   "cell_type": "markdown",
   "id": "bacterial-restaurant",
   "metadata": {},
   "source": [
    "구글 번역으로 읽어본 개인적인 의견으로는  \n",
    "인스턴스가 5620개 라는데, 왜 데이터 셋에는 1797개 밖에 없는 건지 모르겠다.\n",
    "\n",
    "거기에 계속 이상하다고 느끼는 건데 0 ~ 16 범위의 정수형 값이라는데,  \n",
    "만약 한 픽셀이 4비트라고 쳐도 범위는 0 ~ 15 까지이지 않나?  \n",
    "예상으로는 8비트 256범위를 16으로 나누면서 저런 범위가 생기지 않나나 싶다."
   ]
  },
  {
   "cell_type": "markdown",
   "id": "spare-processor",
   "metadata": {},
   "source": [
    "## train, Test 데이터 분리\n",
    "\n",
    "학습 데이터와 테스트 데이터로 분리한다.  \n",
    "전체 데이터의 20%를 테스트 데이터로 분리한다."
   ]
  },
  {
   "cell_type": "code",
   "execution_count": 13,
   "id": "scheduled-hampton",
   "metadata": {},
   "outputs": [],
   "source": [
    "x_train, x_test, y_train, y_test = train_test_split(x_data, \n",
    "                                                    y_data, \n",
    "                                                    test_size=0.2, \n",
    "                                                    random_state=666)"
   ]
  },
  {
   "cell_type": "code",
   "execution_count": 14,
   "id": "critical-causing",
   "metadata": {},
   "outputs": [
    {
     "data": {
      "text/plain": [
       "(1437, 64)"
      ]
     },
     "execution_count": 14,
     "metadata": {},
     "output_type": "execute_result"
    }
   ],
   "source": [
    "x_train.shape"
   ]
  },
  {
   "cell_type": "code",
   "execution_count": 15,
   "id": "amino-month",
   "metadata": {},
   "outputs": [
    {
     "data": {
      "text/plain": [
       "(360, 64)"
      ]
     },
     "execution_count": 15,
     "metadata": {},
     "output_type": "execute_result"
    }
   ],
   "source": [
    "x_test.shape"
   ]
  },
  {
   "cell_type": "markdown",
   "id": "weird-actress",
   "metadata": {},
   "source": [
    "## 다양한 모델로 학습시켜 보기"
   ]
  },
  {
   "cell_type": "markdown",
   "id": "agreed-acquisition",
   "metadata": {},
   "source": [
    "### Decision Tree 사용해 보기"
   ]
  },
  {
   "cell_type": "code",
   "execution_count": 16,
   "id": "posted-pioneer",
   "metadata": {},
   "outputs": [
    {
     "name": "stdout",
     "output_type": "stream",
     "text": [
      "              precision    recall  f1-score   support\n",
      "\n",
      "           0       0.95      0.95      0.95        38\n",
      "           1       0.83      0.80      0.81        30\n",
      "           2       0.90      0.77      0.83        35\n",
      "           3       0.80      0.82      0.81        44\n",
      "           4       0.84      0.86      0.85        42\n",
      "           5       0.93      0.93      0.93        30\n",
      "           6       1.00      0.83      0.91        30\n",
      "           7       0.79      0.92      0.85        36\n",
      "           8       0.76      0.79      0.77        39\n",
      "           9       0.84      0.86      0.85        36\n",
      "\n",
      "    accuracy                           0.85       360\n",
      "   macro avg       0.86      0.85      0.86       360\n",
      "weighted avg       0.86      0.85      0.85       360\n",
      "\n"
     ]
    }
   ],
   "source": [
    "model_decision_tree = DecisionTreeClassifier(random_state=1)\n",
    "model_decision_tree.fit(x_train, y_train)\n",
    "y_predict = model_decision_tree.predict(x_test)\n",
    "\n",
    "print(classification_report(y_test, y_predict))"
   ]
  },
  {
   "cell_type": "markdown",
   "id": "junior-insulation",
   "metadata": {},
   "source": [
    "전체 정확도는 0.85\n",
    "\n",
    "대체적으로 숫자 '0'의 경우는 정밀도와 재현율이 모두 높다. 즉 잘 맞춘다.  \n",
    "그에 반해 숫자 '8'의 경우는 가장 낮은 f1-score를 가지고 있다. 즉, 잘 못 맞춘다.  \n",
    "\n",
    "특이하게도 숫자 '6'의 경우는 1.0의 정밀도를 가지지만, 그다지 높지 않은 재현율을 가진다.  \n",
    "즉, 다른 '6'을 다른 숫자로 착각하는 경우는 있어도, 다른 숫자를 '6'으로 착각하지는 않는다는 뜻이다."
   ]
  },
  {
   "cell_type": "markdown",
   "id": "certain-malta",
   "metadata": {},
   "source": [
    "### Random Forest 사용해 보기"
   ]
  },
  {
   "cell_type": "code",
   "execution_count": 17,
   "id": "persistent-underwear",
   "metadata": {},
   "outputs": [
    {
     "name": "stdout",
     "output_type": "stream",
     "text": [
      "              precision    recall  f1-score   support\n",
      "\n",
      "           0       1.00      1.00      1.00        38\n",
      "           1       1.00      0.97      0.98        30\n",
      "           2       1.00      1.00      1.00        35\n",
      "           3       0.98      0.91      0.94        44\n",
      "           4       1.00      1.00      1.00        42\n",
      "           5       0.91      0.97      0.94        30\n",
      "           6       1.00      0.97      0.98        30\n",
      "           7       1.00      1.00      1.00        36\n",
      "           8       0.93      0.97      0.95        39\n",
      "           9       0.92      0.94      0.93        36\n",
      "\n",
      "    accuracy                           0.97       360\n",
      "   macro avg       0.97      0.97      0.97       360\n",
      "weighted avg       0.97      0.97      0.97       360\n",
      "\n"
     ]
    }
   ],
   "source": [
    "model_random_forest = RandomForestClassifier(random_state=2)\n",
    "model_random_forest.fit(x_train, y_train)\n",
    "y_predict = model_random_forest.predict(x_test)\n",
    "\n",
    "print(classification_report(y_test, y_predict))"
   ]
  },
  {
   "cell_type": "markdown",
   "id": "interracial-jimmy",
   "metadata": {},
   "source": [
    "전체 정확도 0.97\n",
    "\n",
    "역시 의사결정트리보다는 높게 나왔다.  \n",
    "\n",
    "숫자 '9'가 f1-score가 가장 적게 나왔다. 손글씨 9는 헷갈리는 경우가 많다.\n",
    "\n",
    "숫자 '3'과 '5'는 똑같은 f1-score가 나왔지만, 정 반대의 정밀도와 재현율이 나왔다.  \n",
    "'3'은 다른 숫자로 착각하기 쉽지만, 다른 숫자가 '3'이라고 착각되기는 어렵다.  \n",
    "'5'은 다른 숫자로 착각하기 어렵지만, 다른 숫자가 '5'이라고 착각되기는 쉽다."
   ]
  },
  {
   "cell_type": "markdown",
   "id": "fallen-corpus",
   "metadata": {},
   "source": [
    "### SVM 사용해 보기"
   ]
  },
  {
   "cell_type": "code",
   "execution_count": 18,
   "id": "atmospheric-queen",
   "metadata": {},
   "outputs": [
    {
     "name": "stdout",
     "output_type": "stream",
     "text": [
      "              precision    recall  f1-score   support\n",
      "\n",
      "           0       1.00      1.00      1.00        38\n",
      "           1       1.00      1.00      1.00        30\n",
      "           2       1.00      1.00      1.00        35\n",
      "           3       1.00      0.93      0.96        44\n",
      "           4       1.00      0.98      0.99        42\n",
      "           5       0.97      0.97      0.97        30\n",
      "           6       1.00      1.00      1.00        30\n",
      "           7       0.97      1.00      0.99        36\n",
      "           8       0.95      1.00      0.97        39\n",
      "           9       0.95      0.97      0.96        36\n",
      "\n",
      "    accuracy                           0.98       360\n",
      "   macro avg       0.98      0.98      0.98       360\n",
      "weighted avg       0.98      0.98      0.98       360\n",
      "\n"
     ]
    }
   ],
   "source": [
    "model_svm = svm.SVC(random_state=4)\n",
    "model_svm.fit(x_train, y_train)\n",
    "y_predict = model_svm.predict(x_test)\n",
    "\n",
    "print(classification_report(y_test, y_predict))"
   ]
  },
  {
   "cell_type": "markdown",
   "id": "equipped-broad",
   "metadata": {},
   "source": [
    "전체 정확도 0.98로 가장 높은 수치가 나왔다.\n",
    "\n",
    "svm에서도 숫자 '9'가 f1-score가 가장 낮았다.  \n",
    "숫자 '3' 역시 재현율이 낮았다.  \n",
    "\n",
    "숫자 '8', '9'가 가장 낮은 정밀도를 보였다.  "
   ]
  },
  {
   "cell_type": "markdown",
   "id": "current-density",
   "metadata": {},
   "source": [
    "### SGD Classifier 사용해 보기"
   ]
  },
  {
   "cell_type": "code",
   "execution_count": 19,
   "id": "ruled-sigma",
   "metadata": {},
   "outputs": [
    {
     "name": "stdout",
     "output_type": "stream",
     "text": [
      "              precision    recall  f1-score   support\n",
      "\n",
      "           0       1.00      0.97      0.99        38\n",
      "           1       1.00      0.97      0.98        30\n",
      "           2       1.00      0.97      0.99        35\n",
      "           3       0.87      0.93      0.90        44\n",
      "           4       1.00      0.98      0.99        42\n",
      "           5       0.86      1.00      0.92        30\n",
      "           6       0.97      0.97      0.97        30\n",
      "           7       0.97      1.00      0.99        36\n",
      "           8       0.94      0.85      0.89        39\n",
      "           9       0.97      0.94      0.96        36\n",
      "\n",
      "    accuracy                           0.96       360\n",
      "   macro avg       0.96      0.96      0.96       360\n",
      "weighted avg       0.96      0.96      0.96       360\n",
      "\n"
     ]
    }
   ],
   "source": [
    "model_sgd = SGDClassifier(random_state=8)\n",
    "model_sgd.fit(x_train, y_train)\n",
    "y_predict = model_sgd.predict(x_test)\n",
    "\n",
    "print(classification_report(y_test, y_predict))"
   ]
  },
  {
   "cell_type": "markdown",
   "id": "alert-passport",
   "metadata": {},
   "source": [
    "전체 정확도 0.96\n",
    "\n",
    "앞의 모델들과는 다르게 숫자 '3'의 정밀도가 많이 떨어졌다.\n",
    "그리고 숫자 '8'의 재현율도 다른 모델과 달리 가장 낮았다.\n",
    "\n",
    "학습을 한번에 전체 데이터가 아닌 일부 데이터로 하다보니  \n",
    "숫자들에 대한 판단 구성이 다른 모델들과 다르게 나온 걸로 보인다.\n",
    "\n",
    "확실히 sgd가 빠르게 학습하고, local minima에 빠질 확률은 줄지만,\n",
    "학습해가는 방향이 일반적인 모델들과는 다른 것 같다."
   ]
  },
  {
   "cell_type": "markdown",
   "id": "inappropriate-bangladesh",
   "metadata": {},
   "source": [
    "### Logistic Regression 사용해 보기"
   ]
  },
  {
   "cell_type": "code",
   "execution_count": 20,
   "id": "medium-sauce",
   "metadata": {},
   "outputs": [
    {
     "name": "stdout",
     "output_type": "stream",
     "text": [
      "              precision    recall  f1-score   support\n",
      "\n",
      "           0       1.00      1.00      1.00        38\n",
      "           1       1.00      0.97      0.98        30\n",
      "           2       0.97      1.00      0.99        35\n",
      "           3       0.98      0.93      0.95        44\n",
      "           4       0.98      1.00      0.99        42\n",
      "           5       0.91      0.97      0.94        30\n",
      "           6       1.00      0.97      0.98        30\n",
      "           7       0.97      1.00      0.99        36\n",
      "           8       0.95      0.95      0.95        39\n",
      "           9       0.97      0.94      0.96        36\n",
      "\n",
      "    accuracy                           0.97       360\n",
      "   macro avg       0.97      0.97      0.97       360\n",
      "weighted avg       0.97      0.97      0.97       360\n",
      "\n"
     ]
    }
   ],
   "source": [
    "model_logistic = LogisticRegression(max_iter=3000, random_state=16)\n",
    "model_logistic.fit(x_train, y_train)\n",
    "y_predict = model_logistic.predict(x_test)\n",
    "\n",
    "print(classification_report(y_test, y_predict))"
   ]
  },
  {
   "cell_type": "markdown",
   "id": "fantastic-shift",
   "metadata": {},
   "source": [
    "전체 정확도 0.97\n",
    "\n",
    "정밀도는 숫자 '5'가, 재현율은 숫자 '3'이 가장 낮았다.  \n",
    "f1-score은 숫자 '5'이 가장 낮고, 그 다음으로 숫자 '8'이 낮았다."
   ]
  },
  {
   "cell_type": "markdown",
   "id": "subjective-bracelet",
   "metadata": {},
   "source": [
    "## 모델을 평가해 보기"
   ]
  },
  {
   "cell_type": "markdown",
   "id": "blessed-syndication",
   "metadata": {},
   "source": [
    "손글씨 데이터를 5가지 모델로 학습시켜 보았다.\n",
    "\n",
    "라벨의 개수들이 균등한 데이터 셋이였고, SGD를 제외하면 전체적으로 비슷한 결과들이 나왔다.  \n",
    "손글씨인 만큼 결국 가장 중요한 건 f-score와 accuracy인 것 같다.\n",
    "\n",
    "SVM이 가장 높은 정확도를 보여주었다.  \n",
    "손글씨라고 하지만 결과적으로 숫자들을 구분할 수 있는 경계가 존재하기 때문인 것 같다.\n",
    "\n",
    "그리고 공통적으로 숫자 '3'은 정밀도는 괜찮지만, 재현율이 가장 떨어졌다.  \n",
    "즉, 숫자 '3'은 다른 숫자로 착각하지는 않지만, 다른 숫자가 '3'이라고 착각하기는 쉽다는 것이다.\n",
    "\n",
    "그와는 반대로 숫자 '5'는 괜찮은 재현율에 평균 정밀도가 가장 낮았다.\n",
    "숫자 '3'는 반대로 해석된다.\n",
    "\n",
    "그리고 전체적으로 숫자 '8', '9'가 틀리기 쉬운 숫자인 것 같다."
   ]
  }
 ],
 "metadata": {
  "kernelspec": {
   "display_name": "Python 3",
   "language": "python",
   "name": "python3"
  },
  "language_info": {
   "codemirror_mode": {
    "name": "ipython",
    "version": 3
   },
   "file_extension": ".py",
   "mimetype": "text/x-python",
   "name": "python",
   "nbconvert_exporter": "python",
   "pygments_lexer": "ipython3",
   "version": "3.7.9"
  }
 },
 "nbformat": 4,
 "nbformat_minor": 5
}
