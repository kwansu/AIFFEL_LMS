{
 "cells": [
  {
   "cell_type": "markdown",
   "source": [
    "# 한국어 데이터로 챗봇 만들기\n",
    "\n",
    "transformer를 이용하여 챗봇을 만들어보자."
   ],
   "metadata": {}
  },
  {
   "cell_type": "markdown",
   "source": [
    "## 0. 모듈 import"
   ],
   "metadata": {}
  },
  {
   "cell_type": "code",
   "execution_count": 1,
   "source": [
    "import os\r\n",
    "import re\r\n",
    "import numpy as np\r\n",
    "import pandas as pd\r\n",
    "import tensorflow as tf\r\n",
    "import tensorflow_datasets as tfds\r\n",
    "import matplotlib.pyplot as plt\r\n",
    "\r\n",
    "#from konlpy.tag import Okt"
   ],
   "outputs": [],
   "metadata": {}
  },
  {
   "cell_type": "markdown",
   "source": [
    "## 1. 데이터 수집하기"
   ],
   "metadata": {}
  },
  {
   "cell_type": "markdown",
   "source": [
    "학습할 데이터는 다음 출저에 받은 데이터를 사용한다.\n",
    "\n",
    "https://github.com/songys/Chatbot_data/blob/master/ChatbotData.csv\n",
    "\n",
    "인공데이터로 일부 이별과 관련된 질문에서 다음카페 \"사랑보다 아름다운 실연\"에서  \n",
    "자주 나오는 이야기들을 참고하여 제작하였다고 한다."
   ],
   "metadata": {}
  },
  {
   "cell_type": "code",
   "execution_count": 2,
   "source": [
    "data_path = 'C:/Users/kwansu/Desktop/AIFFEL_LMS/E15_Transformer_KereanChatbot/data/ChatbotData.csv'\r\n",
    "data = pd.read_csv(data_path)\r\n",
    "data"
   ],
   "outputs": [
    {
     "output_type": "execute_result",
     "data": {
      "text/html": [
       "<div>\n",
       "<style scoped>\n",
       "    .dataframe tbody tr th:only-of-type {\n",
       "        vertical-align: middle;\n",
       "    }\n",
       "\n",
       "    .dataframe tbody tr th {\n",
       "        vertical-align: top;\n",
       "    }\n",
       "\n",
       "    .dataframe thead th {\n",
       "        text-align: right;\n",
       "    }\n",
       "</style>\n",
       "<table border=\"1\" class=\"dataframe\">\n",
       "  <thead>\n",
       "    <tr style=\"text-align: right;\">\n",
       "      <th></th>\n",
       "      <th>Q</th>\n",
       "      <th>A</th>\n",
       "      <th>label</th>\n",
       "    </tr>\n",
       "  </thead>\n",
       "  <tbody>\n",
       "    <tr>\n",
       "      <th>0</th>\n",
       "      <td>12시 땡!</td>\n",
       "      <td>하루가 또 가네요.</td>\n",
       "      <td>0</td>\n",
       "    </tr>\n",
       "    <tr>\n",
       "      <th>1</th>\n",
       "      <td>1지망 학교 떨어졌어</td>\n",
       "      <td>위로해 드립니다.</td>\n",
       "      <td>0</td>\n",
       "    </tr>\n",
       "    <tr>\n",
       "      <th>2</th>\n",
       "      <td>3박4일 놀러가고 싶다</td>\n",
       "      <td>여행은 언제나 좋죠.</td>\n",
       "      <td>0</td>\n",
       "    </tr>\n",
       "    <tr>\n",
       "      <th>3</th>\n",
       "      <td>3박4일 정도 놀러가고 싶다</td>\n",
       "      <td>여행은 언제나 좋죠.</td>\n",
       "      <td>0</td>\n",
       "    </tr>\n",
       "    <tr>\n",
       "      <th>4</th>\n",
       "      <td>PPL 심하네</td>\n",
       "      <td>눈살이 찌푸려지죠.</td>\n",
       "      <td>0</td>\n",
       "    </tr>\n",
       "    <tr>\n",
       "      <th>...</th>\n",
       "      <td>...</td>\n",
       "      <td>...</td>\n",
       "      <td>...</td>\n",
       "    </tr>\n",
       "    <tr>\n",
       "      <th>11818</th>\n",
       "      <td>훔쳐보는 것도 눈치 보임.</td>\n",
       "      <td>티가 나니까 눈치가 보이는 거죠!</td>\n",
       "      <td>2</td>\n",
       "    </tr>\n",
       "    <tr>\n",
       "      <th>11819</th>\n",
       "      <td>훔쳐보는 것도 눈치 보임.</td>\n",
       "      <td>훔쳐보는 거 티나나봐요.</td>\n",
       "      <td>2</td>\n",
       "    </tr>\n",
       "    <tr>\n",
       "      <th>11820</th>\n",
       "      <td>흑기사 해주는 짝남.</td>\n",
       "      <td>설렜겠어요.</td>\n",
       "      <td>2</td>\n",
       "    </tr>\n",
       "    <tr>\n",
       "      <th>11821</th>\n",
       "      <td>힘든 연애 좋은 연애라는게 무슨 차이일까?</td>\n",
       "      <td>잘 헤어질 수 있는 사이 여부인 거 같아요.</td>\n",
       "      <td>2</td>\n",
       "    </tr>\n",
       "    <tr>\n",
       "      <th>11822</th>\n",
       "      <td>힘들어서 결혼할까봐</td>\n",
       "      <td>도피성 결혼은 하지 않길 바라요.</td>\n",
       "      <td>2</td>\n",
       "    </tr>\n",
       "  </tbody>\n",
       "</table>\n",
       "<p>11823 rows × 3 columns</p>\n",
       "</div>"
      ],
      "text/plain": [
       "                             Q                         A  label\n",
       "0                       12시 땡!                하루가 또 가네요.      0\n",
       "1                  1지망 학교 떨어졌어                 위로해 드립니다.      0\n",
       "2                 3박4일 놀러가고 싶다               여행은 언제나 좋죠.      0\n",
       "3              3박4일 정도 놀러가고 싶다               여행은 언제나 좋죠.      0\n",
       "4                      PPL 심하네                눈살이 찌푸려지죠.      0\n",
       "...                        ...                       ...    ...\n",
       "11818           훔쳐보는 것도 눈치 보임.        티가 나니까 눈치가 보이는 거죠!      2\n",
       "11819           훔쳐보는 것도 눈치 보임.             훔쳐보는 거 티나나봐요.      2\n",
       "11820              흑기사 해주는 짝남.                    설렜겠어요.      2\n",
       "11821  힘든 연애 좋은 연애라는게 무슨 차이일까?  잘 헤어질 수 있는 사이 여부인 거 같아요.      2\n",
       "11822               힘들어서 결혼할까봐        도피성 결혼은 하지 않길 바라요.      2\n",
       "\n",
       "[11823 rows x 3 columns]"
      ]
     },
     "metadata": {},
     "execution_count": 2
    }
   ],
   "metadata": {}
  },
  {
   "cell_type": "code",
   "execution_count": 3,
   "source": [
    "data.info()"
   ],
   "outputs": [
    {
     "output_type": "stream",
     "name": "stdout",
     "text": [
      "<class 'pandas.core.frame.DataFrame'>\n",
      "RangeIndex: 11823 entries, 0 to 11822\n",
      "Data columns (total 3 columns):\n",
      " #   Column  Non-Null Count  Dtype \n",
      "---  ------  --------------  ----- \n",
      " 0   Q       11823 non-null  object\n",
      " 1   A       11823 non-null  object\n",
      " 2   label   11823 non-null  int64 \n",
      "dtypes: int64(1), object(2)\n",
      "memory usage: 277.2+ KB\n"
     ]
    }
   ],
   "metadata": {}
  },
  {
   "cell_type": "markdown",
   "source": [
    "각 질문(Q)에 대한 답변(A)과 일상다반서 0, 이별(부정) 1, 사랑(긍정) 2로 레이블링으로  \n",
    "구성되어있고, 따로 결측치는 없다.  \n",
    "현재 만들 챗봇에는 딱히 라벨은 필요없으므로 제거해주자."
   ],
   "metadata": {}
  },
  {
   "cell_type": "code",
   "execution_count": 4,
   "source": [
    "data = data.drop('label', axis=1)\r\n",
    "data"
   ],
   "outputs": [
    {
     "output_type": "execute_result",
     "data": {
      "text/html": [
       "<div>\n",
       "<style scoped>\n",
       "    .dataframe tbody tr th:only-of-type {\n",
       "        vertical-align: middle;\n",
       "    }\n",
       "\n",
       "    .dataframe tbody tr th {\n",
       "        vertical-align: top;\n",
       "    }\n",
       "\n",
       "    .dataframe thead th {\n",
       "        text-align: right;\n",
       "    }\n",
       "</style>\n",
       "<table border=\"1\" class=\"dataframe\">\n",
       "  <thead>\n",
       "    <tr style=\"text-align: right;\">\n",
       "      <th></th>\n",
       "      <th>Q</th>\n",
       "      <th>A</th>\n",
       "    </tr>\n",
       "  </thead>\n",
       "  <tbody>\n",
       "    <tr>\n",
       "      <th>0</th>\n",
       "      <td>12시 땡!</td>\n",
       "      <td>하루가 또 가네요.</td>\n",
       "    </tr>\n",
       "    <tr>\n",
       "      <th>1</th>\n",
       "      <td>1지망 학교 떨어졌어</td>\n",
       "      <td>위로해 드립니다.</td>\n",
       "    </tr>\n",
       "    <tr>\n",
       "      <th>2</th>\n",
       "      <td>3박4일 놀러가고 싶다</td>\n",
       "      <td>여행은 언제나 좋죠.</td>\n",
       "    </tr>\n",
       "    <tr>\n",
       "      <th>3</th>\n",
       "      <td>3박4일 정도 놀러가고 싶다</td>\n",
       "      <td>여행은 언제나 좋죠.</td>\n",
       "    </tr>\n",
       "    <tr>\n",
       "      <th>4</th>\n",
       "      <td>PPL 심하네</td>\n",
       "      <td>눈살이 찌푸려지죠.</td>\n",
       "    </tr>\n",
       "    <tr>\n",
       "      <th>...</th>\n",
       "      <td>...</td>\n",
       "      <td>...</td>\n",
       "    </tr>\n",
       "    <tr>\n",
       "      <th>11818</th>\n",
       "      <td>훔쳐보는 것도 눈치 보임.</td>\n",
       "      <td>티가 나니까 눈치가 보이는 거죠!</td>\n",
       "    </tr>\n",
       "    <tr>\n",
       "      <th>11819</th>\n",
       "      <td>훔쳐보는 것도 눈치 보임.</td>\n",
       "      <td>훔쳐보는 거 티나나봐요.</td>\n",
       "    </tr>\n",
       "    <tr>\n",
       "      <th>11820</th>\n",
       "      <td>흑기사 해주는 짝남.</td>\n",
       "      <td>설렜겠어요.</td>\n",
       "    </tr>\n",
       "    <tr>\n",
       "      <th>11821</th>\n",
       "      <td>힘든 연애 좋은 연애라는게 무슨 차이일까?</td>\n",
       "      <td>잘 헤어질 수 있는 사이 여부인 거 같아요.</td>\n",
       "    </tr>\n",
       "    <tr>\n",
       "      <th>11822</th>\n",
       "      <td>힘들어서 결혼할까봐</td>\n",
       "      <td>도피성 결혼은 하지 않길 바라요.</td>\n",
       "    </tr>\n",
       "  </tbody>\n",
       "</table>\n",
       "<p>11823 rows × 2 columns</p>\n",
       "</div>"
      ],
      "text/plain": [
       "                             Q                         A\n",
       "0                       12시 땡!                하루가 또 가네요.\n",
       "1                  1지망 학교 떨어졌어                 위로해 드립니다.\n",
       "2                 3박4일 놀러가고 싶다               여행은 언제나 좋죠.\n",
       "3              3박4일 정도 놀러가고 싶다               여행은 언제나 좋죠.\n",
       "4                      PPL 심하네                눈살이 찌푸려지죠.\n",
       "...                        ...                       ...\n",
       "11818           훔쳐보는 것도 눈치 보임.        티가 나니까 눈치가 보이는 거죠!\n",
       "11819           훔쳐보는 것도 눈치 보임.             훔쳐보는 거 티나나봐요.\n",
       "11820              흑기사 해주는 짝남.                    설렜겠어요.\n",
       "11821  힘든 연애 좋은 연애라는게 무슨 차이일까?  잘 헤어질 수 있는 사이 여부인 거 같아요.\n",
       "11822               힘들어서 결혼할까봐        도피성 결혼은 하지 않길 바라요.\n",
       "\n",
       "[11823 rows x 2 columns]"
      ]
     },
     "metadata": {},
     "execution_count": 4
    }
   ],
   "metadata": {}
  },
  {
   "cell_type": "markdown",
   "source": [
    "##  2. 데이터 전처리하기"
   ],
   "metadata": {}
  },
  {
   "cell_type": "markdown",
   "source": [
    "' '으로 단어들을 구분하자.  \n",
    "대표적으로 [! ? , .] 등의 특수문자와 'ㅠㅠ' 'ㅋㅋ' 등의  \n",
    "자음/모음으로만 의성어도 구분한다.  \n",
    "그 외 쓰지 않는 특수문자등은 제거한다."
   ],
   "metadata": {}
  },
  {
   "cell_type": "code",
   "execution_count": 5,
   "source": [
    "# 전처리 함수\r\n",
    "def preprocess_sentence(sentence):\r\n",
    "    sentence = sentence.lower().strip()\r\n",
    "\r\n",
    "    # 단어와 구두점(punctuation) 사이의 거리를 만듭니다.\r\n",
    "    # 'ㅋㅋ', 'ㅠㅠ' 등의 자음/모음으로만 구성된 의성어도 나눈다.\r\n",
    "    sentence = re.sub(r\"([?.!,])\", r\" \\1 \", sentence)\r\n",
    "    sentence = re.sub(r\"([ㄱ-ㅎㅏ-ㅣ]+)\", r\" \\1 \", sentence)\r\n",
    "    sentence = re.sub(r'[\" \"]+', \" \", sentence)\r\n",
    "\r\n",
    "    # 한글,영문자,숫자,?,.,!,,를 제외한 모든 문자를 공백 \" \"으로 대체한다.\r\n",
    "    sentence = re.sub(r\"[^ㄱ-ㅎㅏ-ㅣ가-힣a-zA-Z0-9?.!,]+\", \" \", sentence)\r\n",
    "    sentence = sentence.strip()\r\n",
    "    return sentence"
   ],
   "outputs": [],
   "metadata": {}
  },
  {
   "cell_type": "code",
   "execution_count": 6,
   "source": [
    "preprocessed_data = data.applymap(lambda x : preprocess_sentence(x))\r\n",
    "preprocessed_data.head()"
   ],
   "outputs": [
    {
     "output_type": "execute_result",
     "data": {
      "text/html": [
       "<div>\n",
       "<style scoped>\n",
       "    .dataframe tbody tr th:only-of-type {\n",
       "        vertical-align: middle;\n",
       "    }\n",
       "\n",
       "    .dataframe tbody tr th {\n",
       "        vertical-align: top;\n",
       "    }\n",
       "\n",
       "    .dataframe thead th {\n",
       "        text-align: right;\n",
       "    }\n",
       "</style>\n",
       "<table border=\"1\" class=\"dataframe\">\n",
       "  <thead>\n",
       "    <tr style=\"text-align: right;\">\n",
       "      <th></th>\n",
       "      <th>Q</th>\n",
       "      <th>A</th>\n",
       "    </tr>\n",
       "  </thead>\n",
       "  <tbody>\n",
       "    <tr>\n",
       "      <th>0</th>\n",
       "      <td>12시 땡 !</td>\n",
       "      <td>하루가 또 가네요 .</td>\n",
       "    </tr>\n",
       "    <tr>\n",
       "      <th>1</th>\n",
       "      <td>1지망 학교 떨어졌어</td>\n",
       "      <td>위로해 드립니다 .</td>\n",
       "    </tr>\n",
       "    <tr>\n",
       "      <th>2</th>\n",
       "      <td>3박4일 놀러가고 싶다</td>\n",
       "      <td>여행은 언제나 좋죠 .</td>\n",
       "    </tr>\n",
       "    <tr>\n",
       "      <th>3</th>\n",
       "      <td>3박4일 정도 놀러가고 싶다</td>\n",
       "      <td>여행은 언제나 좋죠 .</td>\n",
       "    </tr>\n",
       "    <tr>\n",
       "      <th>4</th>\n",
       "      <td>ppl 심하네</td>\n",
       "      <td>눈살이 찌푸려지죠 .</td>\n",
       "    </tr>\n",
       "  </tbody>\n",
       "</table>\n",
       "</div>"
      ],
      "text/plain": [
       "                 Q             A\n",
       "0          12시 땡 !   하루가 또 가네요 .\n",
       "1      1지망 학교 떨어졌어    위로해 드립니다 .\n",
       "2     3박4일 놀러가고 싶다  여행은 언제나 좋죠 .\n",
       "3  3박4일 정도 놀러가고 싶다  여행은 언제나 좋죠 .\n",
       "4          ppl 심하네   눈살이 찌푸려지죠 ."
      ]
     },
     "metadata": {},
     "execution_count": 6
    }
   ],
   "metadata": {}
  },
  {
   "cell_type": "markdown",
   "source": [
    "3박4일 처럼 숫자도 구분할까 했지만 일단 이대로 학습 시켜보자."
   ],
   "metadata": {}
  },
  {
   "cell_type": "code",
   "execution_count": 7,
   "source": [
    "questions, answers = preprocessed_data.Q.values, preprocessed_data.A.values\r\n",
    "\r\n",
    "print('전체 샘플 수 :', len(questions))\r\n",
    "print('전체 샘플 수 :', len(answers))"
   ],
   "outputs": [
    {
     "output_type": "stream",
     "name": "stdout",
     "text": [
      "전체 샘플 수 : 11823\n",
      "전체 샘플 수 : 11823\n"
     ]
    }
   ],
   "metadata": {}
  },
  {
   "cell_type": "code",
   "execution_count": 8,
   "source": [
    "print('전처리 전의 8번째 질문 샘플: {}'.format(data.Q[7]))\r\n",
    "print('전처리 전의 8번째 답변 샘플: {}'.format(data.A[7]))"
   ],
   "outputs": [
    {
     "output_type": "stream",
     "name": "stdout",
     "text": [
      "전처리 전의 8번째 질문 샘플: SNS 맞팔 왜 안하지ㅠㅠ\n",
      "전처리 전의 8번째 답변 샘플: 잘 모르고 있을 수도 있어요.\n"
     ]
    }
   ],
   "metadata": {}
  },
  {
   "cell_type": "code",
   "execution_count": 9,
   "source": [
    "print('전처리 후의 8번째 질문 샘플: {}'.format(questions[7]))\r\n",
    "print('전처리 후의 8번째 답변 샘플: {}'.format(answers[7]))"
   ],
   "outputs": [
    {
     "output_type": "stream",
     "name": "stdout",
     "text": [
      "전처리 후의 8번째 질문 샘플: sns 맞팔 왜 안하지 ㅠㅠ\n",
      "전처리 후의 8번째 답변 샘플: 잘 모르고 있을 수도 있어요 .\n"
     ]
    }
   ],
   "metadata": {}
  },
  {
   "cell_type": "markdown",
   "source": [
    "전처리 전 후를 비교해보면 의성어나 마침표 등이 잘 나누어진것을 확인 할 수 있다.\n",
    "\n",
    "각 문장의 나누어진 단어 개수를 세워보자."
   ],
   "metadata": {}
  },
  {
   "cell_type": "code",
   "execution_count": 10,
   "source": [
    "preprocessed_data['Q_length'] = preprocessed_data['Q'].str.count(' ')+1\r\n",
    "preprocessed_data['A_length'] = preprocessed_data['A'].str.count(' ')+1\r\n",
    "preprocessed_data.head()"
   ],
   "outputs": [
    {
     "output_type": "execute_result",
     "data": {
      "text/html": [
       "<div>\n",
       "<style scoped>\n",
       "    .dataframe tbody tr th:only-of-type {\n",
       "        vertical-align: middle;\n",
       "    }\n",
       "\n",
       "    .dataframe tbody tr th {\n",
       "        vertical-align: top;\n",
       "    }\n",
       "\n",
       "    .dataframe thead th {\n",
       "        text-align: right;\n",
       "    }\n",
       "</style>\n",
       "<table border=\"1\" class=\"dataframe\">\n",
       "  <thead>\n",
       "    <tr style=\"text-align: right;\">\n",
       "      <th></th>\n",
       "      <th>Q</th>\n",
       "      <th>A</th>\n",
       "      <th>Q_length</th>\n",
       "      <th>A_length</th>\n",
       "    </tr>\n",
       "  </thead>\n",
       "  <tbody>\n",
       "    <tr>\n",
       "      <th>0</th>\n",
       "      <td>12시 땡 !</td>\n",
       "      <td>하루가 또 가네요 .</td>\n",
       "      <td>3</td>\n",
       "      <td>4</td>\n",
       "    </tr>\n",
       "    <tr>\n",
       "      <th>1</th>\n",
       "      <td>1지망 학교 떨어졌어</td>\n",
       "      <td>위로해 드립니다 .</td>\n",
       "      <td>3</td>\n",
       "      <td>3</td>\n",
       "    </tr>\n",
       "    <tr>\n",
       "      <th>2</th>\n",
       "      <td>3박4일 놀러가고 싶다</td>\n",
       "      <td>여행은 언제나 좋죠 .</td>\n",
       "      <td>3</td>\n",
       "      <td>4</td>\n",
       "    </tr>\n",
       "    <tr>\n",
       "      <th>3</th>\n",
       "      <td>3박4일 정도 놀러가고 싶다</td>\n",
       "      <td>여행은 언제나 좋죠 .</td>\n",
       "      <td>4</td>\n",
       "      <td>4</td>\n",
       "    </tr>\n",
       "    <tr>\n",
       "      <th>4</th>\n",
       "      <td>ppl 심하네</td>\n",
       "      <td>눈살이 찌푸려지죠 .</td>\n",
       "      <td>2</td>\n",
       "      <td>3</td>\n",
       "    </tr>\n",
       "  </tbody>\n",
       "</table>\n",
       "</div>"
      ],
      "text/plain": [
       "                 Q             A  Q_length  A_length\n",
       "0          12시 땡 !   하루가 또 가네요 .         3         4\n",
       "1      1지망 학교 떨어졌어    위로해 드립니다 .         3         3\n",
       "2     3박4일 놀러가고 싶다  여행은 언제나 좋죠 .         3         4\n",
       "3  3박4일 정도 놀러가고 싶다  여행은 언제나 좋죠 .         4         4\n",
       "4          ppl 심하네   눈살이 찌푸려지죠 .         2         3"
      ]
     },
     "metadata": {},
     "execution_count": 10
    }
   ],
   "metadata": {}
  },
  {
   "cell_type": "code",
   "execution_count": 11,
   "source": [
    "length = pd.concat([preprocessed_data['Q_length'], preprocessed_data['A_length']])\r\n",
    "length"
   ],
   "outputs": [
    {
     "output_type": "execute_result",
     "data": {
      "text/plain": [
       "0        3\n",
       "1        3\n",
       "2        3\n",
       "3        4\n",
       "4        2\n",
       "        ..\n",
       "11818    6\n",
       "11819    4\n",
       "11820    2\n",
       "11821    9\n",
       "11822    6\n",
       "Length: 23646, dtype: int64"
      ]
     },
     "metadata": {},
     "execution_count": 11
    }
   ],
   "metadata": {}
  },
  {
   "cell_type": "code",
   "execution_count": 12,
   "source": [
    "plt.hist(length, bins = 24)\r\n",
    "plt.show()"
   ],
   "outputs": [
    {
     "output_type": "display_data",
     "data": {
      "image/png": "[encoded data removed]",
      "text/plain": [
       "<Figure size 432x288 with 1 Axes>"
      ]
     },
     "metadata": {
      "needs_background": "light"
     }
    }
   ],
   "metadata": {}
  },
  {
   "cell_type": "markdown",
   "source": [
    "최대 단어 개수는 24개까지 분포되어 있지만, 이후 토큰화 시키면서 개수가 늘어날 것이다."
   ],
   "metadata": {}
  },
  {
   "cell_type": "markdown",
   "source": [
    "## 3. Dataset 만들기\r\n",
    "\r\n",
    "각 질문(Q)과 답변(A)을 입력과 출력으로 데이터셋을 만들 것이다.  \r\n",
    "전처리한 단어를 토큰화 시키고 패딩 처리후 데이터셋으로 만든다.\r\n",
    "\r\n",
    "토큰화 과정은 2가지 방법을 이용할 것이다.   \r\n",
    "tensorflow_datasets의 내부 단어 토크나이저인 SubwordTextEncoder를 사용해서 토큰화시켜보자.  \r\n",
    "다른 방법으로 konlpy 패키지의 Okt를 이용해서 형태소로 토큰화시켜보자."
   ],
   "metadata": {}
  },
  {
   "cell_type": "markdown",
   "source": [
    "### SubwordTextEncoder\n",
    "\n",
    "target_vocab_size을 2^13=8192로 주었다.  \n",
    "16384의 경우는 토큰화된 단어에서 쓸데 없는 중복이 많은 거 같았다."
   ],
   "metadata": {}
  },
  {
   "cell_type": "code",
   "execution_count": 13,
   "source": [
    "#tokenizer = tfds.deprecated.text.SubwordTextEncoder.build_from_corpus(questions + ' ' + answers, target_vocab_size=2**13)\r\n",
    "tokenizer = tfds.features.text.SubwordTextEncoder.build_from_corpus(questions + ' ' + answers, target_vocab_size=2**13)"
   ],
   "outputs": [],
   "metadata": {}
  },
  {
   "cell_type": "code",
   "execution_count": 14,
   "source": [
    "START_TOKEN, END_TOKEN = [tokenizer.vocab_size], [tokenizer.vocab_size + 1]\r\n",
    "\r\n",
    "print('START_TOKEN의 번호 :' ,[tokenizer.vocab_size])\r\n",
    "print('END_TOKEN의 번호 :' ,[tokenizer.vocab_size + 1])"
   ],
   "outputs": [
    {
     "output_type": "stream",
     "name": "stdout",
     "text": [
      "START_TOKEN의 번호 : [8361]\n",
      "END_TOKEN의 번호 : [8362]\n"
     ]
    }
   ],
   "metadata": {
    "scrolled": true
   }
  },
  {
   "cell_type": "code",
   "execution_count": 15,
   "source": [
    "VOCAB_SIZE = tokenizer.vocab_size + 2\r\n",
    "f'토큰화된 단어의 개수 : {VOCAB_SIZE}'"
   ],
   "outputs": [
    {
     "output_type": "execute_result",
     "data": {
      "text/plain": [
       "'토큰화된 단어의 개수 : 8363'"
      ]
     },
     "metadata": {},
     "execution_count": 15
    }
   ],
   "metadata": {}
  },
  {
   "cell_type": "markdown",
   "source": [
    "토큰화된 단어는 14635개 이다.  "
   ],
   "metadata": {}
  },
  {
   "cell_type": "code",
   "execution_count": 16,
   "source": [
    "words = tokenizer.decode([i//2 if i%2 == 0 else 1  for i in range(1, (VOCAB_SIZE-2)*2)])\r\n",
    "print(words[:800])\r\n",
    "print(words[-800:])"
   ],
   "outputs": [
    {
     "output_type": "stream",
     "name": "stdout",
     "text": [
      " . . . .  . ?  .거예요 .수  .게  .너무  .더  .거  .좋아하는  .는  .이  .을  .잘  .고  .도  .것  .많이  .요 .안  .지  .나  .좋은  .다  .같아요 .사람  .가  .좀  .한  .있어요 .있을  .에  .은  .해보세요 .할  .면  .건  .싶어  .사람이  .를  .마세요 .하고  .하는  .같아  .네  .보세요 .죠 .서  .내가  .내  .의  .이제  .마음이  . ! .만  .썸  .다른  .그  .왜  .어떻게  .있는  .세요 .해  .다시  .시간이  .수도  .지 .이별  .것도  .오늘  .또  .좋을  .정말  .네요 .이 .같이  .해 .걸  .어  .는데  .될  .해요 .일  .자꾸  .나 .하세요 .없어요 .야  .길  .기  .로  .제가  .없어  .바랄게요 .하면  .싶다  .봐요 .때  .돼요 .으로  .가 .하지  .진짜  .저도  .먼저  .어 .에서  .그런  .헤어진지  .다 .나를  .주세요 .마음을  .데  .없는  .해도  .여자친구가  .혼자  .좋아요 .계속  .남자친구가  .못  .드세요 .줄  .않아요 .먹고  .네 .좋죠 .일이  .마음  .기 .힘든  .바랍니다 .보고  .날  .그럴  .연애  .연락  .아 .만큼  .있어  .생각해요 .말해보세요 .나봐요 .시간  .사랑이  .좋겠어요 .으면  .사람은  .뭐  .친구가  .주 .있으면  .무슨  .과  .있을까 .아직  .많은  .고 .니  .까 .그냥  .참  .인데  .에요 .안 . ,  .인  .이렇게  .보 .몰라요 .는게  .예요 .어떤\n",
      "1년만 .12 .10년  .10개월 ..  . , ,  .\u0000 .\u0001 .\u0002 .\u0003 .\u0004 .\u0005 .\u0006 .\u0007  .\t .\n",
      " .\u000e .\u000f .\u0010 .\u0011 .\u0012 .\u0013 .\u0014 .\u0015 .\u0016 .\u0017 .\u0018 .\u0019 .\u001a .\u001b .\u001c .\u001d .\u001e .\u001f .  .! .\" .# .$ .% .& .' .( .) .* .+ ., .- .. ./ .0 .1 .2 .3 .4 .5 .6 .7 .8 .9 .: .; .< .= .> .? .@ .A .B .C .D .E .F .G .H .I .J .K .L .M .N .O .P .Q .R .S .T .U .V .W .X .Y .Z .[ .\\ .] .^ ._ .` .a .b .c .d .e .f .g .h .i .j .k .l .m .n .o .p .q .r .s .t .u .v .w .x .y .z .{ .| .} .~ . .� .� .� .� .� .� .� .� .� .� .� .� .� .� .� .� .� .� .� .� .� .� .� .� .� .� .� .� .� .� .� .� .� .� .� .� .� .� .� .� .� .� .� .� .� .� .� .� .� .� .� .� .� .� .� .� .� .� .� .� .� .� .� .� .� .� .� .� .� .� .� .� .� .� .� .� .� .� .� .� .� .� .� .� .� .� .� .� .� .� .� .� .� .� .� .� .� .� .� .� .� .� .� .� .� .� .� .� .� .� .� .� .� .� .� .� .� .� .� .� .� .� .� .� .� .� .� .� .\n"
     ]
    }
   ],
   "metadata": {
    "scrolled": false
   }
  },
  {
   "cell_type": "markdown",
   "source": [
    "두 가지의 다른 방법으로 토큰화 시킨 결과를 비교해보면,  \n",
    "가장 큰 차이는 SubwordTextEncoder를 사용한 경우는 '시간이', '시간을' 처럼  \n",
    "형태소가 아닌 단어 자체로 토큰화 시켰고, konlpy 패키지의 경우는  \n",
    "'시간', '을' '이' 처럼 형태소로 토큰화 시킨 것을 알 수 있다."
   ],
   "metadata": {}
  },
  {
   "cell_type": "code",
   "execution_count": 17,
   "source": [
    "print(questions[21])\r\n",
    "print('정수 인코딩 후의 21번째 질문 샘플: {}'.format(tokenizer.encode(questions[21])))\r\n",
    "print('정수 인코딩 후의 21번째 답변 샘플: {}'.format(tokenizer.encode(answers[21])))"
   ],
   "outputs": [
    {
     "output_type": "stream",
     "name": "stdout",
     "text": [
      "가스비 장난 아님\n",
      "정수 인코딩 후의 21번째 질문 샘플: [5867, 601, 2487, 4210]\n",
      "정수 인코딩 후의 21번째 답변 샘플: [2353, 7677, 8, 6382, 97, 1]\n"
     ]
    }
   ],
   "metadata": {}
  },
  {
   "cell_type": "code",
   "execution_count": 18,
   "source": [
    "def tokenize_and_filter(tokenizer, inputs, outputs):\r\n",
    "    tokenized_inputs, tokenized_outputs = [], []\r\n",
    "    \r\n",
    "    # 최대 토큰 길이\r\n",
    "    max_length = 0\r\n",
    "    start_token = [tokenizer.vocab_size]\r\n",
    "    end_token = [tokenizer.vocab_size + 1]\r\n",
    "    \r\n",
    "    for (sentence1, sentence2) in zip(inputs, outputs):\r\n",
    "        # 정수 인코딩 과정에서 시작 토큰과 종료 토큰을 추가\r\n",
    "        sentence1 = start_token + tokenizer.encode(sentence1) + end_token\r\n",
    "        sentence2 = start_token + tokenizer.encode(sentence2) + end_token\r\n",
    "        max_length = max(max_length, max(len(sentence1), len(sentence2)))\r\n",
    "\r\n",
    "        tokenized_inputs.append(sentence1)\r\n",
    "        tokenized_outputs.append(sentence2)\r\n",
    "\r\n",
    "    tokenized_inputs = tf.keras.preprocessing.sequence.pad_sequences(\r\n",
    "        tokenized_inputs, maxlen=max_length, padding='post')\r\n",
    "    tokenized_outputs = tf.keras.preprocessing.sequence.pad_sequences(\r\n",
    "        tokenized_outputs, maxlen=max_length, padding='post')\r\n",
    "\r\n",
    "    return tokenized_inputs, tokenized_outputs, max_length"
   ],
   "outputs": [],
   "metadata": {}
  },
  {
   "cell_type": "code",
   "execution_count": 19,
   "source": [
    "BATCH_SIZE = 64\r\n",
    "BUFFER_SIZE = 20000\r\n",
    "\r\n",
    "def create_dataset(inputs, outputs):\r\n",
    "    # 디코더는 이전의 target을 다음의 input으로 사용합니다.\r\n",
    "    # 이에 따라 outputs에서는 START_TOKEN을 제거하겠습니다.\r\n",
    "    dataset = tf.data.Dataset.from_tensor_slices((\r\n",
    "        {\r\n",
    "            'inputs': inputs,\r\n",
    "            'dec_inputs': outputs[:, :-1]\r\n",
    "        },\r\n",
    "        {\r\n",
    "            'outputs': outputs[:, 1:]\r\n",
    "        },\r\n",
    "    ))\r\n",
    "\r\n",
    "    dataset = dataset.cache()\r\n",
    "    dataset = dataset.shuffle(BUFFER_SIZE)\r\n",
    "    dataset = dataset.batch(BATCH_SIZE)\r\n",
    "    dataset = dataset.prefetch(tf.data.experimental.AUTOTUNE)\r\n",
    "    return dataset"
   ],
   "outputs": [],
   "metadata": {}
  },
  {
   "cell_type": "code",
   "execution_count": 20,
   "source": [
    "tokenized_questions, tokenized_answers, MAX_LENGTH = tokenize_and_filter(tokenizer, questions, answers)\r\n",
    "\r\n",
    "print('단어장의 크기 :',(VOCAB_SIZE))\r\n",
    "print('최대 토큰 길이 : ', MAX_LENGTH)\r\n",
    "print('필터링 후의 질문 샘플 개수: {}'.format(len(tokenized_questions)))\r\n",
    "print('필터링 후의 답변 샘플 개수: {}'.format(len(tokenized_answers)))"
   ],
   "outputs": [
    {
     "output_type": "stream",
     "name": "stdout",
     "text": [
      "단어장의 크기 : 8363\n",
      "최대 토큰 길이 :  31\n",
      "필터링 후의 질문 샘플 개수: 11823\n",
      "필터링 후의 답변 샘플 개수: 11823\n"
     ]
    }
   ],
   "metadata": {}
  },
  {
   "cell_type": "markdown",
   "source": [
    "토큰화 후 최대 길이가 31로 늘었지만, 충분히 학습 가능한 길이이다."
   ],
   "metadata": {}
  },
  {
   "cell_type": "code",
   "execution_count": 21,
   "source": [
    "tokenized_questions"
   ],
   "outputs": [
    {
     "output_type": "execute_result",
     "data": {
      "text/plain": [
       "array([[8361, 8100, 2957, ...,    0,    0,    0],\n",
       "       [8361, 8154,   67, ...,    0,    0,    0],\n",
       "       [8361, 8156, 1417, ...,    0,    0,    0],\n",
       "       ...,\n",
       "       [8361, 8342, 8262, ...,    0,    0,    0],\n",
       "       [8361,  132,  137, ...,    0,    0,    0],\n",
       "       [8361, 1724,  984, ...,    0,    0,    0]])"
      ]
     },
     "metadata": {},
     "execution_count": 21
    }
   ],
   "metadata": {}
  },
  {
   "cell_type": "code",
   "execution_count": 22,
   "source": [
    "dataset = create_dataset(tokenized_questions, tokenized_answers)"
   ],
   "outputs": [],
   "metadata": {}
  },
  {
   "cell_type": "markdown",
   "source": [
    "## 4. 모델 구성하기\n",
    "\n",
    "transfomer 모델을 구성해보자."
   ],
   "metadata": {}
  },
  {
   "cell_type": "code",
   "execution_count": 23,
   "source": [
    "# 포지셔널 인코딩 레이어\r\n",
    "class PositionalEncoding(tf.keras.layers.Layer):\r\n",
    "    def __init__(self, position, d_model):\r\n",
    "        super(PositionalEncoding, self).__init__()\r\n",
    "        self.pos_encoding = self.positional_encoding(position, d_model)\r\n",
    "\r\n",
    "    def get_angles(self, position, i, d_model):\r\n",
    "        angles = 1 / tf.pow(10000, (2 * (i // 2)) /\r\n",
    "                            tf.cast(d_model, tf.float32))\r\n",
    "        return position * angles\r\n",
    "\r\n",
    "    def positional_encoding(self, position, d_model):\r\n",
    "        # 각도 배열 생성\r\n",
    "        angle_rads = self.get_angles(\r\n",
    "            position=tf.range(position, dtype=tf.float32)[:, tf.newaxis],\r\n",
    "            i=tf.range(d_model, dtype=tf.float32)[tf.newaxis, :],\r\n",
    "            d_model=d_model)\r\n",
    "\r\n",
    "        # 배열의 짝수 인덱스에는 sin 함수 적용\r\n",
    "        sines = tf.math.sin(angle_rads[:, 0::2])\r\n",
    "        # 배열의 홀수 인덱스에는 cosine 함수 적용\r\n",
    "        cosines = tf.math.cos(angle_rads[:, 1::2])\r\n",
    "\r\n",
    "        # sin과 cosine이 교차되도록 재배열\r\n",
    "        pos_encoding = tf.stack([sines, cosines], axis=0)\r\n",
    "        pos_encoding = tf.transpose(pos_encoding, [1, 2, 0])\r\n",
    "        pos_encoding = tf.reshape(pos_encoding, [position, d_model])\r\n",
    "\r\n",
    "        pos_encoding = pos_encoding[tf.newaxis, ...]\r\n",
    "        return tf.cast(pos_encoding, tf.float32)\r\n",
    "\r\n",
    "    def call(self, inputs):\r\n",
    "        return inputs + self.pos_encoding[:, :tf.shape(inputs)[1], :]\r\n"
   ],
   "outputs": [],
   "metadata": {}
  },
  {
   "cell_type": "code",
   "execution_count": 24,
   "source": [
    "# 스케일드 닷 프로덕트 어텐션 함수\r\n",
    "def scaled_dot_product_attention(query, key, value, mask):\r\n",
    "    # 어텐션 가중치는 Q와 K의 닷 프로덕트\r\n",
    "    matmul_qk = tf.matmul(query, key, transpose_b=True)\r\n",
    "\r\n",
    "    # 가중치를 정규화\r\n",
    "    depth = tf.cast(tf.shape(key)[-1], tf.float32)\r\n",
    "    logits = matmul_qk / tf.math.sqrt(depth)\r\n",
    "\r\n",
    "    # 패딩에 마스크 추가\r\n",
    "    if mask is not None:\r\n",
    "        logits += (mask * -1e9)\r\n",
    "\r\n",
    "    # softmax적용\r\n",
    "    attention_weights = tf.nn.softmax(logits, axis=-1)\r\n",
    "\r\n",
    "    # 최종 어텐션은 가중치와 V의 닷 프로덕트\r\n",
    "    output = tf.matmul(attention_weights, value)\r\n",
    "    return output"
   ],
   "outputs": [],
   "metadata": {}
  },
  {
   "cell_type": "code",
   "execution_count": 25,
   "source": [
    "class MultiHeadAttention(tf.keras.layers.Layer):\r\n",
    "    def __init__(self, d_model, num_heads, name=\"multi_head_attention\"):\r\n",
    "        super(MultiHeadAttention, self).__init__(name=name)\r\n",
    "        self.num_heads = num_heads\r\n",
    "        self.d_model = d_model\r\n",
    "\r\n",
    "        assert d_model % self.num_heads == 0\r\n",
    "\r\n",
    "        self.depth = d_model // self.num_heads\r\n",
    "\r\n",
    "        self.query_dense = tf.keras.layers.Dense(units=d_model)\r\n",
    "        self.key_dense = tf.keras.layers.Dense(units=d_model)\r\n",
    "        self.value_dense = tf.keras.layers.Dense(units=d_model)\r\n",
    "\r\n",
    "        self.dense = tf.keras.layers.Dense(units=d_model)\r\n",
    "\r\n",
    "    def split_heads(self, inputs, batch_size):\r\n",
    "        inputs = tf.reshape(\r\n",
    "            inputs, shape=(batch_size, -1, self.num_heads, self.depth))\r\n",
    "        return tf.transpose(inputs, perm=[0, 2, 1, 3])\r\n",
    "\r\n",
    "    def call(self, inputs):\r\n",
    "        query, key, value, mask = inputs['query'], inputs['key'], inputs['value'], inputs['mask']\r\n",
    "        batch_size = tf.shape(query)[0]\r\n",
    "\r\n",
    "        # Q, K, V에 각각 Dense를 적용합니다\r\n",
    "        query = self.query_dense(query)\r\n",
    "        key = self.key_dense(key)\r\n",
    "        value = self.value_dense(value)\r\n",
    "\r\n",
    "        # 병렬 연산을 위한 머리를 여러 개 만듭니다\r\n",
    "        query = self.split_heads(query, batch_size)\r\n",
    "        key = self.split_heads(key, batch_size)\r\n",
    "        value = self.split_heads(value, batch_size)\r\n",
    "\r\n",
    "        # 스케일드 닷 프로덕트 어텐션 함수\r\n",
    "        scaled_attention = scaled_dot_product_attention(query, key, value, mask)\r\n",
    "\r\n",
    "        scaled_attention = tf.transpose(scaled_attention, perm=[0, 2, 1, 3])\r\n",
    "\r\n",
    "        # 어텐션 연산 후에 각 결과를 다시 연결(concatenate)합니다\r\n",
    "        concat_attention = tf.reshape(scaled_attention, (batch_size, -1, self.d_model))\r\n",
    "\r\n",
    "        # 최종 결과에도 Dense를 한 번 더 적용합니다\r\n",
    "        outputs = self.dense(concat_attention)\r\n",
    "\r\n",
    "        return outputs"
   ],
   "outputs": [],
   "metadata": {}
  },
  {
   "cell_type": "code",
   "execution_count": 26,
   "source": [
    "def create_padding_mask(x):\r\n",
    "    mask = tf.cast(tf.math.equal(x, 0), tf.float32)\r\n",
    "    # (batch_size, 1, 1, sequence length)\r\n",
    "    return mask[:, tf.newaxis, tf.newaxis, :]"
   ],
   "outputs": [],
   "metadata": {}
  },
  {
   "cell_type": "code",
   "execution_count": 27,
   "source": [
    "def create_look_ahead_mask(x):\r\n",
    "    seq_len = tf.shape(x)[1]\r\n",
    "    look_ahead_mask = 1 - tf.linalg.band_part(tf.ones((seq_len, seq_len)), -1, 0)\r\n",
    "    padding_mask = create_padding_mask(x)\r\n",
    "    return tf.maximum(look_ahead_mask, padding_mask)"
   ],
   "outputs": [],
   "metadata": {}
  },
  {
   "cell_type": "code",
   "execution_count": 28,
   "source": [
    "# 인코더 하나의 레이어를 함수로 구현.\r\n",
    "# 이 하나의 레이어 안에는 두 개의 서브 레이어가 존재합니다.\r\n",
    "def encoder_layer(units, d_model, num_heads, dropout, name=\"encoder_layer\"):\r\n",
    "    inputs = tf.keras.Input(shape=(None, d_model), name=\"inputs\")\r\n",
    "\r\n",
    "    # 패딩 마스크 사용\r\n",
    "    padding_mask = tf.keras.Input(shape=(1, 1, None), name=\"padding_mask\")\r\n",
    "\r\n",
    "    # 첫 번째 서브 레이어 : 멀티 헤드 어텐션 수행 (셀프 어텐션)\r\n",
    "    attention = MultiHeadAttention(\r\n",
    "        d_model, num_heads, name=\"attention\")({\r\n",
    "            'query': inputs,\r\n",
    "            'key': inputs,\r\n",
    "            'value': inputs,\r\n",
    "            'mask': padding_mask\r\n",
    "        })\r\n",
    "\r\n",
    "    # 어텐션의 결과는 Dropout과 Layer Normalization이라는 훈련을 돕는 테크닉을 수행\r\n",
    "    attention = tf.keras.layers.Dropout(rate=dropout)(attention)\r\n",
    "    attention = tf.keras.layers.LayerNormalization(epsilon=1e-6)(inputs + attention)\r\n",
    "\r\n",
    "    # 두 번째 서브 레이어 : 2개의 완전연결층\r\n",
    "    outputs = tf.keras.layers.Dense(units=units, activation='relu')(attention)\r\n",
    "    outputs = tf.keras.layers.Dense(units=d_model)(outputs)\r\n",
    "\r\n",
    "    # 완전연결층의 결과는 Dropout과 LayerNormalization이라는 훈련을 돕는 테크닉을 수행\r\n",
    "    outputs = tf.keras.layers.Dropout(rate=dropout)(outputs)\r\n",
    "    outputs = tf.keras.layers.LayerNormalization(epsilon=1e-6)(attention + outputs)\r\n",
    "\r\n",
    "    return tf.keras.Model(inputs=[inputs, padding_mask], outputs=outputs, name=name)"
   ],
   "outputs": [],
   "metadata": {}
  },
  {
   "cell_type": "code",
   "execution_count": 29,
   "source": [
    "def encoder(vocab_size,\r\n",
    "            num_layers,\r\n",
    "            units,\r\n",
    "            d_model,\r\n",
    "            num_heads,\r\n",
    "            dropout,\r\n",
    "            name=\"encoder\"):\r\n",
    "    inputs = tf.keras.Input(shape=(None,), name=\"inputs\")\r\n",
    "\r\n",
    "    # 패딩 마스크 사용\r\n",
    "    padding_mask = tf.keras.Input(shape=(1, 1, None), name=\"padding_mask\")\r\n",
    "\r\n",
    "    # 임베딩 레이어\r\n",
    "    embeddings = tf.keras.layers.Embedding(vocab_size, d_model)(inputs)\r\n",
    "    embeddings *= tf.math.sqrt(tf.cast(d_model, tf.float32))\r\n",
    "\r\n",
    "    # 포지셔널 인코딩\r\n",
    "    embeddings = PositionalEncoding(vocab_size, d_model)(embeddings)\r\n",
    "\r\n",
    "    outputs = tf.keras.layers.Dropout(rate=dropout)(embeddings)\r\n",
    "\r\n",
    "    # num_layers만큼 쌓아올린 인코더의 층.\r\n",
    "    for i in range(num_layers):\r\n",
    "        outputs = encoder_layer(\r\n",
    "            units=units,\r\n",
    "            d_model=d_model,\r\n",
    "            num_heads=num_heads,\r\n",
    "            dropout=dropout,\r\n",
    "            name=\"encoder_layer_{}\".format(i),\r\n",
    "        )([outputs, padding_mask])\r\n",
    "\r\n",
    "    return tf.keras.Model(inputs=[inputs, padding_mask], outputs=outputs, name=name)"
   ],
   "outputs": [],
   "metadata": {}
  },
  {
   "cell_type": "code",
   "execution_count": 30,
   "source": [
    "# 디코더 하나의 레이어를 함수로 구현.\r\n",
    "# 이 하나의 레이어 안에는 세 개의 서브 레이어가 존재합니다.\r\n",
    "def decoder_layer(units, d_model, num_heads, dropout, name=\"decoder_layer\"):\r\n",
    "    inputs = tf.keras.Input(shape=(None, d_model), name=\"inputs\")\r\n",
    "    enc_outputs = tf.keras.Input(shape=(None, d_model), name=\"encoder_outputs\")\r\n",
    "    look_ahead_mask = tf.keras.Input(\r\n",
    "        shape=(1, None, None), name=\"look_ahead_mask\")\r\n",
    "    padding_mask = tf.keras.Input(shape=(1, 1, None), name='padding_mask')\r\n",
    "\r\n",
    "    # 첫 번째 서브 레이어 : 멀티 헤드 어텐션 수행 (셀프 어텐션)\r\n",
    "    attention1 = MultiHeadAttention(\r\n",
    "        d_model, num_heads, name=\"attention_1\")(inputs={\r\n",
    "            'query': inputs,\r\n",
    "            'key': inputs,\r\n",
    "            'value': inputs,\r\n",
    "            'mask': look_ahead_mask\r\n",
    "        })\r\n",
    "\r\n",
    "    # 멀티 헤드 어텐션의 결과는 LayerNormalization이라는 훈련을 돕는 테크닉을 수행\r\n",
    "    attention1 = tf.keras.layers.LayerNormalization(epsilon=1e-6)(attention1 + inputs)\r\n",
    "\r\n",
    "    # 두 번째 서브 레이어 : 마스크드 멀티 헤드 어텐션 수행 (인코더-디코더 어텐션)\r\n",
    "    attention2 = MultiHeadAttention(\r\n",
    "        d_model, num_heads, name=\"attention_2\")(inputs={\r\n",
    "            'query': attention1,\r\n",
    "            'key': enc_outputs,\r\n",
    "            'value': enc_outputs,\r\n",
    "            'mask': padding_mask\r\n",
    "        })\r\n",
    "\r\n",
    "    # 마스크드 멀티 헤드 어텐션의 결과는\r\n",
    "    # Dropout과 LayerNormalization이라는 훈련을 돕는 테크닉을 수행\r\n",
    "    attention2 = tf.keras.layers.Dropout(rate=dropout)(attention2)\r\n",
    "    attention2 = tf.keras.layers.LayerNormalization(epsilon=1e-6)(attention2 + attention1)\r\n",
    "\r\n",
    "    # 세 번째 서브 레이어 : 2개의 완전연결층\r\n",
    "    outputs = tf.keras.layers.Dense(units=units, activation='relu')(attention2)\r\n",
    "    outputs = tf.keras.layers.Dense(units=d_model)(outputs)\r\n",
    "\r\n",
    "    # 완전연결층의 결과는 Dropout과 LayerNormalization 수행\r\n",
    "    outputs = tf.keras.layers.Dropout(rate=dropout)(outputs)\r\n",
    "    outputs = tf.keras.layers.LayerNormalization(epsilon=1e-6)(outputs + attention2)\r\n",
    "\r\n",
    "    return tf.keras.Model(\r\n",
    "        inputs=[inputs, enc_outputs, look_ahead_mask, padding_mask],\r\n",
    "        outputs=outputs,\r\n",
    "        name=name)"
   ],
   "outputs": [],
   "metadata": {}
  },
  {
   "cell_type": "code",
   "execution_count": 31,
   "source": [
    "def decoder(vocab_size,\r\n",
    "            num_layers,\r\n",
    "            units,\r\n",
    "            d_model,\r\n",
    "            num_heads,\r\n",
    "            dropout,\r\n",
    "            name='decoder'):\r\n",
    "  inputs = tf.keras.Input(shape=(None,), name='inputs')\r\n",
    "  enc_outputs = tf.keras.Input(shape=(None, d_model), name='encoder_outputs')\r\n",
    "  look_ahead_mask = tf.keras.Input(\r\n",
    "      shape=(1, None, None), name='look_ahead_mask')\r\n",
    "\r\n",
    "  # 패딩 마스크\r\n",
    "  padding_mask = tf.keras.Input(shape=(1, 1, None), name='padding_mask')\r\n",
    "  \r\n",
    "  # 임베딩 레이어\r\n",
    "  embeddings = tf.keras.layers.Embedding(vocab_size, d_model)(inputs)\r\n",
    "  embeddings *= tf.math.sqrt(tf.cast(d_model, tf.float32))\r\n",
    "\r\n",
    "  # 포지셔널 인코딩\r\n",
    "  embeddings = PositionalEncoding(vocab_size, d_model)(embeddings)\r\n",
    "\r\n",
    "  # Dropout이라는 훈련을 돕는 테크닉을 수행\r\n",
    "  outputs = tf.keras.layers.Dropout(rate=dropout)(embeddings)\r\n",
    "\r\n",
    "  for i in range(num_layers):\r\n",
    "    outputs = decoder_layer(\r\n",
    "        units=units,\r\n",
    "        d_model=d_model,\r\n",
    "        num_heads=num_heads,\r\n",
    "        dropout=dropout,\r\n",
    "        name='decoder_layer_{}'.format(i),\r\n",
    "    )(inputs=[outputs, enc_outputs, look_ahead_mask, padding_mask])\r\n",
    "\r\n",
    "  return tf.keras.Model(\r\n",
    "      inputs=[inputs, enc_outputs, look_ahead_mask, padding_mask],\r\n",
    "      outputs=outputs,\r\n",
    "      name=name)"
   ],
   "outputs": [],
   "metadata": {}
  },
  {
   "cell_type": "code",
   "execution_count": 79,
   "source": [
    "class Transformer(tf.keras.Model):\r\n",
    "    def __init__(self, vocab_size, num_layers, units, d_model, num_heads, dropout):\r\n",
    "        super(Transformer, self).__init__()\r\n",
    "        self.enc_padding_mask = tf.keras.layers.Lambda(\r\n",
    "            create_padding_mask, output_shape=(1, 1, None))\r\n",
    "        self.look_ahead_mask = tf.keras.layers.Lambda(\r\n",
    "            create_look_ahead_mask, output_shape=(1, None, None))\r\n",
    "        self.dec_padding_mask = tf.keras.layers.Lambda(\r\n",
    "            create_padding_mask, output_shape=(1, 1, None))\r\n",
    "        self.enc_outputs = encoder(vocab_size=vocab_size, num_layers=num_layers,\r\n",
    "                                   units=units, d_model=d_model, num_heads=num_heads, dropout=dropout)\r\n",
    "        self.dec_outputs = decoder(vocab_size=vocab_size, num_layers=num_layers,\r\n",
    "                                   units=units, d_model=d_model, num_heads=num_heads, dropout=dropout)\r\n",
    "        self.outputs = tf.keras.layers.Dense(units=vocab_size)\r\n",
    "    \r\n",
    "    def call(self, dataset):\r\n",
    "        inputs = tf.keras.Input(shape=(None,), name=\"inputs\")\r\n",
    "        print(inputs.shape)\r\n",
    "        dec_inputs = tf.keras.Input(shape=(None,), name=\"dec_inputs\")\r\n",
    "        print(dec_inputs.shape)\r\n",
    "\r\n",
    "        enc_padding_mask = self.enc_padding_mask(inputs)\r\n",
    "        print(enc_padding_mask.shape)\r\n",
    "        look_ahead_mask = self.look_ahead_mask(dec_inputs)\r\n",
    "        print(look_ahead_mask.shape)\r\n",
    "        dec_padding_mask = self.dec_padding_mask(inputs)\r\n",
    "        print(dec_padding_mask.shape)\r\n",
    "        enc_outputs = self.enc_outputs(inputs=[inputs, enc_padding_mask])\r\n",
    "        print(enc_outputs.shape)\r\n",
    "        dec_outputs = self.dec_outputs(inputs=[dec_inputs, enc_outputs, look_ahead_mask, dec_padding_mask])\r\n",
    "        print(dec_outputs.shape)\r\n",
    "        outputs = self.outputs(dec_outputs)\r\n",
    "        print(outputs.shape)\r\n",
    "        return outputs"
   ],
   "outputs": [],
   "metadata": {}
  },
  {
   "cell_type": "code",
   "execution_count": 32,
   "source": [
    "def transformer(vocab_size,\r\n",
    "                num_layers,\r\n",
    "                units,\r\n",
    "                d_model,\r\n",
    "                num_heads,\r\n",
    "                dropout,\r\n",
    "                name=\"transformer\"):\r\n",
    "    inputs = tf.keras.Input(shape=(None,), name=\"inputs\")\r\n",
    "    dec_inputs = tf.keras.Input(shape=(None,), name=\"dec_inputs\")\r\n",
    "\r\n",
    "    # 인코더에서 패딩을 위한 마스크\r\n",
    "    enc_padding_mask = tf.keras.layers.Lambda(\r\n",
    "        create_padding_mask, output_shape=(1, 1, None),\r\n",
    "        name='enc_padding_mask')(inputs)\r\n",
    "\r\n",
    "    # 디코더에서 미래의 토큰을 마스크 하기 위해서 사용합니다.\r\n",
    "    # 내부적으로 패딩 마스크도 포함되어져 있습니다.\r\n",
    "    look_ahead_mask = tf.keras.layers.Lambda(\r\n",
    "        create_look_ahead_mask,\r\n",
    "        output_shape=(1, None, None),\r\n",
    "        name='look_ahead_mask')(dec_inputs)\r\n",
    "\r\n",
    "    # 두 번째 어텐션 블록에서 인코더의 벡터들을 마스킹\r\n",
    "    # 디코더에서 패딩을 위한 마스크\r\n",
    "    dec_padding_mask = tf.keras.layers.Lambda(\r\n",
    "        create_padding_mask, output_shape=(1, 1, None),\r\n",
    "        name='dec_padding_mask')(inputs)\r\n",
    "\r\n",
    "    # 인코더\r\n",
    "    enc_outputs = encoder(\r\n",
    "        vocab_size=vocab_size,\r\n",
    "        num_layers=num_layers,\r\n",
    "        units=units,\r\n",
    "        d_model=d_model,\r\n",
    "        num_heads=num_heads,\r\n",
    "        dropout=dropout,\r\n",
    "    )(inputs=[inputs, enc_padding_mask])\r\n",
    "\r\n",
    "    # 디코더\r\n",
    "    dec_outputs = decoder(\r\n",
    "        vocab_size=vocab_size,\r\n",
    "        num_layers=num_layers,\r\n",
    "        units=units,\r\n",
    "        d_model=d_model,\r\n",
    "        num_heads=num_heads,\r\n",
    "        dropout=dropout,\r\n",
    "    )(inputs=[dec_inputs, enc_outputs, look_ahead_mask, dec_padding_mask])\r\n",
    "\r\n",
    "    # 완전연결층\r\n",
    "    outputs = tf.keras.layers.Dense(units=vocab_size, name=\"outputs\")(dec_outputs)\r\n",
    "\r\n",
    "    return tf.keras.Model(inputs=[inputs, dec_inputs], outputs=outputs, name=name)"
   ],
   "outputs": [],
   "metadata": {}
  },
  {
   "cell_type": "code",
   "execution_count": 80,
   "source": [
    "# 하이퍼파라미터\r\n",
    "NUM_LAYERS = 2 # 인코더와 디코더의 층의 개수\r\n",
    "D_MODEL = 256 # 인코더와 디코더 내부의 입, 출력의 고정 차원\r\n",
    "NUM_HEADS = 8 # 멀티 헤드 어텐션에서의 헤드 수 \r\n",
    "UNITS = 512 # 피드 포워드 신경망의 은닉층의 크기\r\n",
    "DROPOUT = 0.1 # 드롭아웃의 비율"
   ],
   "outputs": [],
   "metadata": {}
  },
  {
   "cell_type": "code",
   "execution_count": null,
   "source": [
    "tf.keras.backend.clear_session()\r\n",
    "\r\n",
    "model = transformer(\r\n",
    "    vocab_size=VOCAB_SIZE,\r\n",
    "    num_layers=NUM_LAYERS,\r\n",
    "    units=UNITS,\r\n",
    "    d_model=D_MODEL,\r\n",
    "    num_heads=NUM_HEADS,\r\n",
    "    dropout=DROPOUT)\r\n",
    "\r\n",
    "#model.summary()"
   ],
   "outputs": [],
   "metadata": {}
  },
  {
   "cell_type": "code",
   "execution_count": 83,
   "source": [
    "def loss_function(y_true, y_pred):\r\n",
    "    y_true = tf.reshape(y_true, shape=(-1, MAX_LENGTH - 1))\r\n",
    "\r\n",
    "    loss = tf.keras.losses.SparseCategoricalCrossentropy(\r\n",
    "        from_logits=True, reduction='none')(y_true, y_pred)\r\n",
    "\r\n",
    "    mask = tf.cast(tf.not_equal(y_true, 0), tf.float32)\r\n",
    "    loss = tf.multiply(loss, mask)\r\n",
    "\r\n",
    "    return tf.reduce_mean(loss)"
   ],
   "outputs": [],
   "metadata": {}
  },
  {
   "cell_type": "code",
   "execution_count": 84,
   "source": [
    "class CustomSchedule(tf.keras.optimizers.schedules.LearningRateSchedule):\r\n",
    "\r\n",
    "    def __init__(self, d_model, warmup_steps=4000):\r\n",
    "        super(CustomSchedule, self).__init__()\r\n",
    "\r\n",
    "        self.d_model = d_model\r\n",
    "        self.d_model = tf.cast(self.d_model, tf.float32)\r\n",
    "\r\n",
    "        self.warmup_steps = warmup_steps\r\n",
    "\r\n",
    "    def __call__(self, step):\r\n",
    "        arg1 = tf.math.rsqrt(step)\r\n",
    "        arg2 = step * (self.warmup_steps**-1.5)\r\n",
    "\r\n",
    "        return tf.math.rsqrt(self.d_model) * tf.math.minimum(arg1, arg2)"
   ],
   "outputs": [],
   "metadata": {}
  },
  {
   "cell_type": "code",
   "execution_count": 85,
   "source": [
    "sample_learning_rate = CustomSchedule(d_model=128)\r\n",
    "\r\n",
    "plt.plot(sample_learning_rate(tf.range(200000, dtype=tf.float32)))\r\n",
    "plt.ylabel(\"Learning Rate\")\r\n",
    "plt.xlabel(\"Train Step\")"
   ],
   "outputs": [
    {
     "output_type": "execute_result",
     "data": {
      "text/plain": [
       "Text(0.5, 0, 'Train Step')"
      ]
     },
     "metadata": {},
     "execution_count": 85
    },
    {
     "output_type": "display_data",
     "data": {
      "image/png": "[encoded data removed]",
      "text/plain": [
       "<Figure size 432x288 with 1 Axes>"
      ]
     },
     "metadata": {
      "needs_background": "light"
     }
    }
   ],
   "metadata": {}
  },
  {
   "cell_type": "code",
   "execution_count": 86,
   "source": [
    "learning_rate = CustomSchedule(D_MODEL)\r\n",
    "\r\n",
    "optimizer = tf.keras.optimizers.Adam(\r\n",
    "    learning_rate, beta_1=0.9, beta_2=0.98, epsilon=1e-9)\r\n",
    "\r\n",
    "\r\n",
    "def accuracy(y_true, y_pred):\r\n",
    "    y_true = tf.reshape(y_true, shape=(-1, MAX_LENGTH - 1))\r\n",
    "    return tf.keras.metrics.sparse_categorical_accuracy(y_true, y_pred)\r\n",
    "\r\n",
    "\r\n",
    "model.compile(optimizer=optimizer, loss=loss_function, metrics=[accuracy])"
   ],
   "outputs": [],
   "metadata": {}
  },
  {
   "cell_type": "markdown",
   "source": [
    "SubwordTextEncoder을 통해 만든 데이터셋을 우선 학습시켜보자.  "
   ],
   "metadata": {}
  },
  {
   "cell_type": "code",
   "execution_count": 87,
   "source": [
    "EPOCHS = 2\r\n",
    "history = model.fit(dataset, epochs=EPOCHS, verbose=1)"
   ],
   "outputs": [
    {
     "output_type": "stream",
     "name": "stdout",
     "text": [
      "Train for 185 steps\n",
      "Epoch 1/2\n",
      "185/185 [==============================] - 18s 96ms/step - loss: 1.8873 - accuracy: 0.0366\n",
      "Epoch 2/2\n",
      "133/185 [====================>.........] - ETA: 3s - loss: 1.5818 - accuracy: 0.0642"
     ]
    },
    {
     "output_type": "stream",
     "name": "stderr",
     "text": [
      "ERROR:root:Internal Python error in the inspect module.\n",
      "Below is the traceback from this internal error.\n",
      "\n",
      "ERROR:root:Internal Python error in the inspect module.\n",
      "Below is the traceback from this internal error.\n",
      "\n",
      "ERROR:root:Internal Python error in the inspect module.\n",
      "Below is the traceback from this internal error.\n",
      "\n"
     ]
    },
    {
     "output_type": "stream",
     "name": "stdout",
     "text": [
      "Traceback (most recent call last):\n",
      "  File \"C:\\Users\\kwansu\\anaconda3\\envs\\tf\\lib\\site-packages\\IPython\\core\\interactiveshell.py\", line 3441, in run_code\n",
      "    exec(code_obj, self.user_global_ns, self.user_ns)\n",
      "  File \"C:\\Users\\kwansu\\AppData\\Local\\Temp/ipykernel_6172/1922750656.py\", line 2, in <module>\n",
      "    history = model.fit(dataset, epochs=EPOCHS, verbose=1)\n",
      "  File \"C:\\Users\\kwansu\\anaconda3\\envs\\tf\\lib\\site-packages\\tensorflow_core\\python\\keras\\engine\\training.py\", line 819, in fit\n",
      "    use_multiprocessing=use_multiprocessing)\n",
      "  File \"C:\\Users\\kwansu\\anaconda3\\envs\\tf\\lib\\site-packages\\tensorflow_core\\python\\keras\\engine\\training_v2.py\", line 342, in fit\n",
      "    total_epochs=epochs)\n",
      "  File \"C:\\Users\\kwansu\\anaconda3\\envs\\tf\\lib\\site-packages\\tensorflow_core\\python\\keras\\engine\\training_v2.py\", line 128, in run_one_epoch\n",
      "    batch_outs = execution_function(iterator)\n",
      "  File \"C:\\Users\\kwansu\\anaconda3\\envs\\tf\\lib\\site-packages\\tensorflow_core\\python\\keras\\engine\\training_v2_utils.py\", line 98, in execution_function\n",
      "    distributed_function(input_fn))\n",
      "  File \"C:\\Users\\kwansu\\anaconda3\\envs\\tf\\lib\\site-packages\\tensorflow_core\\python\\eager\\def_function.py\", line 568, in __call__\n",
      "    result = self._call(*args, **kwds)\n",
      "  File \"C:\\Users\\kwansu\\anaconda3\\envs\\tf\\lib\\site-packages\\tensorflow_core\\python\\eager\\def_function.py\", line 599, in _call\n",
      "    return self._stateless_fn(*args, **kwds)  # pylint: disable=not-callable\n",
      "  File \"C:\\Users\\kwansu\\anaconda3\\envs\\tf\\lib\\site-packages\\tensorflow_core\\python\\eager\\function.py\", line 2363, in __call__\n",
      "    return graph_function._filtered_call(args, kwargs)  # pylint: disable=protected-access\n",
      "  File \"C:\\Users\\kwansu\\anaconda3\\envs\\tf\\lib\\site-packages\\tensorflow_core\\python\\eager\\function.py\", line 1611, in _filtered_call\n",
      "    self.captured_inputs)\n",
      "  File \"C:\\Users\\kwansu\\anaconda3\\envs\\tf\\lib\\site-packages\\tensorflow_core\\python\\eager\\function.py\", line 1692, in _call_flat\n",
      "    ctx, args, cancellation_manager=cancellation_manager))\n",
      "  File \"C:\\Users\\kwansu\\anaconda3\\envs\\tf\\lib\\site-packages\\tensorflow_core\\python\\eager\\function.py\", line 545, in call\n",
      "    ctx=ctx)\n",
      "  File \"C:\\Users\\kwansu\\anaconda3\\envs\\tf\\lib\\site-packages\\tensorflow_core\\python\\eager\\execute.py\", line 61, in quick_execute\n",
      "    num_outputs)\n",
      "KeyboardInterrupt\n",
      "\n",
      "During handling of the above exception, another exception occurred:\n",
      "\n",
      "Traceback (most recent call last):\n",
      "  File \"C:\\Users\\kwansu\\anaconda3\\envs\\tf\\lib\\site-packages\\IPython\\core\\interactiveshell.py\", line 2061, in showtraceback\n",
      "    stb = value._render_traceback_()\n",
      "AttributeError: 'KeyboardInterrupt' object has no attribute '_render_traceback_'\n",
      "\n",
      "During handling of the above exception, another exception occurred:\n",
      "\n",
      "Traceback (most recent call last):\n",
      "  File \"C:\\Users\\kwansu\\anaconda3\\envs\\tf\\lib\\site-packages\\IPython\\core\\ultratb.py\", line 1101, in get_records\n",
      "    return _fixed_getinnerframes(etb, number_of_lines_of_context, tb_offset)\n",
      "  File \"C:\\Users\\kwansu\\anaconda3\\envs\\tf\\lib\\site-packages\\IPython\\core\\ultratb.py\", line 248, in wrapped\n",
      "    return f(*args, **kwargs)\n",
      "  File \"C:\\Users\\kwansu\\anaconda3\\envs\\tf\\lib\\site-packages\\IPython\\core\\ultratb.py\", line 281, in _fixed_getinnerframes\n",
      "    records = fix_frame_records_filenames(inspect.getinnerframes(etb, context))\n",
      "  File \"C:\\Users\\kwansu\\anaconda3\\envs\\tf\\lib\\inspect.py\", line 1502, in getinnerframes\n",
      "    frameinfo = (tb.tb_frame,) + getframeinfo(tb, context)\n",
      "  File \"C:\\Users\\kwansu\\anaconda3\\envs\\tf\\lib\\inspect.py\", line 1460, in getframeinfo\n",
      "    filename = getsourcefile(frame) or getfile(frame)\n",
      "  File \"C:\\Users\\kwansu\\anaconda3\\envs\\tf\\lib\\inspect.py\", line 696, in getsourcefile\n",
      "    if getattr(getmodule(object, filename), '__loader__', None) is not None:\n",
      "  File \"C:\\Users\\kwansu\\anaconda3\\envs\\tf\\lib\\inspect.py\", line 733, in getmodule\n",
      "    if ismodule(module) and hasattr(module, '__file__'):\n",
      "  File \"C:\\Users\\kwansu\\anaconda3\\envs\\tf\\lib\\site-packages\\tensorflow\\__init__.py\", line 50, in __getattr__\n",
      "    module = self._load()\n",
      "  File \"C:\\Users\\kwansu\\anaconda3\\envs\\tf\\lib\\site-packages\\tensorflow\\__init__.py\", line 44, in _load\n",
      "    module = _importlib.import_module(self.__name__)\n",
      "  File \"C:\\Users\\kwansu\\anaconda3\\envs\\tf\\lib\\importlib\\__init__.py\", line 127, in import_module\n",
      "    return _bootstrap._gcd_import(name[level:], package, level)\n",
      "  File \"<frozen importlib._bootstrap>\", line 1006, in _gcd_import\n",
      "  File \"<frozen importlib._bootstrap>\", line 983, in _find_and_load\n",
      "  File \"<frozen importlib._bootstrap>\", line 965, in _find_and_load_unlocked\n",
      "ModuleNotFoundError: No module named 'tensorflow_core.estimator'\n",
      "Traceback (most recent call last):\n",
      "  File \"C:\\Users\\kwansu\\anaconda3\\envs\\tf\\lib\\site-packages\\IPython\\core\\interactiveshell.py\", line 3441, in run_code\n",
      "    exec(code_obj, self.user_global_ns, self.user_ns)\n",
      "  File \"C:\\Users\\kwansu\\AppData\\Local\\Temp/ipykernel_6172/1922750656.py\", line 2, in <module>\n",
      "    history = model.fit(dataset, epochs=EPOCHS, verbose=1)\n",
      "  File \"C:\\Users\\kwansu\\anaconda3\\envs\\tf\\lib\\site-packages\\tensorflow_core\\python\\keras\\engine\\training.py\", line 819, in fit\n",
      "    use_multiprocessing=use_multiprocessing)\n",
      "  File \"C:\\Users\\kwansu\\anaconda3\\envs\\tf\\lib\\site-packages\\tensorflow_core\\python\\keras\\engine\\training_v2.py\", line 342, in fit\n",
      "    total_epochs=epochs)\n",
      "  File \"C:\\Users\\kwansu\\anaconda3\\envs\\tf\\lib\\site-packages\\tensorflow_core\\python\\keras\\engine\\training_v2.py\", line 128, in run_one_epoch\n",
      "    batch_outs = execution_function(iterator)\n",
      "  File \"C:\\Users\\kwansu\\anaconda3\\envs\\tf\\lib\\site-packages\\tensorflow_core\\python\\keras\\engine\\training_v2_utils.py\", line 98, in execution_function\n",
      "    distributed_function(input_fn))\n",
      "  File \"C:\\Users\\kwansu\\anaconda3\\envs\\tf\\lib\\site-packages\\tensorflow_core\\python\\eager\\def_function.py\", line 568, in __call__\n",
      "    result = self._call(*args, **kwds)\n",
      "  File \"C:\\Users\\kwansu\\anaconda3\\envs\\tf\\lib\\site-packages\\tensorflow_core\\python\\eager\\def_function.py\", line 599, in _call\n",
      "    return self._stateless_fn(*args, **kwds)  # pylint: disable=not-callable\n",
      "  File \"C:\\Users\\kwansu\\anaconda3\\envs\\tf\\lib\\site-packages\\tensorflow_core\\python\\eager\\function.py\", line 2363, in __call__\n",
      "    return graph_function._filtered_call(args, kwargs)  # pylint: disable=protected-access\n",
      "  File \"C:\\Users\\kwansu\\anaconda3\\envs\\tf\\lib\\site-packages\\tensorflow_core\\python\\eager\\function.py\", line 1611, in _filtered_call\n",
      "    self.captured_inputs)\n",
      "  File \"C:\\Users\\kwansu\\anaconda3\\envs\\tf\\lib\\site-packages\\tensorflow_core\\python\\eager\\function.py\", line 1692, in _call_flat\n",
      "    ctx, args, cancellation_manager=cancellation_manager))\n",
      "  File \"C:\\Users\\kwansu\\anaconda3\\envs\\tf\\lib\\site-packages\\tensorflow_core\\python\\eager\\function.py\", line 545, in call\n",
      "    ctx=ctx)\n",
      "  File \"C:\\Users\\kwansu\\anaconda3\\envs\\tf\\lib\\site-packages\\tensorflow_core\\python\\eager\\execute.py\", line 61, in quick_execute\n",
      "    num_outputs)\n",
      "KeyboardInterrupt\n",
      "\n",
      "During handling of the above exception, another exception occurred:\n",
      "\n",
      "Traceback (most recent call last):\n",
      "  File \"C:\\Users\\kwansu\\anaconda3\\envs\\tf\\lib\\site-packages\\IPython\\core\\interactiveshell.py\", line 2061, in showtraceback\n",
      "    stb = value._render_traceback_()\n",
      "AttributeError: 'KeyboardInterrupt' object has no attribute '_render_traceback_'\n",
      "\n",
      "During handling of the above exception, another exception occurred:\n",
      "\n",
      "Traceback (most recent call last):\n",
      "  File \"C:\\Users\\kwansu\\anaconda3\\envs\\tf\\lib\\site-packages\\IPython\\core\\interactiveshell.py\", line 3361, in run_ast_nodes\n",
      "    if (await self.run_code(code, result,  async_=asy)):\n",
      "  File \"C:\\Users\\kwansu\\anaconda3\\envs\\tf\\lib\\site-packages\\IPython\\core\\interactiveshell.py\", line 3458, in run_code\n",
      "    self.showtraceback(running_compiled_code=True)\n",
      "  File \"C:\\Users\\kwansu\\anaconda3\\envs\\tf\\lib\\site-packages\\IPython\\core\\interactiveshell.py\", line 2064, in showtraceback\n",
      "    value, tb, tb_offset=tb_offset)\n",
      "  File \"C:\\Users\\kwansu\\anaconda3\\envs\\tf\\lib\\site-packages\\IPython\\core\\ultratb.py\", line 1368, in structured_traceback\n",
      "    self, etype, value, tb, tb_offset, number_of_lines_of_context)\n",
      "  File \"C:\\Users\\kwansu\\anaconda3\\envs\\tf\\lib\\site-packages\\IPython\\core\\ultratb.py\", line 1268, in structured_traceback\n",
      "    self, etype, value, tb, tb_offset, number_of_lines_of_context\n",
      "  File \"C:\\Users\\kwansu\\anaconda3\\envs\\tf\\lib\\site-packages\\IPython\\core\\ultratb.py\", line 1125, in structured_traceback\n",
      "    tb_offset)\n",
      "  File \"C:\\Users\\kwansu\\anaconda3\\envs\\tf\\lib\\site-packages\\IPython\\core\\ultratb.py\", line 1082, in format_exception_as_a_whole\n",
      "    last_unique, recursion_repeat = find_recursion(orig_etype, evalue, records)\n",
      "  File \"C:\\Users\\kwansu\\anaconda3\\envs\\tf\\lib\\site-packages\\IPython\\core\\ultratb.py\", line 382, in find_recursion\n",
      "    return len(records), 0\n",
      "TypeError: object of type 'NoneType' has no len()\n",
      "\n",
      "During handling of the above exception, another exception occurred:\n",
      "\n",
      "Traceback (most recent call last):\n",
      "  File \"C:\\Users\\kwansu\\anaconda3\\envs\\tf\\lib\\site-packages\\IPython\\core\\interactiveshell.py\", line 2061, in showtraceback\n",
      "    stb = value._render_traceback_()\n",
      "AttributeError: 'TypeError' object has no attribute '_render_traceback_'\n",
      "\n",
      "During handling of the above exception, another exception occurred:\n",
      "\n",
      "Traceback (most recent call last):\n",
      "  File \"C:\\Users\\kwansu\\anaconda3\\envs\\tf\\lib\\site-packages\\IPython\\core\\ultratb.py\", line 1101, in get_records\n",
      "    return _fixed_getinnerframes(etb, number_of_lines_of_context, tb_offset)\n",
      "  File \"C:\\Users\\kwansu\\anaconda3\\envs\\tf\\lib\\site-packages\\IPython\\core\\ultratb.py\", line 248, in wrapped\n",
      "    return f(*args, **kwargs)\n",
      "  File \"C:\\Users\\kwansu\\anaconda3\\envs\\tf\\lib\\site-packages\\IPython\\core\\ultratb.py\", line 281, in _fixed_getinnerframes\n",
      "    records = fix_frame_records_filenames(inspect.getinnerframes(etb, context))\n",
      "  File \"C:\\Users\\kwansu\\anaconda3\\envs\\tf\\lib\\inspect.py\", line 1502, in getinnerframes\n",
      "    frameinfo = (tb.tb_frame,) + getframeinfo(tb, context)\n",
      "  File \"C:\\Users\\kwansu\\anaconda3\\envs\\tf\\lib\\inspect.py\", line 1460, in getframeinfo\n",
      "    filename = getsourcefile(frame) or getfile(frame)\n",
      "  File \"C:\\Users\\kwansu\\anaconda3\\envs\\tf\\lib\\inspect.py\", line 696, in getsourcefile\n",
      "    if getattr(getmodule(object, filename), '__loader__', None) is not None:\n",
      "  File \"C:\\Users\\kwansu\\anaconda3\\envs\\tf\\lib\\inspect.py\", line 733, in getmodule\n",
      "    if ismodule(module) and hasattr(module, '__file__'):\n",
      "  File \"C:\\Users\\kwansu\\anaconda3\\envs\\tf\\lib\\site-packages\\tensorflow\\__init__.py\", line 50, in __getattr__\n",
      "    module = self._load()\n",
      "  File \"C:\\Users\\kwansu\\anaconda3\\envs\\tf\\lib\\site-packages\\tensorflow\\__init__.py\", line 44, in _load\n",
      "    module = _importlib.import_module(self.__name__)\n",
      "  File \"C:\\Users\\kwansu\\anaconda3\\envs\\tf\\lib\\importlib\\__init__.py\", line 127, in import_module\n",
      "    return _bootstrap._gcd_import(name[level:], package, level)\n",
      "  File \"<frozen importlib._bootstrap>\", line 1006, in _gcd_import\n",
      "  File \"<frozen importlib._bootstrap>\", line 983, in _find_and_load\n",
      "  File \"<frozen importlib._bootstrap>\", line 965, in _find_and_load_unlocked\n",
      "ModuleNotFoundError: No module named 'tensorflow_core.estimator'\n",
      "Traceback (most recent call last):\n",
      "  File \"C:\\Users\\kwansu\\anaconda3\\envs\\tf\\lib\\site-packages\\IPython\\core\\interactiveshell.py\", line 3441, in run_code\n",
      "    exec(code_obj, self.user_global_ns, self.user_ns)\n",
      "  File \"C:\\Users\\kwansu\\AppData\\Local\\Temp/ipykernel_6172/1922750656.py\", line 2, in <module>\n",
      "    history = model.fit(dataset, epochs=EPOCHS, verbose=1)\n",
      "  File \"C:\\Users\\kwansu\\anaconda3\\envs\\tf\\lib\\site-packages\\tensorflow_core\\python\\keras\\engine\\training.py\", line 819, in fit\n",
      "    use_multiprocessing=use_multiprocessing)\n",
      "  File \"C:\\Users\\kwansu\\anaconda3\\envs\\tf\\lib\\site-packages\\tensorflow_core\\python\\keras\\engine\\training_v2.py\", line 342, in fit\n",
      "    total_epochs=epochs)\n",
      "  File \"C:\\Users\\kwansu\\anaconda3\\envs\\tf\\lib\\site-packages\\tensorflow_core\\python\\keras\\engine\\training_v2.py\", line 128, in run_one_epoch\n",
      "    batch_outs = execution_function(iterator)\n",
      "  File \"C:\\Users\\kwansu\\anaconda3\\envs\\tf\\lib\\site-packages\\tensorflow_core\\python\\keras\\engine\\training_v2_utils.py\", line 98, in execution_function\n",
      "    distributed_function(input_fn))\n",
      "  File \"C:\\Users\\kwansu\\anaconda3\\envs\\tf\\lib\\site-packages\\tensorflow_core\\python\\eager\\def_function.py\", line 568, in __call__\n",
      "    result = self._call(*args, **kwds)\n",
      "  File \"C:\\Users\\kwansu\\anaconda3\\envs\\tf\\lib\\site-packages\\tensorflow_core\\python\\eager\\def_function.py\", line 599, in _call\n",
      "    return self._stateless_fn(*args, **kwds)  # pylint: disable=not-callable\n",
      "  File \"C:\\Users\\kwansu\\anaconda3\\envs\\tf\\lib\\site-packages\\tensorflow_core\\python\\eager\\function.py\", line 2363, in __call__\n",
      "    return graph_function._filtered_call(args, kwargs)  # pylint: disable=protected-access\n",
      "  File \"C:\\Users\\kwansu\\anaconda3\\envs\\tf\\lib\\site-packages\\tensorflow_core\\python\\eager\\function.py\", line 1611, in _filtered_call\n",
      "    self.captured_inputs)\n",
      "  File \"C:\\Users\\kwansu\\anaconda3\\envs\\tf\\lib\\site-packages\\tensorflow_core\\python\\eager\\function.py\", line 1692, in _call_flat\n",
      "    ctx, args, cancellation_manager=cancellation_manager))\n",
      "  File \"C:\\Users\\kwansu\\anaconda3\\envs\\tf\\lib\\site-packages\\tensorflow_core\\python\\eager\\function.py\", line 545, in call\n",
      "    ctx=ctx)\n",
      "  File \"C:\\Users\\kwansu\\anaconda3\\envs\\tf\\lib\\site-packages\\tensorflow_core\\python\\eager\\execute.py\", line 61, in quick_execute\n",
      "    num_outputs)\n",
      "KeyboardInterrupt\n",
      "\n",
      "During handling of the above exception, another exception occurred:\n",
      "\n",
      "Traceback (most recent call last):\n",
      "  File \"C:\\Users\\kwansu\\anaconda3\\envs\\tf\\lib\\site-packages\\IPython\\core\\interactiveshell.py\", line 2061, in showtraceback\n",
      "    stb = value._render_traceback_()\n",
      "AttributeError: 'KeyboardInterrupt' object has no attribute '_render_traceback_'\n",
      "\n",
      "During handling of the above exception, another exception occurred:\n",
      "\n",
      "Traceback (most recent call last):\n",
      "  File \"C:\\Users\\kwansu\\anaconda3\\envs\\tf\\lib\\site-packages\\IPython\\core\\interactiveshell.py\", line 3361, in run_ast_nodes\n",
      "    if (await self.run_code(code, result,  async_=asy)):\n",
      "  File \"C:\\Users\\kwansu\\anaconda3\\envs\\tf\\lib\\site-packages\\IPython\\core\\interactiveshell.py\", line 3458, in run_code\n",
      "    self.showtraceback(running_compiled_code=True)\n",
      "  File \"C:\\Users\\kwansu\\anaconda3\\envs\\tf\\lib\\site-packages\\IPython\\core\\interactiveshell.py\", line 2064, in showtraceback\n",
      "    value, tb, tb_offset=tb_offset)\n",
      "  File \"C:\\Users\\kwansu\\anaconda3\\envs\\tf\\lib\\site-packages\\IPython\\core\\ultratb.py\", line 1368, in structured_traceback\n",
      "    self, etype, value, tb, tb_offset, number_of_lines_of_context)\n",
      "  File \"C:\\Users\\kwansu\\anaconda3\\envs\\tf\\lib\\site-packages\\IPython\\core\\ultratb.py\", line 1268, in structured_traceback\n",
      "    self, etype, value, tb, tb_offset, number_of_lines_of_context\n",
      "  File \"C:\\Users\\kwansu\\anaconda3\\envs\\tf\\lib\\site-packages\\IPython\\core\\ultratb.py\", line 1125, in structured_traceback\n",
      "    tb_offset)\n",
      "  File \"C:\\Users\\kwansu\\anaconda3\\envs\\tf\\lib\\site-packages\\IPython\\core\\ultratb.py\", line 1082, in format_exception_as_a_whole\n",
      "    last_unique, recursion_repeat = find_recursion(orig_etype, evalue, records)\n",
      "  File \"C:\\Users\\kwansu\\anaconda3\\envs\\tf\\lib\\site-packages\\IPython\\core\\ultratb.py\", line 382, in find_recursion\n",
      "    return len(records), 0\n",
      "TypeError: object of type 'NoneType' has no len()\n",
      "\n",
      "During handling of the above exception, another exception occurred:\n",
      "\n",
      "Traceback (most recent call last):\n",
      "  File \"C:\\Users\\kwansu\\anaconda3\\envs\\tf\\lib\\site-packages\\IPython\\core\\interactiveshell.py\", line 2061, in showtraceback\n",
      "    stb = value._render_traceback_()\n",
      "AttributeError: 'TypeError' object has no attribute '_render_traceback_'\n",
      "\n",
      "During handling of the above exception, another exception occurred:\n",
      "\n",
      "Traceback (most recent call last):\n",
      "  File \"C:\\Users\\kwansu\\anaconda3\\envs\\tf\\lib\\site-packages\\IPython\\core\\interactiveshell.py\", line 2944, in _run_cell\n",
      "    return runner(coro)\n",
      "  File \"C:\\Users\\kwansu\\anaconda3\\envs\\tf\\lib\\site-packages\\IPython\\core\\async_helpers.py\", line 68, in _pseudo_sync_runner\n",
      "    coro.send(None)\n",
      "  File \"C:\\Users\\kwansu\\anaconda3\\envs\\tf\\lib\\site-packages\\IPython\\core\\interactiveshell.py\", line 3170, in run_cell_async\n",
      "    interactivity=interactivity, compiler=compiler, result=result)\n",
      "  File \"C:\\Users\\kwansu\\anaconda3\\envs\\tf\\lib\\site-packages\\IPython\\core\\interactiveshell.py\", line 3380, in run_ast_nodes\n",
      "    self.showtraceback()\n",
      "  File \"C:\\Users\\kwansu\\anaconda3\\envs\\tf\\lib\\site-packages\\IPython\\core\\interactiveshell.py\", line 2064, in showtraceback\n",
      "    value, tb, tb_offset=tb_offset)\n",
      "  File \"C:\\Users\\kwansu\\anaconda3\\envs\\tf\\lib\\site-packages\\IPython\\core\\ultratb.py\", line 1368, in structured_traceback\n",
      "    self, etype, value, tb, tb_offset, number_of_lines_of_context)\n",
      "  File \"C:\\Users\\kwansu\\anaconda3\\envs\\tf\\lib\\site-packages\\IPython\\core\\ultratb.py\", line 1268, in structured_traceback\n",
      "    self, etype, value, tb, tb_offset, number_of_lines_of_context\n",
      "  File \"C:\\Users\\kwansu\\anaconda3\\envs\\tf\\lib\\site-packages\\IPython\\core\\ultratb.py\", line 1143, in structured_traceback\n",
      "    chained_exceptions_tb_offset)\n",
      "  File \"C:\\Users\\kwansu\\anaconda3\\envs\\tf\\lib\\site-packages\\IPython\\core\\ultratb.py\", line 1082, in format_exception_as_a_whole\n",
      "    last_unique, recursion_repeat = find_recursion(orig_etype, evalue, records)\n",
      "  File \"C:\\Users\\kwansu\\anaconda3\\envs\\tf\\lib\\site-packages\\IPython\\core\\ultratb.py\", line 382, in find_recursion\n",
      "    return len(records), 0\n",
      "TypeError: object of type 'NoneType' has no len()\n",
      "\n",
      "During handling of the above exception, another exception occurred:\n",
      "\n",
      "Traceback (most recent call last):\n",
      "  File \"C:\\Users\\kwansu\\anaconda3\\envs\\tf\\lib\\site-packages\\IPython\\core\\interactiveshell.py\", line 2061, in showtraceback\n",
      "    stb = value._render_traceback_()\n",
      "AttributeError: 'TypeError' object has no attribute '_render_traceback_'\n",
      "\n",
      "During handling of the above exception, another exception occurred:\n",
      "\n",
      "Traceback (most recent call last):\n",
      "  File \"C:\\Users\\kwansu\\anaconda3\\envs\\tf\\lib\\site-packages\\IPython\\core\\ultratb.py\", line 1101, in get_records\n",
      "    return _fixed_getinnerframes(etb, number_of_lines_of_context, tb_offset)\n",
      "  File \"C:\\Users\\kwansu\\anaconda3\\envs\\tf\\lib\\site-packages\\IPython\\core\\ultratb.py\", line 248, in wrapped\n",
      "    return f(*args, **kwargs)\n",
      "  File \"C:\\Users\\kwansu\\anaconda3\\envs\\tf\\lib\\site-packages\\IPython\\core\\ultratb.py\", line 281, in _fixed_getinnerframes\n",
      "    records = fix_frame_records_filenames(inspect.getinnerframes(etb, context))\n",
      "  File \"C:\\Users\\kwansu\\anaconda3\\envs\\tf\\lib\\inspect.py\", line 1502, in getinnerframes\n",
      "    frameinfo = (tb.tb_frame,) + getframeinfo(tb, context)\n",
      "  File \"C:\\Users\\kwansu\\anaconda3\\envs\\tf\\lib\\inspect.py\", line 1460, in getframeinfo\n",
      "    filename = getsourcefile(frame) or getfile(frame)\n",
      "  File \"C:\\Users\\kwansu\\anaconda3\\envs\\tf\\lib\\inspect.py\", line 696, in getsourcefile\n",
      "    if getattr(getmodule(object, filename), '__loader__', None) is not None:\n",
      "  File \"C:\\Users\\kwansu\\anaconda3\\envs\\tf\\lib\\inspect.py\", line 733, in getmodule\n",
      "    if ismodule(module) and hasattr(module, '__file__'):\n",
      "  File \"C:\\Users\\kwansu\\anaconda3\\envs\\tf\\lib\\site-packages\\tensorflow\\__init__.py\", line 50, in __getattr__\n",
      "    module = self._load()\n",
      "  File \"C:\\Users\\kwansu\\anaconda3\\envs\\tf\\lib\\site-packages\\tensorflow\\__init__.py\", line 44, in _load\n",
      "    module = _importlib.import_module(self.__name__)\n",
      "  File \"C:\\Users\\kwansu\\anaconda3\\envs\\tf\\lib\\importlib\\__init__.py\", line 127, in import_module\n",
      "    return _bootstrap._gcd_import(name[level:], package, level)\n",
      "  File \"<frozen importlib._bootstrap>\", line 1006, in _gcd_import\n",
      "  File \"<frozen importlib._bootstrap>\", line 983, in _find_and_load\n",
      "  File \"<frozen importlib._bootstrap>\", line 965, in _find_and_load_unlocked\n",
      "ModuleNotFoundError: No module named 'tensorflow_core.estimator'\n"
     ]
    }
   ],
   "metadata": {}
  },
  {
   "cell_type": "code",
   "execution_count": null,
   "source": [],
   "outputs": [],
   "metadata": {}
  },
  {
   "cell_type": "code",
   "execution_count": null,
   "source": [],
   "outputs": [],
   "metadata": {}
  },
  {
   "cell_type": "code",
   "execution_count": null,
   "source": [],
   "outputs": [],
   "metadata": {}
  },
  {
   "cell_type": "code",
   "execution_count": 71,
   "source": [
    "def draw_history(history):\r\n",
    "    fig = plt.figure(figsize=(15, 5))\r\n",
    "    loss_ax = fig.add_subplot(1, 2, 1)\r\n",
    "    acc_ax = fig.add_subplot(1, 2, 2)\r\n",
    "\r\n",
    "    loss_ax.plot(history.history['loss'], 'y', label='train loss')\r\n",
    "    acc_ax.plot(history.history['accuracy'], 'b', label='train acc')\r\n",
    "\r\n",
    "    loss_ax.set_xlabel('epoch')\r\n",
    "    loss_ax.set_ylabel('loss')\r\n",
    "    acc_ax.set_xlabel('epoch')\r\n",
    "    acc_ax.set_ylabel('accuray')\r\n",
    "\r\n",
    "    plt.show()"
   ],
   "outputs": [],
   "metadata": {}
  },
  {
   "cell_type": "code",
   "execution_count": 72,
   "source": [
    "draw_history(history)"
   ],
   "outputs": [
    {
     "output_type": "display_data",
     "data": {
      "image/png": "[encoded data removed]",
      "text/plain": [
       "<Figure size 1080x360 with 2 Axes>"
      ]
     },
     "metadata": {
      "needs_background": "light"
     }
    }
   ],
   "metadata": {}
  },
  {
   "cell_type": "markdown",
   "source": [
    "대략 epoch 20 부터 수렴하는 것을 확인 할 수 있다."
   ],
   "metadata": {}
  },
  {
   "cell_type": "markdown",
   "source": [
    "## 5. 모델 평가하기\n",
    "\n",
    "입력된 문장에 대해서 대답을 얻는 예측 함수를 만들어서 사용해보자."
   ],
   "metadata": {}
  },
  {
   "cell_type": "code",
   "execution_count": 73,
   "source": [
    "def decoder_inference(sentence):\r\n",
    "    sentence = preprocess_sentence(sentence)\r\n",
    "\r\n",
    "    # 입력된 문장을 정수 인코딩 후, 시작 토큰과 종료 토큰을 앞뒤로 추가.\r\n",
    "    # ex) Where have you been? → [[8331   86   30    5 1059    7 8332]]\r\n",
    "    sentence = tf.expand_dims(\r\n",
    "        START_TOKEN + tokenizer.encode(sentence) + END_TOKEN, axis=0)\r\n",
    "\r\n",
    "    # 디코더의 현재까지의 예측한 출력 시퀀스가 지속적으로 저장되는 변수.\r\n",
    "    # 처음에는 예측한 내용이 없음으로 시작 토큰만 별도 저장. ex) 8331\r\n",
    "    output_sequence = tf.expand_dims(START_TOKEN, 0)\r\n",
    "\r\n",
    "    # 디코더의 인퍼런스 단계\r\n",
    "    for i in range(MAX_LENGTH):\r\n",
    "        # 디코더는 최대 MAX_LENGTH의 길이만큼 다음 단어 예측을 반복합니다.\r\n",
    "        predictions = model(inputs=[sentence, output_sequence], training=False)\r\n",
    "        predictions = predictions[:, -1:, :]\r\n",
    "\r\n",
    "        # 현재 예측한 단어의 정수\r\n",
    "        predicted_id = tf.cast(tf.argmax(predictions, axis=-1), tf.int32)\r\n",
    "\r\n",
    "        # 만약 현재 예측한 단어가 종료 토큰이라면 for문을 종료\r\n",
    "        if tf.equal(predicted_id, END_TOKEN[0]):\r\n",
    "            break\r\n",
    "\r\n",
    "        # 예측한 단어들은 지속적으로 output_sequence에 추가됩니다.\r\n",
    "        # 이 output_sequence는 다시 디코더의 입력이 됩니다.\r\n",
    "        output_sequence = tf.concat([output_sequence, predicted_id], axis=-1)\r\n",
    "\r\n",
    "    return tf.squeeze(output_sequence, axis=0)"
   ],
   "outputs": [],
   "metadata": {}
  },
  {
   "cell_type": "code",
   "execution_count": 74,
   "source": [
    "def sentence_generation(sentence):\r\n",
    "    # 입력 문장에 대해서 디코더를 동작 시켜 예측된 정수 시퀀스를 리턴받습니다.\r\n",
    "    prediction = decoder_inference(sentence)\r\n",
    "\r\n",
    "    # 정수 시퀀스를 다시 텍스트 시퀀스로 변환합니다.\r\n",
    "    predicted_sentence = tokenizer.decode(\r\n",
    "        [i for i in prediction.numpy() if i < tokenizer.vocab_size])\r\n",
    "\r\n",
    "    print('출력 : {}'.format(predicted_sentence))\r\n",
    "\r\n",
    "    return predicted_sentence"
   ],
   "outputs": [],
   "metadata": {}
  },
  {
   "cell_type": "markdown",
   "source": [
    "### SubwordTextEncoder 모델"
   ],
   "metadata": {}
  },
  {
   "cell_type": "code",
   "execution_count": 75,
   "source": [
    "sentence_generation('누구세요?')"
   ],
   "outputs": [
    {
     "output_type": "stream",
     "name": "stdout",
     "text": [
      "출력 : 저는 위로해드리는 로봇이에요 .\n"
     ]
    },
    {
     "output_type": "execute_result",
     "data": {
      "text/plain": [
       "'저는 위로해드리는 로봇이에요 .'"
      ]
     },
     "metadata": {},
     "execution_count": 75
    }
   ],
   "metadata": {}
  },
  {
   "cell_type": "code",
   "execution_count": 76,
   "source": [
    "sentence_generation('누구냐 넌?')"
   ],
   "outputs": [
    {
     "output_type": "stream",
     "name": "stdout",
     "text": [
      "출력 : 저는 마음을 이어주는 위로봇입니다 .\n"
     ]
    },
    {
     "output_type": "execute_result",
     "data": {
      "text/plain": [
       "'저는 마음을 이어주는 위로봇입니다 .'"
      ]
     },
     "metadata": {},
     "execution_count": 76
    }
   ],
   "metadata": {}
  },
  {
   "cell_type": "code",
   "execution_count": 77,
   "source": [
    "sentence_generation('ㅋㅋ')"
   ],
   "outputs": [
    {
     "output_type": "stream",
     "name": "stdout",
     "text": [
      "출력 : 좋은 친구를 뒀네요 .\n"
     ]
    },
    {
     "output_type": "execute_result",
     "data": {
      "text/plain": [
       "'좋은 친구를 뒀네요 .'"
      ]
     },
     "metadata": {},
     "execution_count": 77
    }
   ],
   "metadata": {}
  },
  {
   "cell_type": "code",
   "execution_count": 78,
   "source": [
    "sentence_generation('쉬고 싶다.')"
   ],
   "outputs": [
    {
     "output_type": "stream",
     "name": "stdout",
     "text": [
      "출력 : 내려 놓으세요 .\n"
     ]
    },
    {
     "output_type": "execute_result",
     "data": {
      "text/plain": [
       "'내려 놓으세요 .'"
      ]
     },
     "metadata": {},
     "execution_count": 78
    }
   ],
   "metadata": {}
  },
  {
   "cell_type": "code",
   "execution_count": null,
   "source": [],
   "outputs": [],
   "metadata": {}
  }
 ],
 "metadata": {
  "interpreter": {
   "hash": "0ae6473ec40d354f1001f7542119d9073ec37066fa3b7d8f08d234c38effe004"
  },
  "kernelspec": {
   "name": "python3",
   "display_name": "Python 3.7.11 64-bit ('tf': conda)"
  },
  "language_info": {
   "codemirror_mode": {
    "name": "ipython",
    "version": 3
   },
   "file_extension": ".py",
   "mimetype": "text/x-python",
   "name": "python",
   "nbconvert_exporter": "python",
   "pygments_lexer": "ipython3",
   "version": "3.7.11"
  }
 },
 "nbformat": 4,
 "nbformat_minor": 5
}