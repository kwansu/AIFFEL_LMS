{
 "cells": [
  {
   "cell_type": "markdown",
   "id": "green-spirit",
   "metadata": {},
   "source": [
    "# 한국어 데이터로 챗봇 만들기\n",
    "\n",
    "transformer를 이용하여 챗봇을 만들어보자."
   ]
  },
  {
   "cell_type": "markdown",
   "id": "accepted-flood",
   "metadata": {},
   "source": [
    "## 0. 모듈 import"
   ]
  },
  {
   "cell_type": "code",
   "execution_count": 1,
   "id": "bound-thread",
   "metadata": {},
   "outputs": [],
   "source": [
    "import os\n",
    "import re\n",
    "import numpy as np\n",
    "import pandas as pd\n",
    "import tensorflow as tf\n",
    "import tensorflow_datasets as tfds\n",
    "import matplotlib.pyplot as plt\n",
    "\n",
    "from konlpy.tag import Okt"
   ]
  },
  {
   "cell_type": "markdown",
   "id": "fifteen-degree",
   "metadata": {},
   "source": [
    "## 1. 데이터 수집하기"
   ]
  },
  {
   "cell_type": "markdown",
   "id": "considered-relations",
   "metadata": {},
   "source": [
    "학습할 데이터는 다음 출저에 받은 데이터를 사용한다.\n",
    "\n",
    "https://github.com/songys/Chatbot_data/blob/master/ChatbotData.csv\n",
    "\n",
    "인공데이터로 일부 이별과 관련된 질문에서 다음카페 \"사랑보다 아름다운 실연\"에서  \n",
    "자주 나오는 이야기들을 참고하여 제작하였다고 한다."
   ]
  },
  {
   "cell_type": "code",
   "execution_count": 2,
   "id": "statistical-water",
   "metadata": {},
   "outputs": [
    {
     "data": {
      "text/html": [
       "<div>\n",
       "<style scoped>\n",
       "    .dataframe tbody tr th:only-of-type {\n",
       "        vertical-align: middle;\n",
       "    }\n",
       "\n",
       "    .dataframe tbody tr th {\n",
       "        vertical-align: top;\n",
       "    }\n",
       "\n",
       "    .dataframe thead th {\n",
       "        text-align: right;\n",
       "    }\n",
       "</style>\n",
       "<table border=\"1\" class=\"dataframe\">\n",
       "  <thead>\n",
       "    <tr style=\"text-align: right;\">\n",
       "      <th></th>\n",
       "      <th>Q</th>\n",
       "      <th>A</th>\n",
       "      <th>label</th>\n",
       "    </tr>\n",
       "  </thead>\n",
       "  <tbody>\n",
       "    <tr>\n",
       "      <th>0</th>\n",
       "      <td>12시 땡!</td>\n",
       "      <td>하루가 또 가네요.</td>\n",
       "      <td>0</td>\n",
       "    </tr>\n",
       "    <tr>\n",
       "      <th>1</th>\n",
       "      <td>1지망 학교 떨어졌어</td>\n",
       "      <td>위로해 드립니다.</td>\n",
       "      <td>0</td>\n",
       "    </tr>\n",
       "    <tr>\n",
       "      <th>2</th>\n",
       "      <td>3박4일 놀러가고 싶다</td>\n",
       "      <td>여행은 언제나 좋죠.</td>\n",
       "      <td>0</td>\n",
       "    </tr>\n",
       "    <tr>\n",
       "      <th>3</th>\n",
       "      <td>3박4일 정도 놀러가고 싶다</td>\n",
       "      <td>여행은 언제나 좋죠.</td>\n",
       "      <td>0</td>\n",
       "    </tr>\n",
       "    <tr>\n",
       "      <th>4</th>\n",
       "      <td>PPL 심하네</td>\n",
       "      <td>눈살이 찌푸려지죠.</td>\n",
       "      <td>0</td>\n",
       "    </tr>\n",
       "    <tr>\n",
       "      <th>...</th>\n",
       "      <td>...</td>\n",
       "      <td>...</td>\n",
       "      <td>...</td>\n",
       "    </tr>\n",
       "    <tr>\n",
       "      <th>11818</th>\n",
       "      <td>훔쳐보는 것도 눈치 보임.</td>\n",
       "      <td>티가 나니까 눈치가 보이는 거죠!</td>\n",
       "      <td>2</td>\n",
       "    </tr>\n",
       "    <tr>\n",
       "      <th>11819</th>\n",
       "      <td>훔쳐보는 것도 눈치 보임.</td>\n",
       "      <td>훔쳐보는 거 티나나봐요.</td>\n",
       "      <td>2</td>\n",
       "    </tr>\n",
       "    <tr>\n",
       "      <th>11820</th>\n",
       "      <td>흑기사 해주는 짝남.</td>\n",
       "      <td>설렜겠어요.</td>\n",
       "      <td>2</td>\n",
       "    </tr>\n",
       "    <tr>\n",
       "      <th>11821</th>\n",
       "      <td>힘든 연애 좋은 연애라는게 무슨 차이일까?</td>\n",
       "      <td>잘 헤어질 수 있는 사이 여부인 거 같아요.</td>\n",
       "      <td>2</td>\n",
       "    </tr>\n",
       "    <tr>\n",
       "      <th>11822</th>\n",
       "      <td>힘들어서 결혼할까봐</td>\n",
       "      <td>도피성 결혼은 하지 않길 바라요.</td>\n",
       "      <td>2</td>\n",
       "    </tr>\n",
       "  </tbody>\n",
       "</table>\n",
       "<p>11823 rows × 3 columns</p>\n",
       "</div>"
      ],
      "text/plain": [
       "                             Q                         A  label\n",
       "0                       12시 땡!                하루가 또 가네요.      0\n",
       "1                  1지망 학교 떨어졌어                 위로해 드립니다.      0\n",
       "2                 3박4일 놀러가고 싶다               여행은 언제나 좋죠.      0\n",
       "3              3박4일 정도 놀러가고 싶다               여행은 언제나 좋죠.      0\n",
       "4                      PPL 심하네                눈살이 찌푸려지죠.      0\n",
       "...                        ...                       ...    ...\n",
       "11818           훔쳐보는 것도 눈치 보임.        티가 나니까 눈치가 보이는 거죠!      2\n",
       "11819           훔쳐보는 것도 눈치 보임.             훔쳐보는 거 티나나봐요.      2\n",
       "11820              흑기사 해주는 짝남.                    설렜겠어요.      2\n",
       "11821  힘든 연애 좋은 연애라는게 무슨 차이일까?  잘 헤어질 수 있는 사이 여부인 거 같아요.      2\n",
       "11822               힘들어서 결혼할까봐        도피성 결혼은 하지 않길 바라요.      2\n",
       "\n",
       "[11823 rows x 3 columns]"
      ]
     },
     "execution_count": 2,
     "metadata": {},
     "output_type": "execute_result"
    }
   ],
   "source": [
    "data_path = os.getenv(\"HOME\")+'/aiffel/transformer_chatbot/data/ChatbotData.csv'\n",
    "data = pd.read_csv(data_path)\n",
    "data"
   ]
  },
  {
   "cell_type": "code",
   "execution_count": 3,
   "id": "indoor-street",
   "metadata": {},
   "outputs": [
    {
     "name": "stdout",
     "output_type": "stream",
     "text": [
      "<class 'pandas.core.frame.DataFrame'>\n",
      "RangeIndex: 11823 entries, 0 to 11822\n",
      "Data columns (total 3 columns):\n",
      " #   Column  Non-Null Count  Dtype \n",
      "---  ------  --------------  ----- \n",
      " 0   Q       11823 non-null  object\n",
      " 1   A       11823 non-null  object\n",
      " 2   label   11823 non-null  int64 \n",
      "dtypes: int64(1), object(2)\n",
      "memory usage: 277.2+ KB\n"
     ]
    }
   ],
   "source": [
    "data.info()"
   ]
  },
  {
   "cell_type": "markdown",
   "id": "historic-indicator",
   "metadata": {},
   "source": [
    "각 질문(Q)에 대한 답변(A)과 일상다반서 0, 이별(부정) 1, 사랑(긍정) 2로 레이블링으로  \n",
    "구성되어있고, 따로 결측치는 없다.  \n",
    "현재 만들 챗봇에는 딱히 라벨은 필요없으므로 제거해주자."
   ]
  },
  {
   "cell_type": "code",
   "execution_count": 4,
   "id": "lesbian-helena",
   "metadata": {},
   "outputs": [
    {
     "data": {
      "text/html": [
       "<div>\n",
       "<style scoped>\n",
       "    .dataframe tbody tr th:only-of-type {\n",
       "        vertical-align: middle;\n",
       "    }\n",
       "\n",
       "    .dataframe tbody tr th {\n",
       "        vertical-align: top;\n",
       "    }\n",
       "\n",
       "    .dataframe thead th {\n",
       "        text-align: right;\n",
       "    }\n",
       "</style>\n",
       "<table border=\"1\" class=\"dataframe\">\n",
       "  <thead>\n",
       "    <tr style=\"text-align: right;\">\n",
       "      <th></th>\n",
       "      <th>Q</th>\n",
       "      <th>A</th>\n",
       "    </tr>\n",
       "  </thead>\n",
       "  <tbody>\n",
       "    <tr>\n",
       "      <th>0</th>\n",
       "      <td>12시 땡!</td>\n",
       "      <td>하루가 또 가네요.</td>\n",
       "    </tr>\n",
       "    <tr>\n",
       "      <th>1</th>\n",
       "      <td>1지망 학교 떨어졌어</td>\n",
       "      <td>위로해 드립니다.</td>\n",
       "    </tr>\n",
       "    <tr>\n",
       "      <th>2</th>\n",
       "      <td>3박4일 놀러가고 싶다</td>\n",
       "      <td>여행은 언제나 좋죠.</td>\n",
       "    </tr>\n",
       "    <tr>\n",
       "      <th>3</th>\n",
       "      <td>3박4일 정도 놀러가고 싶다</td>\n",
       "      <td>여행은 언제나 좋죠.</td>\n",
       "    </tr>\n",
       "    <tr>\n",
       "      <th>4</th>\n",
       "      <td>PPL 심하네</td>\n",
       "      <td>눈살이 찌푸려지죠.</td>\n",
       "    </tr>\n",
       "    <tr>\n",
       "      <th>...</th>\n",
       "      <td>...</td>\n",
       "      <td>...</td>\n",
       "    </tr>\n",
       "    <tr>\n",
       "      <th>11818</th>\n",
       "      <td>훔쳐보는 것도 눈치 보임.</td>\n",
       "      <td>티가 나니까 눈치가 보이는 거죠!</td>\n",
       "    </tr>\n",
       "    <tr>\n",
       "      <th>11819</th>\n",
       "      <td>훔쳐보는 것도 눈치 보임.</td>\n",
       "      <td>훔쳐보는 거 티나나봐요.</td>\n",
       "    </tr>\n",
       "    <tr>\n",
       "      <th>11820</th>\n",
       "      <td>흑기사 해주는 짝남.</td>\n",
       "      <td>설렜겠어요.</td>\n",
       "    </tr>\n",
       "    <tr>\n",
       "      <th>11821</th>\n",
       "      <td>힘든 연애 좋은 연애라는게 무슨 차이일까?</td>\n",
       "      <td>잘 헤어질 수 있는 사이 여부인 거 같아요.</td>\n",
       "    </tr>\n",
       "    <tr>\n",
       "      <th>11822</th>\n",
       "      <td>힘들어서 결혼할까봐</td>\n",
       "      <td>도피성 결혼은 하지 않길 바라요.</td>\n",
       "    </tr>\n",
       "  </tbody>\n",
       "</table>\n",
       "<p>11823 rows × 2 columns</p>\n",
       "</div>"
      ],
      "text/plain": [
       "                             Q                         A\n",
       "0                       12시 땡!                하루가 또 가네요.\n",
       "1                  1지망 학교 떨어졌어                 위로해 드립니다.\n",
       "2                 3박4일 놀러가고 싶다               여행은 언제나 좋죠.\n",
       "3              3박4일 정도 놀러가고 싶다               여행은 언제나 좋죠.\n",
       "4                      PPL 심하네                눈살이 찌푸려지죠.\n",
       "...                        ...                       ...\n",
       "11818           훔쳐보는 것도 눈치 보임.        티가 나니까 눈치가 보이는 거죠!\n",
       "11819           훔쳐보는 것도 눈치 보임.             훔쳐보는 거 티나나봐요.\n",
       "11820              흑기사 해주는 짝남.                    설렜겠어요.\n",
       "11821  힘든 연애 좋은 연애라는게 무슨 차이일까?  잘 헤어질 수 있는 사이 여부인 거 같아요.\n",
       "11822               힘들어서 결혼할까봐        도피성 결혼은 하지 않길 바라요.\n",
       "\n",
       "[11823 rows x 2 columns]"
      ]
     },
     "execution_count": 4,
     "metadata": {},
     "output_type": "execute_result"
    }
   ],
   "source": [
    "data = data.drop('label', axis=1)\n",
    "data"
   ]
  },
  {
   "cell_type": "markdown",
   "id": "violent-deficit",
   "metadata": {},
   "source": [
    "##  2. 데이터 전처리하기"
   ]
  },
  {
   "cell_type": "markdown",
   "id": "colonial-paintball",
   "metadata": {},
   "source": [
    "' '으로 단어들을 구분하자.  \n",
    "대표적으로 [! ? , .] 등의 특수문자와 'ㅠㅠ' 'ㅋㅋ' 등의  \n",
    "자음/모음으로만 의성어도 구분한다.  \n",
    "그 외 쓰지 않는 특수문자등은 제거한다."
   ]
  },
  {
   "cell_type": "code",
   "execution_count": 5,
   "id": "precious-nurse",
   "metadata": {},
   "outputs": [],
   "source": [
    "# 전처리 함수\n",
    "def preprocess_sentence(sentence):\n",
    "    sentence = sentence.lower().strip()\n",
    "\n",
    "    # 단어와 구두점(punctuation) 사이의 거리를 만듭니다.\n",
    "    # 'ㅋㅋ', 'ㅠㅠ' 등의 자음/모음으로만 구성된 의성어도 나눈다.\n",
    "    sentence = re.sub(r\"([?.!,])\", r\" \\1 \", sentence)\n",
    "    sentence = re.sub(r\"([ㄱ-ㅎㅏ-ㅣ]+)\", r\" \\1 \", sentence)\n",
    "    sentence = re.sub(r'[\" \"]+', \" \", sentence)\n",
    "\n",
    "    # 한글,영문자,숫자,?,.,!,,를 제외한 모든 문자를 공백 \" \"으로 대체한다.\n",
    "    sentence = re.sub(r\"[^ㄱ-ㅎㅏ-ㅣ가-힣a-zA-Z0-9?.!,]+\", \" \", sentence)\n",
    "    sentence = sentence.strip()\n",
    "    return sentence"
   ]
  },
  {
   "cell_type": "code",
   "execution_count": 6,
   "id": "extraordinary-rental",
   "metadata": {},
   "outputs": [
    {
     "data": {
      "text/html": [
       "<div>\n",
       "<style scoped>\n",
       "    .dataframe tbody tr th:only-of-type {\n",
       "        vertical-align: middle;\n",
       "    }\n",
       "\n",
       "    .dataframe tbody tr th {\n",
       "        vertical-align: top;\n",
       "    }\n",
       "\n",
       "    .dataframe thead th {\n",
       "        text-align: right;\n",
       "    }\n",
       "</style>\n",
       "<table border=\"1\" class=\"dataframe\">\n",
       "  <thead>\n",
       "    <tr style=\"text-align: right;\">\n",
       "      <th></th>\n",
       "      <th>Q</th>\n",
       "      <th>A</th>\n",
       "    </tr>\n",
       "  </thead>\n",
       "  <tbody>\n",
       "    <tr>\n",
       "      <th>0</th>\n",
       "      <td>12시 땡 !</td>\n",
       "      <td>하루가 또 가네요 .</td>\n",
       "    </tr>\n",
       "    <tr>\n",
       "      <th>1</th>\n",
       "      <td>1지망 학교 떨어졌어</td>\n",
       "      <td>위로해 드립니다 .</td>\n",
       "    </tr>\n",
       "    <tr>\n",
       "      <th>2</th>\n",
       "      <td>3박4일 놀러가고 싶다</td>\n",
       "      <td>여행은 언제나 좋죠 .</td>\n",
       "    </tr>\n",
       "    <tr>\n",
       "      <th>3</th>\n",
       "      <td>3박4일 정도 놀러가고 싶다</td>\n",
       "      <td>여행은 언제나 좋죠 .</td>\n",
       "    </tr>\n",
       "    <tr>\n",
       "      <th>4</th>\n",
       "      <td>ppl 심하네</td>\n",
       "      <td>눈살이 찌푸려지죠 .</td>\n",
       "    </tr>\n",
       "  </tbody>\n",
       "</table>\n",
       "</div>"
      ],
      "text/plain": [
       "                 Q             A\n",
       "0          12시 땡 !   하루가 또 가네요 .\n",
       "1      1지망 학교 떨어졌어    위로해 드립니다 .\n",
       "2     3박4일 놀러가고 싶다  여행은 언제나 좋죠 .\n",
       "3  3박4일 정도 놀러가고 싶다  여행은 언제나 좋죠 .\n",
       "4          ppl 심하네   눈살이 찌푸려지죠 ."
      ]
     },
     "execution_count": 6,
     "metadata": {},
     "output_type": "execute_result"
    }
   ],
   "source": [
    "preprocessed_data = data.applymap(lambda x : preprocess_sentence(x))\n",
    "preprocessed_data.head()"
   ]
  },
  {
   "cell_type": "markdown",
   "id": "suited-consumption",
   "metadata": {},
   "source": [
    "3박4일 처럼 숫자도 구분할까 했지만 일단 이대로 학습 시켜보자."
   ]
  },
  {
   "cell_type": "code",
   "execution_count": 7,
   "id": "seven-excess",
   "metadata": {},
   "outputs": [
    {
     "name": "stdout",
     "output_type": "stream",
     "text": [
      "전체 샘플 수 : 11823\n",
      "전체 샘플 수 : 11823\n"
     ]
    }
   ],
   "source": [
    "questions, answers = preprocessed_data.Q.values, preprocessed_data.A.values\n",
    "\n",
    "print('전체 샘플 수 :', len(questions))\n",
    "print('전체 샘플 수 :', len(answers))"
   ]
  },
  {
   "cell_type": "code",
   "execution_count": 8,
   "id": "fossil-endorsement",
   "metadata": {},
   "outputs": [
    {
     "name": "stdout",
     "output_type": "stream",
     "text": [
      "전처리 전의 8번째 질문 샘플: SNS 맞팔 왜 안하지ㅠㅠ\n",
      "전처리 전의 8번째 답변 샘플: 잘 모르고 있을 수도 있어요.\n"
     ]
    }
   ],
   "source": [
    "print('전처리 전의 8번째 질문 샘플: {}'.format(data.Q[7]))\n",
    "print('전처리 전의 8번째 답변 샘플: {}'.format(data.A[7]))"
   ]
  },
  {
   "cell_type": "code",
   "execution_count": 9,
   "id": "positive-victoria",
   "metadata": {},
   "outputs": [
    {
     "name": "stdout",
     "output_type": "stream",
     "text": [
      "전처리 후의 8번째 질문 샘플: sns 맞팔 왜 안하지 ㅠㅠ\n",
      "전처리 후의 8번째 답변 샘플: 잘 모르고 있을 수도 있어요 .\n"
     ]
    }
   ],
   "source": [
    "print('전처리 후의 8번째 질문 샘플: {}'.format(questions[7]))\n",
    "print('전처리 후의 8번째 답변 샘플: {}'.format(answers[7]))"
   ]
  },
  {
   "cell_type": "markdown",
   "id": "generic-switzerland",
   "metadata": {},
   "source": [
    "전처리 전 후를 비교해보면 의성어나 마침표 등이 잘 나누어진것을 확인 할 수 있다.\n",
    "\n",
    "각 문장의 나누어진 단어 개수를 세워보자."
   ]
  },
  {
   "cell_type": "code",
   "execution_count": 10,
   "id": "oriented-insulin",
   "metadata": {},
   "outputs": [
    {
     "data": {
      "text/html": [
       "<div>\n",
       "<style scoped>\n",
       "    .dataframe tbody tr th:only-of-type {\n",
       "        vertical-align: middle;\n",
       "    }\n",
       "\n",
       "    .dataframe tbody tr th {\n",
       "        vertical-align: top;\n",
       "    }\n",
       "\n",
       "    .dataframe thead th {\n",
       "        text-align: right;\n",
       "    }\n",
       "</style>\n",
       "<table border=\"1\" class=\"dataframe\">\n",
       "  <thead>\n",
       "    <tr style=\"text-align: right;\">\n",
       "      <th></th>\n",
       "      <th>Q</th>\n",
       "      <th>A</th>\n",
       "      <th>Q_length</th>\n",
       "      <th>A_length</th>\n",
       "    </tr>\n",
       "  </thead>\n",
       "  <tbody>\n",
       "    <tr>\n",
       "      <th>0</th>\n",
       "      <td>12시 땡 !</td>\n",
       "      <td>하루가 또 가네요 .</td>\n",
       "      <td>3</td>\n",
       "      <td>4</td>\n",
       "    </tr>\n",
       "    <tr>\n",
       "      <th>1</th>\n",
       "      <td>1지망 학교 떨어졌어</td>\n",
       "      <td>위로해 드립니다 .</td>\n",
       "      <td>3</td>\n",
       "      <td>3</td>\n",
       "    </tr>\n",
       "    <tr>\n",
       "      <th>2</th>\n",
       "      <td>3박4일 놀러가고 싶다</td>\n",
       "      <td>여행은 언제나 좋죠 .</td>\n",
       "      <td>3</td>\n",
       "      <td>4</td>\n",
       "    </tr>\n",
       "    <tr>\n",
       "      <th>3</th>\n",
       "      <td>3박4일 정도 놀러가고 싶다</td>\n",
       "      <td>여행은 언제나 좋죠 .</td>\n",
       "      <td>4</td>\n",
       "      <td>4</td>\n",
       "    </tr>\n",
       "    <tr>\n",
       "      <th>4</th>\n",
       "      <td>ppl 심하네</td>\n",
       "      <td>눈살이 찌푸려지죠 .</td>\n",
       "      <td>2</td>\n",
       "      <td>3</td>\n",
       "    </tr>\n",
       "  </tbody>\n",
       "</table>\n",
       "</div>"
      ],
      "text/plain": [
       "                 Q             A  Q_length  A_length\n",
       "0          12시 땡 !   하루가 또 가네요 .         3         4\n",
       "1      1지망 학교 떨어졌어    위로해 드립니다 .         3         3\n",
       "2     3박4일 놀러가고 싶다  여행은 언제나 좋죠 .         3         4\n",
       "3  3박4일 정도 놀러가고 싶다  여행은 언제나 좋죠 .         4         4\n",
       "4          ppl 심하네   눈살이 찌푸려지죠 .         2         3"
      ]
     },
     "execution_count": 10,
     "metadata": {},
     "output_type": "execute_result"
    }
   ],
   "source": [
    "preprocessed_data['Q_length'] = preprocessed_data['Q'].str.count(' ')+1\n",
    "preprocessed_data['A_length'] = preprocessed_data['A'].str.count(' ')+1\n",
    "preprocessed_data.head()"
   ]
  },
  {
   "cell_type": "code",
   "execution_count": 11,
   "id": "anonymous-thickness",
   "metadata": {},
   "outputs": [
    {
     "data": {
      "text/plain": [
       "0        3\n",
       "1        3\n",
       "2        3\n",
       "3        4\n",
       "4        2\n",
       "        ..\n",
       "11818    6\n",
       "11819    4\n",
       "11820    2\n",
       "11821    9\n",
       "11822    6\n",
       "Length: 23646, dtype: int64"
      ]
     },
     "execution_count": 11,
     "metadata": {},
     "output_type": "execute_result"
    }
   ],
   "source": [
    "length = pd.concat([preprocessed_data['Q_length'], preprocessed_data['A_length']])\n",
    "length"
   ]
  },
  {
   "cell_type": "code",
   "execution_count": 12,
   "id": "unauthorized-leather",
   "metadata": {},
   "outputs": [
    {
     "data": {
      "image/png": "[encoded data removed]",
      "text/plain": [
       "<Figure size 432x288 with 1 Axes>"
      ]
     },
     "metadata": {
      "needs_background": "light"
     },
     "output_type": "display_data"
    }
   ],
   "source": [
    "plt.hist(length, bins = 24)\n",
    "plt.show()"
   ]
  },
  {
   "cell_type": "markdown",
   "id": "chubby-canal",
   "metadata": {},
   "source": [
    "최대 단어 개수는 24개까지 분포되어 있지만, 이후 토큰화 시키면서 개수가 늘어날 것이다."
   ]
  },
  {
   "cell_type": "markdown",
   "id": "combined-latin",
   "metadata": {},
   "source": [
    "## 3. Dataset 만들기\n",
    "\n",
    "각 질문(Q)과 답변(A)을 입력과 출력으로 데이터셋을 만들 것이다.  \n",
    "전처리한 단어를 토큰화 시키고 패딩 처리후 데이터셋으로 만든다.\n",
    "\n",
    "토큰화 과정은 2가지 방법을 이용할 것이다.   \n",
    "tensorflow_datasets의 내부 단어 토크나이저인 SubwordTextEncoder를 사용해서 토큰화시켜보자.  \n",
    "다른 방법으로 konlpy 패키지의 Okt를 이용해서 형태소로 토큰화시켜보자."
   ]
  },
  {
   "cell_type": "markdown",
   "id": "catholic-valuable",
   "metadata": {},
   "source": [
    "### SubwordTextEncoder\n",
    "\n",
    "target_vocab_size을 2^13=8192로 주었다.  \n",
    "16384의 경우는 토큰화된 단어에서 쓸데 없는 중복이 많은 거 같았다."
   ]
  },
  {
   "cell_type": "code",
   "execution_count": 13,
   "id": "turkish-administrator",
   "metadata": {},
   "outputs": [],
   "source": [
    "tokenizer = tfds.deprecated.text.SubwordTextEncoder.build_from_corpus(questions + ' ' + answers, target_vocab_size=2**13)"
   ]
  },
  {
   "cell_type": "code",
   "execution_count": 14,
   "id": "actual-seminar",
   "metadata": {
    "scrolled": true
   },
   "outputs": [
    {
     "name": "stdout",
     "output_type": "stream",
     "text": [
      "START_TOKEN의 번호 : [8361]\n",
      "END_TOKEN의 번호 : [8362]\n"
     ]
    }
   ],
   "source": [
    "START_TOKEN, END_TOKEN = [tokenizer.vocab_size], [tokenizer.vocab_size + 1]\n",
    "\n",
    "print('START_TOKEN의 번호 :' ,[tokenizer.vocab_size])\n",
    "print('END_TOKEN의 번호 :' ,[tokenizer.vocab_size + 1])"
   ]
  },
  {
   "cell_type": "code",
   "execution_count": 15,
   "id": "absent-thailand",
   "metadata": {},
   "outputs": [
    {
     "data": {
      "text/plain": [
       "'토큰화된 단어의 개수 : 8363'"
      ]
     },
     "execution_count": 15,
     "metadata": {},
     "output_type": "execute_result"
    }
   ],
   "source": [
    "VOCAB_SIZE = tokenizer.vocab_size + 2\n",
    "f'토큰화된 단어의 개수 : {VOCAB_SIZE}'"
   ]
  },
  {
   "cell_type": "markdown",
   "id": "overall-syntax",
   "metadata": {},
   "source": [
    "토큰화된 단어는 14635개 이다.  "
   ]
  },
  {
   "cell_type": "code",
   "execution_count": 16,
   "id": "missing-lounge",
   "metadata": {
    "scrolled": false
   },
   "outputs": [
    {
     "name": "stdout",
     "output_type": "stream",
     "text": [
      " . . . .  . ?  .거예요 .수  .게  .너무  .더  .거  .좋아하는  .는  .이  .을  .잘  .고  .도  .것  .많이  .요 .안  .지  .나  .좋은  .다  .같아요 .사람  .가  .좀  .한  .있어요 .있을  .에  .은  .해보세요 .할  .면  .건  .싶어  .사람이  .를  .마세요 .하고  .하는  .같아  .네  .보세요 .죠 .서  .내가  .내  .의  .이제  .마음이  . ! .만  .썸  .다른  .그  .왜  .어떻게  .있는  .세요 .해  .다시  .시간이  .수도  .지 .이별  .것도  .오늘  .또  .좋을  .정말  .네요 .이 .같이  .해 .걸  .어  .는데  .될  .해요 .일  .자꾸  .나 .하세요 .없어요 .야  .길  .기  .로  .제가  .없어  .바랄게요 .하면  .싶다  .봐요 .때  .돼요 .으로  .가 .하지  .진짜  .저도  .먼저  .어 .에서  .그런  .헤어진지  .다 .나를  .주세요 .마음을  .데  .없는  .해도  .여자친구가  .혼자  .좋아요 .계속  .남자친구가  .못  .드세요 .줄  .않아요 .먹고  .네 .좋죠 .일이  .마음  .기 .힘든  .바랍니다 .보고  .날  .그럴  .연애  .연락  .아 .만큼  .있어  .생각해요 .말해보세요 .나봐요 .시간  .사랑이  .좋겠어요 .으면  .사람은  .뭐  .친구가  .주 .있으면  .무슨  .과  .있을까 .아직  .많은  .고 .니  .까 .그냥  .참  .인데  .에요 .안 . ,  .인  .이렇게  .보 .몰라요 .는게  .예요 .어떤\n",
      "1년만 .12 .10년  .10개월 ..  . , ,  .\u0000 .\u0001 .\u0002 .\u0003 .\u0004 .\u0005 .\u0006 .\u0007 .\b .\t .\n",
      " .\u000b",
      " .\f",
      " .\r",
      " .\u000e .\u000f .\u0010 .\u0011 .\u0012 .\u0013 .\u0014 .\u0015 .\u0016 .\u0017 .\u0018 .\u0019 .\u001a .\u001b .\u001c",
      " .\u001d",
      " .\u001e",
      " .\u001f .  .! .\" .# .$ .% .& .' .( .) .* .+ ., .- .. ./ .0 .1 .2 .3 .4 .5 .6 .7 .8 .9 .: .; .< .= .> .? .@ .A .B .C .D .E .F .G .H .I .J .K .L .M .N .O .P .Q .R .S .T .U .V .W .X .Y .Z .[ .\\ .] .^ ._ .` .a .b .c .d .e .f .g .h .i .j .k .l .m .n .o .p .q .r .s .t .u .v .w .x .y .z .{ .| .} .~ . .� .� .� .� .� .� .� .� .� .� .� .� .� .� .� .� .� .� .� .� .� .� .� .� .� .� .� .� .� .� .� .� .� .� .� .� .� .� .� .� .� .� .� .� .� .� .� .� .� .� .� .� .� .� .� .� .� .� .� .� .� .� .� .� .� .� .� .� .� .� .� .� .� .� .� .� .� .� .� .� .� .� .� .� .� .� .� .� .� .� .� .� .� .� .� .� .� .� .� .� .� .� .� .� .� .� .� .� .� .� .� .� .� .� .� .� .� .� .� .� .� .� .� .� .� .� .� .� .\n"
     ]
    }
   ],
   "source": [
    "words = tokenizer.decode([i//2 if i%2 == 0 else 1  for i in range(1, (VOCAB_SIZE-2)*2)])\n",
    "print(words[:800])\n",
    "print(words[-800:])"
   ]
  },
  {
   "cell_type": "markdown",
   "id": "immediate-canadian",
   "metadata": {},
   "source": [
    "### konlpy Okt\n",
    "konlpy패키지의 Okt를 이용해서 형태소로 토큰화 시켜보자."
   ]
  },
  {
   "cell_type": "code",
   "execution_count": 73,
   "id": "dependent-investigator",
   "metadata": {},
   "outputs": [],
   "source": [
    "class OktTokenizer(Okt):\n",
    "    def __init__(self, sentences):\n",
    "        super().__init__()\n",
    "        \n",
    "        words = set()\n",
    "        for sentence in sentences:\n",
    "            words.update(self.morphs(sentence))\n",
    "        \n",
    "        self.vocab_size = len(words)\n",
    "        self.word_to_index = {word:index for index, word in enumerate(words)}\n",
    "        self.index_to_word = {index:word for word, index in self.word_to_index.items()}\n",
    "        \n",
    "    \n",
    "    def encode(self, sentence):\n",
    "        morphs = self.morphs(sentence)\n",
    "        return [self.word_to_index[word] for word in morphs]\n",
    "    \n",
    "    \n",
    "    def decode(self, sentence):\n",
    "        return ' '.join(self.index_to_word[index] if index in self.index_to_word else '<UNK>' for index in sentence)"
   ]
  },
  {
   "cell_type": "code",
   "execution_count": 18,
   "id": "irish-liberia",
   "metadata": {},
   "outputs": [],
   "source": [
    "tokenizer_okt = OktTokenizer(preprocessed_data.Q + ' ' + preprocessed_data.A)"
   ]
  },
  {
   "cell_type": "code",
   "execution_count": 19,
   "id": "accepting-plymouth",
   "metadata": {},
   "outputs": [
    {
     "name": "stdout",
     "output_type": "stream",
     "text": [
      "START_TOKEN의 번호 : [12651]\n",
      "END_TOKEN의 번호 : [12652]\n"
     ]
    }
   ],
   "source": [
    "START_TOKEN_OKT, END_TOKEN_OKT = [tokenizer_okt.vocab_size], [tokenizer_okt.vocab_size + 1]\n",
    "\n",
    "print('START_TOKEN의 번호 :', START_TOKEN_OKT)\n",
    "print('END_TOKEN의 번호 :', END_TOKEN_OKT)"
   ]
  },
  {
   "cell_type": "code",
   "execution_count": 20,
   "id": "parental-magic",
   "metadata": {},
   "outputs": [
    {
     "data": {
      "text/plain": [
       "'토큰화된 단어의 개수 : 12653'"
      ]
     },
     "execution_count": 20,
     "metadata": {},
     "output_type": "execute_result"
    }
   ],
   "source": [
    "VOCAB_SIZE_OKT = tokenizer_okt.vocab_size + 2\n",
    "f'토큰화된 단어의 개수 : {VOCAB_SIZE_OKT}'"
   ]
  },
  {
   "cell_type": "code",
   "execution_count": 21,
   "id": "appreciated-manual",
   "metadata": {
    "scrolled": true
   },
   "outputs": [
    {
     "data": {
      "text/plain": [
       "array(['봐야겠다', '짐작', '만났어도', '보여주고싶은데', '경조사', '닳아', '작', '중요합니다', '버텨요',\n",
       "       '진실되게', '들까', '쓰이고', '날이에', '추석', '나이스', '가릴까', '아쉽네요', '초미세먼지',\n",
       "       '싶은신', '들텐데요', '중요해서', '빵꾸', '미안하지만', '분이네요', '싸게', '느껴지겠어요', '맡겨',\n",
       "       '빠르면', '있기', '걸레질', '양말', '시원할', '겨우', '북', '처리', '줬으면', '편식',\n",
       "       '누워', '알리', '깨고싶어', '상념', '용납', '버린', '서서히', '궁금하지', '단발', '미세먼지',\n",
       "       '그러려니', '대빵', '놔야지', '재테크', '그리워지나요', '600일', '만을', '스테이크', '경과',\n",
       "       '해외여행', '물어볼까', '거둘', '당했다는', '이라니', '갈거예요', '위험해요', '간단한', '드디어',\n",
       "       '어이', '칼', '서먹해졌어', '올라갈', '좋아하다', '받아야', '전달', '환심', '두려운데', '아니',\n",
       "       '화나', '일일일', '해봐야지', '새벽', '애매모호해', '모자라다고', '내려올', '수십', '지울',\n",
       "       '코인', '재밌겠어요', '리', '궁', '모은', '이어', '강해지고', '잡념', '짜오', '몰랐구나',\n",
       "       '인한', '듣는', '걷는다', '있자고', '변했으면', '됐습니다'], dtype='<U9')"
      ]
     },
     "execution_count": 21,
     "metadata": {},
     "output_type": "execute_result"
    }
   ],
   "source": [
    "np.array(list(tokenizer_okt.word_to_index.keys()))[:100]"
   ]
  },
  {
   "cell_type": "markdown",
   "id": "younger-backing",
   "metadata": {},
   "source": [
    "두 가지의 다른 방법으로 토큰화 시킨 결과를 비교해보면,  \n",
    "가장 큰 차이는 SubwordTextEncoder를 사용한 경우는 '시간이', '시간을' 처럼  \n",
    "형태소가 아닌 단어 자체로 토큰화 시켰고, konlpy 패키지의 경우는  \n",
    "'시간', '을' '이' 처럼 형태소로 토큰화 시킨 것을 알 수 있다."
   ]
  },
  {
   "cell_type": "code",
   "execution_count": 22,
   "id": "broke-syntax",
   "metadata": {},
   "outputs": [
    {
     "name": "stdout",
     "output_type": "stream",
     "text": [
      "가스비 장난 아님\n",
      "정수 인코딩 후의 21번째 질문 샘플: [5867, 601, 2487, 4210]\n",
      "정수 인코딩 후의 21번째 답변 샘플: [2353, 7677, 8, 6382, 97, 1]\n"
     ]
    }
   ],
   "source": [
    "print(questions[21])\n",
    "print('정수 인코딩 후의 21번째 질문 샘플: {}'.format(tokenizer.encode(questions[21])))\n",
    "print('정수 인코딩 후의 21번째 답변 샘플: {}'.format(tokenizer.encode(answers[21])))"
   ]
  },
  {
   "cell_type": "code",
   "execution_count": 23,
   "id": "forced-greeting",
   "metadata": {},
   "outputs": [
    {
     "name": "stdout",
     "output_type": "stream",
     "text": [
      "정수 인코딩 후의 21번째 질문 샘플: [9130, 12087, 8311, 804]\n",
      "정수 인코딩 후의 21번째 답변 샘플: [4248, 2501, 12328, 3295, 8030, 6643, 11251]\n"
     ]
    }
   ],
   "source": [
    "print('정수 인코딩 후의 21번째 질문 샘플: {}'.format(tokenizer_okt.encode(questions[21])))\n",
    "print('정수 인코딩 후의 21번째 답변 샘플: {}'.format(tokenizer_okt.encode(answers[21])))"
   ]
  },
  {
   "cell_type": "markdown",
   "id": "conceptual-whole",
   "metadata": {},
   "source": [
    "같은 '가스비 장난 아님' 아니라는 문장을  다른 개수로 토큰화 시킨 것을 볼 수있다.\n",
    "\n",
    "다음은 입력, 출력들을 토큰화시키고, 패딩처리까지 하자.  \n",
    "현재 나누어진 최대 단어 길이는 24개이지만 토큰화를 거치면서 좀 더 늘어날 것이다.  \n",
    "다만 애초에 길이가 그렇게 크지 않으므로 따로 길이를 정하지 않고,  \n",
    "토큰화 시킨 후 구한 최대 토큰 길이로 패딩을 할 것이다."
   ]
  },
  {
   "cell_type": "code",
   "execution_count": 24,
   "id": "lightweight-burst",
   "metadata": {},
   "outputs": [],
   "source": [
    "def tokenize_and_filter(tokenizer, inputs, outputs):\n",
    "    tokenized_inputs, tokenized_outputs = [], []\n",
    "    \n",
    "    # 최대 토큰 길이\n",
    "    max_length = 0\n",
    "    start_token = [tokenizer.vocab_size]\n",
    "    end_token = [tokenizer.vocab_size + 1]\n",
    "    \n",
    "    for (sentence1, sentence2) in zip(inputs, outputs):\n",
    "        # 정수 인코딩 과정에서 시작 토큰과 종료 토큰을 추가\n",
    "        sentence1 = start_token + tokenizer.encode(sentence1) + end_token\n",
    "        sentence2 = start_token + tokenizer.encode(sentence2) + end_token\n",
    "        max_length = max(max_length, max(len(sentence1), len(sentence2)))\n",
    "\n",
    "        tokenized_inputs.append(sentence1)\n",
    "        tokenized_outputs.append(sentence2)\n",
    "\n",
    "    tokenized_inputs = tf.keras.preprocessing.sequence.pad_sequences(\n",
    "        tokenized_inputs, maxlen=max_length, padding='post')\n",
    "    tokenized_outputs = tf.keras.preprocessing.sequence.pad_sequences(\n",
    "        tokenized_outputs, maxlen=max_length, padding='post')\n",
    "\n",
    "    return tokenized_inputs, tokenized_outputs, max_length"
   ]
  },
  {
   "cell_type": "code",
   "execution_count": 25,
   "id": "classified-incentive",
   "metadata": {},
   "outputs": [],
   "source": [
    "BATCH_SIZE = 64\n",
    "BUFFER_SIZE = 20000\n",
    "\n",
    "def create_dataset(inputs, outputs):\n",
    "    # 디코더는 이전의 target을 다음의 input으로 사용합니다.\n",
    "    # 이에 따라 outputs에서는 START_TOKEN을 제거하겠습니다.\n",
    "    dataset = tf.data.Dataset.from_tensor_slices((\n",
    "        {\n",
    "            'inputs': inputs,\n",
    "            'dec_inputs': outputs[:, :-1]\n",
    "        },\n",
    "        {\n",
    "            'outputs': outputs[:, 1:]\n",
    "        },\n",
    "    ))\n",
    "\n",
    "    dataset = dataset.cache()\n",
    "    dataset = dataset.shuffle(BUFFER_SIZE)\n",
    "    dataset = dataset.batch(BATCH_SIZE)\n",
    "    dataset = dataset.prefetch(tf.data.experimental.AUTOTUNE)\n",
    "    return dataset"
   ]
  },
  {
   "cell_type": "code",
   "execution_count": 26,
   "id": "built-henry",
   "metadata": {},
   "outputs": [
    {
     "name": "stdout",
     "output_type": "stream",
     "text": [
      "단어장의 크기 : 8363\n",
      "최대 토큰 길이 :  31\n",
      "필터링 후의 질문 샘플 개수: 11823\n",
      "필터링 후의 답변 샘플 개수: 11823\n"
     ]
    }
   ],
   "source": [
    "tokenized_questions, tokenized_answers, MAX_LENGTH = tokenize_and_filter(tokenizer, questions, answers)\n",
    "\n",
    "print('단어장의 크기 :',(VOCAB_SIZE))\n",
    "print('최대 토큰 길이 : ', MAX_LENGTH)\n",
    "print('필터링 후의 질문 샘플 개수: {}'.format(len(tokenized_questions)))\n",
    "print('필터링 후의 답변 샘플 개수: {}'.format(len(tokenized_answers)))"
   ]
  },
  {
   "cell_type": "markdown",
   "id": "hawaiian-captain",
   "metadata": {},
   "source": [
    "토큰화 후 최대 길이가 31로 늘었지만, 충분히 학습 가능한 길이이다."
   ]
  },
  {
   "cell_type": "code",
   "execution_count": 27,
   "id": "breeding-fitting",
   "metadata": {},
   "outputs": [
    {
     "data": {
      "text/plain": [
       "array([[8361, 8100, 2957, ...,    0,    0,    0],\n",
       "       [8361, 8154,   67, ...,    0,    0,    0],\n",
       "       [8361, 8156, 1417, ...,    0,    0,    0],\n",
       "       ...,\n",
       "       [8361, 8342, 8262, ...,    0,    0,    0],\n",
       "       [8361,  132,  137, ...,    0,    0,    0],\n",
       "       [8361, 1724,  984, ...,    0,    0,    0]], dtype=int32)"
      ]
     },
     "execution_count": 27,
     "metadata": {},
     "output_type": "execute_result"
    }
   ],
   "source": [
    "tokenized_questions"
   ]
  },
  {
   "cell_type": "code",
   "execution_count": 28,
   "id": "driven-medium",
   "metadata": {},
   "outputs": [],
   "source": [
    "dataset = create_dataset(tokenized_questions, tokenized_answers)"
   ]
  },
  {
   "cell_type": "markdown",
   "id": "individual-practice",
   "metadata": {},
   "source": [
    "마찬가지로 otk로 토큰화시켜서 데이터셋을 만들어보자."
   ]
  },
  {
   "cell_type": "code",
   "execution_count": 29,
   "id": "requested-display",
   "metadata": {},
   "outputs": [
    {
     "name": "stdout",
     "output_type": "stream",
     "text": [
      "단어장의 크기 : 12651\n",
      "최대 토큰 길이 :  33\n",
      "필터링 후의 질문 샘플 개수: 11823\n",
      "필터링 후의 답변 샘플 개수: 11823\n"
     ]
    }
   ],
   "source": [
    "tokenized_questions_okt, tokenized_answers_okt, MAX_LENGTH_OKT = tokenize_and_filter(tokenizer_okt, questions, answers)\n",
    "\n",
    "print('단어장의 크기 :', tokenizer_okt.vocab_size)\n",
    "print('최대 토큰 길이 : ', MAX_LENGTH_OKT)\n",
    "print('필터링 후의 질문 샘플 개수: {}'.format(len(tokenized_questions_okt)))\n",
    "print('필터링 후의 답변 샘플 개수: {}'.format(len(tokenized_answers_okt)))"
   ]
  },
  {
   "cell_type": "markdown",
   "id": "choice-characterization",
   "metadata": {},
   "source": [
    "형태소로 나누다 보니 최대 길이 33으로 좀 더 길다."
   ]
  },
  {
   "cell_type": "code",
   "execution_count": 30,
   "id": "involved-cardiff",
   "metadata": {},
   "outputs": [],
   "source": [
    "dataset_okt = create_dataset(tokenized_questions_okt, tokenized_answers_okt)"
   ]
  },
  {
   "cell_type": "markdown",
   "id": "interracial-surfing",
   "metadata": {},
   "source": [
    "## 4. 모델 구성하기\n",
    "\n",
    "transfomer 모델을 구성해보자."
   ]
  },
  {
   "cell_type": "code",
   "execution_count": 31,
   "id": "dried-footwear",
   "metadata": {},
   "outputs": [],
   "source": [
    "# 포지셔널 인코딩 레이어\n",
    "class PositionalEncoding(tf.keras.layers.Layer):\n",
    "    def __init__(self, position, d_model):\n",
    "        super(PositionalEncoding, self).__init__()\n",
    "        self.pos_encoding = self.positional_encoding(position, d_model)\n",
    "\n",
    "    def get_angles(self, position, i, d_model):\n",
    "        angles = 1 / tf.pow(10000, (2 * (i // 2)) /\n",
    "                            tf.cast(d_model, tf.float32))\n",
    "        return position * angles\n",
    "\n",
    "    def positional_encoding(self, position, d_model):\n",
    "        # 각도 배열 생성\n",
    "        angle_rads = self.get_angles(\n",
    "            position=tf.range(position, dtype=tf.float32)[:, tf.newaxis],\n",
    "            i=tf.range(d_model, dtype=tf.float32)[tf.newaxis, :],\n",
    "            d_model=d_model)\n",
    "\n",
    "        # 배열의 짝수 인덱스에는 sin 함수 적용\n",
    "        sines = tf.math.sin(angle_rads[:, 0::2])\n",
    "        # 배열의 홀수 인덱스에는 cosine 함수 적용\n",
    "        cosines = tf.math.cos(angle_rads[:, 1::2])\n",
    "\n",
    "        # sin과 cosine이 교차되도록 재배열\n",
    "        pos_encoding = tf.stack([sines, cosines], axis=0)\n",
    "        pos_encoding = tf.transpose(pos_encoding, [1, 2, 0])\n",
    "        pos_encoding = tf.reshape(pos_encoding, [position, d_model])\n",
    "\n",
    "        pos_encoding = pos_encoding[tf.newaxis, ...]\n",
    "        return tf.cast(pos_encoding, tf.float32)\n",
    "\n",
    "    def call(self, inputs):\n",
    "        return inputs + self.pos_encoding[:, :tf.shape(inputs)[1], :]\n"
   ]
  },
  {
   "cell_type": "code",
   "execution_count": 32,
   "id": "random-implement",
   "metadata": {},
   "outputs": [],
   "source": [
    "# 스케일드 닷 프로덕트 어텐션 함수\n",
    "def scaled_dot_product_attention(query, key, value, mask):\n",
    "    # 어텐션 가중치는 Q와 K의 닷 프로덕트\n",
    "    matmul_qk = tf.matmul(query, key, transpose_b=True)\n",
    "\n",
    "    # 가중치를 정규화\n",
    "    depth = tf.cast(tf.shape(key)[-1], tf.float32)\n",
    "    logits = matmul_qk / tf.math.sqrt(depth)\n",
    "\n",
    "    # 패딩에 마스크 추가\n",
    "    if mask is not None:\n",
    "        logits += (mask * -1e9)\n",
    "\n",
    "    # softmax적용\n",
    "    attention_weights = tf.nn.softmax(logits, axis=-1)\n",
    "\n",
    "    # 최종 어텐션은 가중치와 V의 닷 프로덕트\n",
    "    output = tf.matmul(attention_weights, value)\n",
    "    return output"
   ]
  },
  {
   "cell_type": "code",
   "execution_count": 33,
   "id": "criminal-collector",
   "metadata": {},
   "outputs": [],
   "source": [
    "class MultiHeadAttention(tf.keras.layers.Layer):\n",
    "    def __init__(self, d_model, num_heads, name=\"multi_head_attention\"):\n",
    "        super(MultiHeadAttention, self).__init__(name=name)\n",
    "        self.num_heads = num_heads\n",
    "        self.d_model = d_model\n",
    "\n",
    "        assert d_model % self.num_heads == 0\n",
    "\n",
    "        self.depth = d_model // self.num_heads\n",
    "\n",
    "        self.query_dense = tf.keras.layers.Dense(units=d_model)\n",
    "        self.key_dense = tf.keras.layers.Dense(units=d_model)\n",
    "        self.value_dense = tf.keras.layers.Dense(units=d_model)\n",
    "\n",
    "        self.dense = tf.keras.layers.Dense(units=d_model)\n",
    "\n",
    "    def split_heads(self, inputs, batch_size):\n",
    "        inputs = tf.reshape(\n",
    "            inputs, shape=(batch_size, -1, self.num_heads, self.depth))\n",
    "        return tf.transpose(inputs, perm=[0, 2, 1, 3])\n",
    "\n",
    "    def call(self, inputs):\n",
    "        query, key, value, mask = inputs['query'], inputs['key'], inputs['value'], inputs['mask']\n",
    "        batch_size = tf.shape(query)[0]\n",
    "\n",
    "        # Q, K, V에 각각 Dense를 적용합니다\n",
    "        query = self.query_dense(query)\n",
    "        key = self.key_dense(key)\n",
    "        value = self.value_dense(value)\n",
    "\n",
    "        # 병렬 연산을 위한 머리를 여러 개 만듭니다\n",
    "        query = self.split_heads(query, batch_size)\n",
    "        key = self.split_heads(key, batch_size)\n",
    "        value = self.split_heads(value, batch_size)\n",
    "\n",
    "        # 스케일드 닷 프로덕트 어텐션 함수\n",
    "        scaled_attention = scaled_dot_product_attention(query, key, value, mask)\n",
    "\n",
    "        scaled_attention = tf.transpose(scaled_attention, perm=[0, 2, 1, 3])\n",
    "\n",
    "        # 어텐션 연산 후에 각 결과를 다시 연결(concatenate)합니다\n",
    "        concat_attention = tf.reshape(scaled_attention, (batch_size, -1, self.d_model))\n",
    "\n",
    "        # 최종 결과에도 Dense를 한 번 더 적용합니다\n",
    "        outputs = self.dense(concat_attention)\n",
    "\n",
    "        return outputs"
   ]
  },
  {
   "cell_type": "code",
   "execution_count": 34,
   "id": "first-board",
   "metadata": {},
   "outputs": [],
   "source": [
    "def create_padding_mask(x):\n",
    "    mask = tf.cast(tf.math.equal(x, 0), tf.float32)\n",
    "    # (batch_size, 1, 1, sequence length)\n",
    "    return mask[:, tf.newaxis, tf.newaxis, :]"
   ]
  },
  {
   "cell_type": "code",
   "execution_count": 35,
   "id": "exotic-geometry",
   "metadata": {},
   "outputs": [],
   "source": [
    "def create_look_ahead_mask(x):\n",
    "    seq_len = tf.shape(x)[1]\n",
    "    look_ahead_mask = 1 - tf.linalg.band_part(tf.ones((seq_len, seq_len)), -1, 0)\n",
    "    padding_mask = create_padding_mask(x)\n",
    "    return tf.maximum(look_ahead_mask, padding_mask)"
   ]
  },
  {
   "cell_type": "code",
   "execution_count": 37,
   "id": "returning-petite",
   "metadata": {},
   "outputs": [],
   "source": [
    "# 인코더 하나의 레이어를 함수로 구현.\n",
    "# 이 하나의 레이어 안에는 두 개의 서브 레이어가 존재합니다.\n",
    "def encoder_layer(units, d_model, num_heads, dropout, name=\"encoder_layer\"):\n",
    "    inputs = tf.keras.Input(shape=(None, d_model), name=\"inputs\")\n",
    "\n",
    "    # 패딩 마스크 사용\n",
    "    padding_mask = tf.keras.Input(shape=(1, 1, None), name=\"padding_mask\")\n",
    "\n",
    "    # 첫 번째 서브 레이어 : 멀티 헤드 어텐션 수행 (셀프 어텐션)\n",
    "    attention = MultiHeadAttention(\n",
    "        d_model, num_heads, name=\"attention\")({\n",
    "            'query': inputs,\n",
    "            'key': inputs,\n",
    "            'value': inputs,\n",
    "            'mask': padding_mask\n",
    "        })\n",
    "\n",
    "    # 어텐션의 결과는 Dropout과 Layer Normalization이라는 훈련을 돕는 테크닉을 수행\n",
    "    attention = tf.keras.layers.Dropout(rate=dropout)(attention)\n",
    "    attention = tf.keras.layers.LayerNormalization(epsilon=1e-6)(inputs + attention)\n",
    "\n",
    "    # 두 번째 서브 레이어 : 2개의 완전연결층\n",
    "    outputs = tf.keras.layers.Dense(units=units, activation='relu')(attention)\n",
    "    outputs = tf.keras.layers.Dense(units=d_model)(outputs)\n",
    "\n",
    "    # 완전연결층의 결과는 Dropout과 LayerNormalization이라는 훈련을 돕는 테크닉을 수행\n",
    "    outputs = tf.keras.layers.Dropout(rate=dropout)(outputs)\n",
    "    outputs = tf.keras.layers.LayerNormalization(epsilon=1e-6)(attention + outputs)\n",
    "\n",
    "    return tf.keras.Model(inputs=[inputs, padding_mask], outputs=outputs, name=name)"
   ]
  },
  {
   "cell_type": "code",
   "execution_count": 39,
   "id": "thermal-locator",
   "metadata": {},
   "outputs": [],
   "source": [
    "def encoder(vocab_size,\n",
    "            num_layers,\n",
    "            units,\n",
    "            d_model,\n",
    "            num_heads,\n",
    "            dropout,\n",
    "            name=\"encoder\"):\n",
    "    inputs = tf.keras.Input(shape=(None,), name=\"inputs\")\n",
    "\n",
    "    # 패딩 마스크 사용\n",
    "    padding_mask = tf.keras.Input(shape=(1, 1, None), name=\"padding_mask\")\n",
    "\n",
    "    # 임베딩 레이어\n",
    "    embeddings = tf.keras.layers.Embedding(vocab_size, d_model)(inputs)\n",
    "    embeddings *= tf.math.sqrt(tf.cast(d_model, tf.float32))\n",
    "\n",
    "    # 포지셔널 인코딩\n",
    "    embeddings = PositionalEncoding(vocab_size, d_model)(embeddings)\n",
    "\n",
    "    outputs = tf.keras.layers.Dropout(rate=dropout)(embeddings)\n",
    "\n",
    "    # num_layers만큼 쌓아올린 인코더의 층.\n",
    "    for i in range(num_layers):\n",
    "        outputs = encoder_layer(\n",
    "            units=units,\n",
    "            d_model=d_model,\n",
    "            num_heads=num_heads,\n",
    "            dropout=dropout,\n",
    "            name=\"encoder_layer_{}\".format(i),\n",
    "        )([outputs, padding_mask])\n",
    "\n",
    "    return tf.keras.Model(inputs=[inputs, padding_mask], outputs=outputs, name=name)"
   ]
  },
  {
   "cell_type": "code",
   "execution_count": 40,
   "id": "waiting-crystal",
   "metadata": {},
   "outputs": [],
   "source": [
    "# 디코더 하나의 레이어를 함수로 구현.\n",
    "# 이 하나의 레이어 안에는 세 개의 서브 레이어가 존재합니다.\n",
    "def decoder_layer(units, d_model, num_heads, dropout, name=\"decoder_layer\"):\n",
    "    inputs = tf.keras.Input(shape=(None, d_model), name=\"inputs\")\n",
    "    enc_outputs = tf.keras.Input(shape=(None, d_model), name=\"encoder_outputs\")\n",
    "    look_ahead_mask = tf.keras.Input(\n",
    "        shape=(1, None, None), name=\"look_ahead_mask\")\n",
    "    padding_mask = tf.keras.Input(shape=(1, 1, None), name='padding_mask')\n",
    "\n",
    "    # 첫 번째 서브 레이어 : 멀티 헤드 어텐션 수행 (셀프 어텐션)\n",
    "    attention1 = MultiHeadAttention(\n",
    "        d_model, num_heads, name=\"attention_1\")(inputs={\n",
    "            'query': inputs,\n",
    "            'key': inputs,\n",
    "            'value': inputs,\n",
    "            'mask': look_ahead_mask\n",
    "        })\n",
    "\n",
    "    # 멀티 헤드 어텐션의 결과는 LayerNormalization이라는 훈련을 돕는 테크닉을 수행\n",
    "    attention1 = tf.keras.layers.LayerNormalization(epsilon=1e-6)(attention1 + inputs)\n",
    "\n",
    "    # 두 번째 서브 레이어 : 마스크드 멀티 헤드 어텐션 수행 (인코더-디코더 어텐션)\n",
    "    attention2 = MultiHeadAttention(\n",
    "        d_model, num_heads, name=\"attention_2\")(inputs={\n",
    "            'query': attention1,\n",
    "            'key': enc_outputs,\n",
    "            'value': enc_outputs,\n",
    "            'mask': padding_mask\n",
    "        })\n",
    "\n",
    "    # 마스크드 멀티 헤드 어텐션의 결과는\n",
    "    # Dropout과 LayerNormalization이라는 훈련을 돕는 테크닉을 수행\n",
    "    attention2 = tf.keras.layers.Dropout(rate=dropout)(attention2)\n",
    "    attention2 = tf.keras.layers.LayerNormalization(epsilon=1e-6)(attention2 + attention1)\n",
    "\n",
    "    # 세 번째 서브 레이어 : 2개의 완전연결층\n",
    "    outputs = tf.keras.layers.Dense(units=units, activation='relu')(attention2)\n",
    "    outputs = tf.keras.layers.Dense(units=d_model)(outputs)\n",
    "\n",
    "    # 완전연결층의 결과는 Dropout과 LayerNormalization 수행\n",
    "    outputs = tf.keras.layers.Dropout(rate=dropout)(outputs)\n",
    "    outputs = tf.keras.layers.LayerNormalization(epsilon=1e-6)(outputs + attention2)\n",
    "\n",
    "    return tf.keras.Model(\n",
    "        inputs=[inputs, enc_outputs, look_ahead_mask, padding_mask],\n",
    "        outputs=outputs,\n",
    "        name=name)"
   ]
  },
  {
   "cell_type": "code",
   "execution_count": 41,
   "id": "imported-meditation",
   "metadata": {},
   "outputs": [],
   "source": [
    "def decoder(vocab_size,\n",
    "            num_layers,\n",
    "            units,\n",
    "            d_model,\n",
    "            num_heads,\n",
    "            dropout,\n",
    "            name='decoder'):\n",
    "  inputs = tf.keras.Input(shape=(None,), name='inputs')\n",
    "  enc_outputs = tf.keras.Input(shape=(None, d_model), name='encoder_outputs')\n",
    "  look_ahead_mask = tf.keras.Input(\n",
    "      shape=(1, None, None), name='look_ahead_mask')\n",
    "\n",
    "  # 패딩 마스크\n",
    "  padding_mask = tf.keras.Input(shape=(1, 1, None), name='padding_mask')\n",
    "  \n",
    "  # 임베딩 레이어\n",
    "  embeddings = tf.keras.layers.Embedding(vocab_size, d_model)(inputs)\n",
    "  embeddings *= tf.math.sqrt(tf.cast(d_model, tf.float32))\n",
    "\n",
    "  # 포지셔널 인코딩\n",
    "  embeddings = PositionalEncoding(vocab_size, d_model)(embeddings)\n",
    "\n",
    "  # Dropout이라는 훈련을 돕는 테크닉을 수행\n",
    "  outputs = tf.keras.layers.Dropout(rate=dropout)(embeddings)\n",
    "\n",
    "  for i in range(num_layers):\n",
    "    outputs = decoder_layer(\n",
    "        units=units,\n",
    "        d_model=d_model,\n",
    "        num_heads=num_heads,\n",
    "        dropout=dropout,\n",
    "        name='decoder_layer_{}'.format(i),\n",
    "    )(inputs=[outputs, enc_outputs, look_ahead_mask, padding_mask])\n",
    "\n",
    "  return tf.keras.Model(\n",
    "      inputs=[inputs, enc_outputs, look_ahead_mask, padding_mask],\n",
    "      outputs=outputs,\n",
    "      name=name)"
   ]
  },
  {
   "cell_type": "code",
   "execution_count": 42,
   "id": "higher-irish",
   "metadata": {},
   "outputs": [],
   "source": [
    "def transformer(vocab_size,\n",
    "                num_layers,\n",
    "                units,\n",
    "                d_model,\n",
    "                num_heads,\n",
    "                dropout,\n",
    "                name=\"transformer\"):\n",
    "    inputs = tf.keras.Input(shape=(None,), name=\"inputs\")\n",
    "    dec_inputs = tf.keras.Input(shape=(None,), name=\"dec_inputs\")\n",
    "\n",
    "    # 인코더에서 패딩을 위한 마스크\n",
    "    enc_padding_mask = tf.keras.layers.Lambda(\n",
    "        create_padding_mask, output_shape=(1, 1, None),\n",
    "        name='enc_padding_mask')(inputs)\n",
    "\n",
    "    # 디코더에서 미래의 토큰을 마스크 하기 위해서 사용합니다.\n",
    "    # 내부적으로 패딩 마스크도 포함되어져 있습니다.\n",
    "    look_ahead_mask = tf.keras.layers.Lambda(\n",
    "        create_look_ahead_mask,\n",
    "        output_shape=(1, None, None),\n",
    "        name='look_ahead_mask')(dec_inputs)\n",
    "\n",
    "    # 두 번째 어텐션 블록에서 인코더의 벡터들을 마스킹\n",
    "    # 디코더에서 패딩을 위한 마스크\n",
    "    dec_padding_mask = tf.keras.layers.Lambda(\n",
    "        create_padding_mask, output_shape=(1, 1, None),\n",
    "        name='dec_padding_mask')(inputs)\n",
    "\n",
    "    # 인코더\n",
    "    enc_outputs = encoder(\n",
    "        vocab_size=vocab_size,\n",
    "        num_layers=num_layers,\n",
    "        units=units,\n",
    "        d_model=d_model,\n",
    "        num_heads=num_heads,\n",
    "        dropout=dropout,\n",
    "    )(inputs=[inputs, enc_padding_mask])\n",
    "\n",
    "    # 디코더\n",
    "    dec_outputs = decoder(\n",
    "        vocab_size=vocab_size,\n",
    "        num_layers=num_layers,\n",
    "        units=units,\n",
    "        d_model=d_model,\n",
    "        num_heads=num_heads,\n",
    "        dropout=dropout,\n",
    "    )(inputs=[dec_inputs, enc_outputs, look_ahead_mask, dec_padding_mask])\n",
    "\n",
    "    # 완전연결층\n",
    "    outputs = tf.keras.layers.Dense(units=vocab_size, name=\"outputs\")(dec_outputs)\n",
    "\n",
    "    return tf.keras.Model(inputs=[inputs, dec_inputs], outputs=outputs, name=name)"
   ]
  },
  {
   "cell_type": "code",
   "execution_count": 43,
   "id": "certified-farming",
   "metadata": {},
   "outputs": [],
   "source": [
    "# 하이퍼파라미터\n",
    "NUM_LAYERS = 2 # 인코더와 디코더의 층의 개수\n",
    "D_MODEL = 256 # 인코더와 디코더 내부의 입, 출력의 고정 차원\n",
    "NUM_HEADS = 8 # 멀티 헤드 어텐션에서의 헤드 수 \n",
    "UNITS = 512 # 피드 포워드 신경망의 은닉층의 크기\n",
    "DROPOUT = 0.1 # 드롭아웃의 비율"
   ]
  },
  {
   "cell_type": "code",
   "execution_count": 44,
   "id": "active-antique",
   "metadata": {},
   "outputs": [
    {
     "name": "stdout",
     "output_type": "stream",
     "text": [
      "Model: \"transformer\"\n",
      "__________________________________________________________________________________________________\n",
      "Layer (type)                    Output Shape         Param #     Connected to                     \n",
      "==================================================================================================\n",
      "inputs (InputLayer)             [(None, None)]       0                                            \n",
      "__________________________________________________________________________________________________\n",
      "dec_inputs (InputLayer)         [(None, None)]       0                                            \n",
      "__________________________________________________________________________________________________\n",
      "enc_padding_mask (Lambda)       (None, 1, 1, None)   0           inputs[0][0]                     \n",
      "__________________________________________________________________________________________________\n",
      "encoder (Functional)            (None, None, 256)    3195136     inputs[0][0]                     \n",
      "                                                                 enc_padding_mask[0][0]           \n",
      "__________________________________________________________________________________________________\n",
      "look_ahead_mask (Lambda)        (None, 1, None, None 0           dec_inputs[0][0]                 \n",
      "__________________________________________________________________________________________________\n",
      "dec_padding_mask (Lambda)       (None, 1, 1, None)   0           inputs[0][0]                     \n",
      "__________________________________________________________________________________________________\n",
      "decoder (Functional)            (None, None, 256)    3722496     dec_inputs[0][0]                 \n",
      "                                                                 encoder[0][0]                    \n",
      "                                                                 look_ahead_mask[0][0]            \n",
      "                                                                 dec_padding_mask[0][0]           \n",
      "__________________________________________________________________________________________________\n",
      "outputs (Dense)                 (None, None, 8363)   2149291     decoder[0][0]                    \n",
      "==================================================================================================\n",
      "Total params: 9,066,923\n",
      "Trainable params: 9,066,923\n",
      "Non-trainable params: 0\n",
      "__________________________________________________________________________________________________\n"
     ]
    }
   ],
   "source": [
    "tf.keras.backend.clear_session()\n",
    "\n",
    "model = transformer(\n",
    "    vocab_size=VOCAB_SIZE,\n",
    "    num_layers=NUM_LAYERS,\n",
    "    units=UNITS,\n",
    "    d_model=D_MODEL,\n",
    "    num_heads=NUM_HEADS,\n",
    "    dropout=DROPOUT)\n",
    "\n",
    "model.summary()"
   ]
  },
  {
   "cell_type": "code",
   "execution_count": 45,
   "id": "binary-bubble",
   "metadata": {},
   "outputs": [],
   "source": [
    "def loss_function(y_true, y_pred):\n",
    "    y_true = tf.reshape(y_true, shape=(-1, MAX_LENGTH - 1))\n",
    "\n",
    "    loss = tf.keras.losses.SparseCategoricalCrossentropy(\n",
    "        from_logits=True, reduction='none')(y_true, y_pred)\n",
    "\n",
    "    mask = tf.cast(tf.not_equal(y_true, 0), tf.float32)\n",
    "    loss = tf.multiply(loss, mask)\n",
    "\n",
    "    return tf.reduce_mean(loss)"
   ]
  },
  {
   "cell_type": "code",
   "execution_count": 46,
   "id": "multiple-address",
   "metadata": {},
   "outputs": [],
   "source": [
    "class CustomSchedule(tf.keras.optimizers.schedules.LearningRateSchedule):\n",
    "\n",
    "    def __init__(self, d_model, warmup_steps=4000):\n",
    "        super(CustomSchedule, self).__init__()\n",
    "\n",
    "        self.d_model = d_model\n",
    "        self.d_model = tf.cast(self.d_model, tf.float32)\n",
    "\n",
    "        self.warmup_steps = warmup_steps\n",
    "\n",
    "    def __call__(self, step):\n",
    "        arg1 = tf.math.rsqrt(step)\n",
    "        arg2 = step * (self.warmup_steps**-1.5)\n",
    "\n",
    "        return tf.math.rsqrt(self.d_model) * tf.math.minimum(arg1, arg2)"
   ]
  },
  {
   "cell_type": "code",
   "execution_count": 47,
   "id": "palestinian-firmware",
   "metadata": {},
   "outputs": [
    {
     "data": {
      "text/plain": [
       "Text(0.5, 0, 'Train Step')"
      ]
     },
     "execution_count": 47,
     "metadata": {},
     "output_type": "execute_result"
    },
    {
     "data": {
      "image/png": "[encoded data removed]",
      "text/plain": [
       "<Figure size 432x288 with 1 Axes>"
      ]
     },
     "metadata": {
      "needs_background": "light"
     },
     "output_type": "display_data"
    }
   ],
   "source": [
    "sample_learning_rate = CustomSchedule(d_model=128)\n",
    "\n",
    "plt.plot(sample_learning_rate(tf.range(200000, dtype=tf.float32)))\n",
    "plt.ylabel(\"Learning Rate\")\n",
    "plt.xlabel(\"Train Step\")"
   ]
  },
  {
   "cell_type": "code",
   "execution_count": 48,
   "id": "posted-outdoors",
   "metadata": {},
   "outputs": [],
   "source": [
    "learning_rate = CustomSchedule(D_MODEL)\n",
    "\n",
    "optimizer = tf.keras.optimizers.Adam(\n",
    "    learning_rate, beta_1=0.9, beta_2=0.98, epsilon=1e-9)\n",
    "\n",
    "\n",
    "def accuracy(y_true, y_pred):\n",
    "    y_true = tf.reshape(y_true, shape=(-1, MAX_LENGTH - 1))\n",
    "    return tf.keras.metrics.sparse_categorical_accuracy(y_true, y_pred)\n",
    "\n",
    "\n",
    "model.compile(optimizer=optimizer, loss=loss_function, metrics=[accuracy])"
   ]
  },
  {
   "cell_type": "markdown",
   "id": "standard-agency",
   "metadata": {},
   "source": [
    "SubwordTextEncoder을 통해 만든 데이터셋을 우선 학습시켜보자.  "
   ]
  },
  {
   "cell_type": "code",
   "execution_count": 50,
   "id": "funded-scanning",
   "metadata": {},
   "outputs": [
    {
     "name": "stdout",
     "output_type": "stream",
     "text": [
      "Epoch 1/40\n",
      "185/185 [==============================] - 26s 93ms/step - loss: 1.9842 - accuracy: 0.0192\n",
      "Epoch 2/40\n",
      "185/185 [==============================] - 17s 91ms/step - loss: 1.6286 - accuracy: 0.0641\n",
      "Epoch 3/40\n",
      "185/185 [==============================] - 17s 91ms/step - loss: 1.3412 - accuracy: 0.0653\n",
      "Epoch 4/40\n",
      "185/185 [==============================] - 17s 91ms/step - loss: 1.2281 - accuracy: 0.0696\n",
      "Epoch 5/40\n",
      "185/185 [==============================] - 17s 92ms/step - loss: 1.1463 - accuracy: 0.0729\n",
      "Epoch 6/40\n",
      "185/185 [==============================] - 17s 92ms/step - loss: 1.0710 - accuracy: 0.0790\n",
      "Epoch 7/40\n",
      "185/185 [==============================] - 17s 92ms/step - loss: 0.9772 - accuracy: 0.0860\n",
      "Epoch 8/40\n",
      "185/185 [==============================] - 17s 92ms/step - loss: 0.8854 - accuracy: 0.0957\n",
      "Epoch 9/40\n",
      "185/185 [==============================] - 17s 91ms/step - loss: 0.7679 - accuracy: 0.1081\n",
      "Epoch 10/40\n",
      "185/185 [==============================] - 17s 92ms/step - loss: 0.6678 - accuracy: 0.1212\n",
      "Epoch 11/40\n",
      "185/185 [==============================] - 17s 92ms/step - loss: 0.5618 - accuracy: 0.1357\n",
      "Epoch 12/40\n",
      "185/185 [==============================] - 17s 92ms/step - loss: 0.4470 - accuracy: 0.1513\n",
      "Epoch 13/40\n",
      "185/185 [==============================] - 17s 92ms/step - loss: 0.3504 - accuracy: 0.1658\n",
      "Epoch 14/40\n",
      "185/185 [==============================] - 17s 92ms/step - loss: 0.2617 - accuracy: 0.1793\n",
      "Epoch 15/40\n",
      "185/185 [==============================] - 17s 92ms/step - loss: 0.1909 - accuracy: 0.1916\n",
      "Epoch 16/40\n",
      "185/185 [==============================] - 17s 94ms/step - loss: 0.1342 - accuracy: 0.2022\n",
      "Epoch 17/40\n",
      "185/185 [==============================] - 18s 95ms/step - loss: 0.0938 - accuracy: 0.2091\n",
      "Epoch 18/40\n",
      "185/185 [==============================] - 18s 96ms/step - loss: 0.0688 - accuracy: 0.2129\n",
      "Epoch 19/40\n",
      "185/185 [==============================] - 18s 97ms/step - loss: 0.0582 - accuracy: 0.2126\n",
      "Epoch 20/40\n",
      "185/185 [==============================] - 19s 100ms/step - loss: 0.0505 - accuracy: 0.2152\n",
      "Epoch 21/40\n",
      "185/185 [==============================] - 19s 100ms/step - loss: 0.0473 - accuracy: 0.2161\n",
      "Epoch 22/40\n",
      "185/185 [==============================] - 19s 102ms/step - loss: 0.0456 - accuracy: 0.2149\n",
      "Epoch 23/40\n",
      "185/185 [==============================] - 20s 108ms/step - loss: 0.0417 - accuracy: 0.2172\n",
      "Epoch 24/40\n",
      "185/185 [==============================] - 20s 105ms/step - loss: 0.0364 - accuracy: 0.2185\n",
      "Epoch 25/40\n",
      "185/185 [==============================] - 19s 105ms/step - loss: 0.0319 - accuracy: 0.2208\n",
      "Epoch 26/40\n",
      "185/185 [==============================] - 20s 109ms/step - loss: 0.0296 - accuracy: 0.2183\n",
      "Epoch 27/40\n",
      "185/185 [==============================] - 20s 110ms/step - loss: 0.0256 - accuracy: 0.2213\n",
      "Epoch 28/40\n",
      "185/185 [==============================] - 21s 111ms/step - loss: 0.0222 - accuracy: 0.2225\n",
      "Epoch 29/40\n",
      "185/185 [==============================] - 21s 112ms/step - loss: 0.0211 - accuracy: 0.2219\n",
      "Epoch 30/40\n",
      "185/185 [==============================] - 21s 114ms/step - loss: 0.0191 - accuracy: 0.2226\n",
      "Epoch 31/40\n",
      "185/185 [==============================] - 20s 109ms/step - loss: 0.0191 - accuracy: 0.2240\n",
      "Epoch 32/40\n",
      "185/185 [==============================] - 21s 115ms/step - loss: 0.0166 - accuracy: 0.2246\n",
      "Epoch 33/40\n",
      "185/185 [==============================] - 21s 116ms/step - loss: 0.0158 - accuracy: 0.2228\n",
      "Epoch 34/40\n",
      "185/185 [==============================] - 21s 114ms/step - loss: 0.0137 - accuracy: 0.2240\n",
      "Epoch 35/40\n",
      "185/185 [==============================] - 22s 120ms/step - loss: 0.0131 - accuracy: 0.2236\n",
      "Epoch 36/40\n",
      "185/185 [==============================] - 22s 120ms/step - loss: 0.0130 - accuracy: 0.2245\n",
      "Epoch 37/40\n",
      "185/185 [==============================] - 22s 120ms/step - loss: 0.0112 - accuracy: 0.2242\n",
      "Epoch 38/40\n",
      "185/185 [==============================] - 22s 118ms/step - loss: 0.0108 - accuracy: 0.2252\n",
      "Epoch 39/40\n",
      "185/185 [==============================] - 22s 120ms/step - loss: 0.0107 - accuracy: 0.2235\n",
      "Epoch 40/40\n",
      "185/185 [==============================] - 22s 117ms/step - loss: 0.0097 - accuracy: 0.2246\n"
     ]
    }
   ],
   "source": [
    "EPOCHS = 40\n",
    "history = model.fit(dataset, epochs=EPOCHS, verbose=1)"
   ]
  },
  {
   "cell_type": "code",
   "execution_count": 51,
   "id": "starting-egypt",
   "metadata": {},
   "outputs": [],
   "source": [
    "def draw_history(history):\n",
    "    fig = plt.figure(figsize=(15, 5))\n",
    "    loss_ax = fig.add_subplot(1, 2, 1)\n",
    "    acc_ax = fig.add_subplot(1, 2, 2)\n",
    "\n",
    "    loss_ax.plot(history.history['loss'], 'y', label='train loss')\n",
    "    acc_ax.plot(history.history['accuracy'], 'b', label='train acc')\n",
    "\n",
    "    loss_ax.set_xlabel('epoch')\n",
    "    loss_ax.set_ylabel('loss')\n",
    "    acc_ax.set_xlabel('epoch')\n",
    "    acc_ax.set_ylabel('accuray')\n",
    "\n",
    "    plt.show()"
   ]
  },
  {
   "cell_type": "code",
   "execution_count": 52,
   "id": "requested-marketing",
   "metadata": {},
   "outputs": [
    {
     "data": {
      "image/png": "[encoded data removed]",
      "text/plain": [
       "<Figure size 1080x360 with 2 Axes>"
      ]
     },
     "metadata": {
      "needs_background": "light"
     },
     "output_type": "display_data"
    }
   ],
   "source": [
    "draw_history(history)"
   ]
  },
  {
   "cell_type": "markdown",
   "id": "cheap-identity",
   "metadata": {},
   "source": [
    "대략 epoch 20 부터 수렴하는 것을 확인 할 수 있다."
   ]
  },
  {
   "cell_type": "markdown",
   "id": "steady-international",
   "metadata": {},
   "source": [
    "다음으로 konlpy 패키지의 Okt로 만든 데이터셋을 학습시켜보자."
   ]
  },
  {
   "cell_type": "code",
   "execution_count": 53,
   "id": "pregnant-cylinder",
   "metadata": {},
   "outputs": [],
   "source": [
    "def loss_function(y_true, y_pred):\n",
    "    y_true = tf.reshape(y_true, shape=(-1, MAX_LENGTH_OKT - 1))\n",
    "\n",
    "    loss = tf.keras.losses.SparseCategoricalCrossentropy(\n",
    "        from_logits=True, reduction='none')(y_true, y_pred)\n",
    "\n",
    "    mask = tf.cast(tf.not_equal(y_true, 0), tf.float32)\n",
    "    loss = tf.multiply(loss, mask)\n",
    "\n",
    "    return tf.reduce_mean(loss)"
   ]
  },
  {
   "cell_type": "code",
   "execution_count": 54,
   "id": "failing-vietnamese",
   "metadata": {},
   "outputs": [],
   "source": [
    "tf.keras.backend.clear_session()\n",
    "\n",
    "model_okt = transformer(\n",
    "    vocab_size=VOCAB_SIZE_OKT,\n",
    "    num_layers=NUM_LAYERS,\n",
    "    units=UNITS,\n",
    "    d_model=D_MODEL,\n",
    "    num_heads=NUM_HEADS,\n",
    "    dropout=DROPOUT)\n",
    "\n",
    "learning_rate = CustomSchedule(D_MODEL)\n",
    "\n",
    "optimizer = tf.keras.optimizers.Adam(\n",
    "    learning_rate, beta_1=0.9, beta_2=0.98, epsilon=1e-9)\n",
    "\n",
    "\n",
    "def accuracy(y_true, y_pred):\n",
    "    y_true = tf.reshape(y_true, shape=(-1, MAX_LENGTH_OKT - 1))\n",
    "    return tf.keras.metrics.sparse_categorical_accuracy(y_true, y_pred)\n",
    "\n",
    "\n",
    "model_okt.compile(optimizer=optimizer, loss=loss_function, metrics=[accuracy])"
   ]
  },
  {
   "cell_type": "code",
   "execution_count": 55,
   "id": "lovely-breach",
   "metadata": {},
   "outputs": [
    {
     "name": "stdout",
     "output_type": "stream",
     "text": [
      "Epoch 1/40\n",
      "185/185 [==============================] - 32s 121ms/step - loss: 2.1103 - accuracy: 0.0181\n",
      "Epoch 2/40\n",
      "185/185 [==============================] - 22s 118ms/step - loss: 1.6757 - accuracy: 0.0610\n",
      "Epoch 3/40\n",
      "185/185 [==============================] - 23s 124ms/step - loss: 1.2771 - accuracy: 0.0624\n",
      "Epoch 4/40\n",
      "185/185 [==============================] - 24s 129ms/step - loss: 1.1076 - accuracy: 0.0721\n",
      "Epoch 5/40\n",
      "185/185 [==============================] - 23s 123ms/step - loss: 1.0102 - accuracy: 0.0840\n",
      "Epoch 6/40\n",
      "185/185 [==============================] - 23s 126ms/step - loss: 0.9175 - accuracy: 0.0921\n",
      "Epoch 7/40\n",
      "185/185 [==============================] - 23s 126ms/step - loss: 0.8409 - accuracy: 0.0999\n",
      "Epoch 8/40\n",
      "185/185 [==============================] - 24s 129ms/step - loss: 0.7579 - accuracy: 0.1073\n",
      "Epoch 9/40\n",
      "185/185 [==============================] - 25s 138ms/step - loss: 0.6719 - accuracy: 0.1172\n",
      "Epoch 10/40\n",
      "185/185 [==============================] - 26s 142ms/step - loss: 0.5857 - accuracy: 0.1280\n",
      "Epoch 11/40\n",
      "185/185 [==============================] - 26s 140ms/step - loss: 0.4960 - accuracy: 0.1405\n",
      "Epoch 12/40\n",
      "185/185 [==============================] - 26s 143ms/step - loss: 0.4117 - accuracy: 0.1546\n",
      "Epoch 13/40\n",
      "185/185 [==============================] - 26s 143ms/step - loss: 0.3335 - accuracy: 0.1669\n",
      "Epoch 14/40\n",
      "185/185 [==============================] - 27s 147ms/step - loss: 0.2604 - accuracy: 0.1791\n",
      "Epoch 15/40\n",
      "185/185 [==============================] - 28s 150ms/step - loss: 0.2033 - accuracy: 0.1888\n",
      "Epoch 16/40\n",
      "185/185 [==============================] - 27s 147ms/step - loss: 0.1538 - accuracy: 0.1992\n",
      "Epoch 17/40\n",
      "185/185 [==============================] - 28s 149ms/step - loss: 0.1181 - accuracy: 0.2050\n",
      "Epoch 18/40\n",
      "185/185 [==============================] - 28s 150ms/step - loss: 0.0951 - accuracy: 0.2096\n",
      "Epoch 19/40\n",
      "185/185 [==============================] - 27s 147ms/step - loss: 0.0786 - accuracy: 0.2126\n",
      "Epoch 20/40\n",
      "185/185 [==============================] - 27s 148ms/step - loss: 0.0716 - accuracy: 0.2144\n",
      "Epoch 21/40\n",
      "185/185 [==============================] - 28s 153ms/step - loss: 0.0630 - accuracy: 0.2161\n",
      "Epoch 22/40\n",
      "185/185 [==============================] - 27s 147ms/step - loss: 0.0622 - accuracy: 0.2157\n",
      "Epoch 23/40\n",
      "185/185 [==============================] - 28s 149ms/step - loss: 0.0557 - accuracy: 0.2187\n",
      "Epoch 24/40\n",
      "185/185 [==============================] - 28s 153ms/step - loss: 0.0476 - accuracy: 0.2186\n",
      "Epoch 25/40\n",
      "185/185 [==============================] - 28s 151ms/step - loss: 0.0433 - accuracy: 0.2205\n",
      "Epoch 26/40\n",
      "185/185 [==============================] - 28s 149ms/step - loss: 0.0385 - accuracy: 0.2218\n",
      "Epoch 27/40\n",
      "185/185 [==============================] - 28s 150ms/step - loss: 0.0347 - accuracy: 0.2210\n",
      "Epoch 28/40\n",
      "185/185 [==============================] - 28s 151ms/step - loss: 0.0316 - accuracy: 0.2217\n",
      "Epoch 29/40\n",
      "185/185 [==============================] - 28s 151ms/step - loss: 0.0281 - accuracy: 0.2236\n",
      "Epoch 30/40\n",
      "185/185 [==============================] - 28s 151ms/step - loss: 0.0259 - accuracy: 0.2248\n",
      "Epoch 31/40\n",
      "185/185 [==============================] - 27s 148ms/step - loss: 0.0247 - accuracy: 0.2242\n",
      "Epoch 32/40\n",
      "185/185 [==============================] - 27s 148ms/step - loss: 0.0222 - accuracy: 0.2248\n",
      "Epoch 33/40\n",
      "185/185 [==============================] - 27s 147ms/step - loss: 0.0206 - accuracy: 0.2250\n",
      "Epoch 34/40\n",
      "185/185 [==============================] - 28s 150ms/step - loss: 0.0199 - accuracy: 0.2260\n",
      "Epoch 35/40\n",
      "185/185 [==============================] - 28s 149ms/step - loss: 0.0185 - accuracy: 0.2269\n",
      "Epoch 36/40\n",
      "185/185 [==============================] - 28s 151ms/step - loss: 0.0170 - accuracy: 0.2273\n",
      "Epoch 37/40\n",
      "185/185 [==============================] - 28s 149ms/step - loss: 0.0161 - accuracy: 0.2284\n",
      "Epoch 38/40\n",
      "185/185 [==============================] - 28s 153ms/step - loss: 0.0161 - accuracy: 0.2276\n",
      "Epoch 39/40\n",
      "185/185 [==============================] - 27s 148ms/step - loss: 0.0146 - accuracy: 0.2281\n",
      "Epoch 40/40\n",
      "185/185 [==============================] - 27s 146ms/step - loss: 0.0133 - accuracy: 0.2291\n"
     ]
    }
   ],
   "source": [
    "EPOCHS = 40\n",
    "history_okt = model_okt.fit(dataset_okt, epochs=EPOCHS, verbose=1)"
   ]
  },
  {
   "cell_type": "code",
   "execution_count": 56,
   "id": "advisory-olympus",
   "metadata": {},
   "outputs": [
    {
     "data": {
      "image/png": "[encoded data removed]",
      "text/plain": [
       "<Figure size 1080x360 with 2 Axes>"
      ]
     },
     "metadata": {
      "needs_background": "light"
     },
     "output_type": "display_data"
    }
   ],
   "source": [
    "draw_history(history_okt)"
   ]
  },
  {
   "cell_type": "markdown",
   "id": "sixth-accuracy",
   "metadata": {},
   "source": [
    "## 5. 모델 평가하기\n",
    "\n",
    "입력된 문장에 대해서 대답을 얻는 예측 함수를 만들어서 사용해보자."
   ]
  },
  {
   "cell_type": "code",
   "execution_count": 57,
   "id": "transparent-jordan",
   "metadata": {},
   "outputs": [],
   "source": [
    "def decoder_inference(sentence):\n",
    "    sentence = preprocess_sentence(sentence)\n",
    "\n",
    "    # 입력된 문장을 정수 인코딩 후, 시작 토큰과 종료 토큰을 앞뒤로 추가.\n",
    "    # ex) Where have you been? → [[8331   86   30    5 1059    7 8332]]\n",
    "    sentence = tf.expand_dims(\n",
    "        START_TOKEN + tokenizer.encode(sentence) + END_TOKEN, axis=0)\n",
    "\n",
    "    # 디코더의 현재까지의 예측한 출력 시퀀스가 지속적으로 저장되는 변수.\n",
    "    # 처음에는 예측한 내용이 없음으로 시작 토큰만 별도 저장. ex) 8331\n",
    "    output_sequence = tf.expand_dims(START_TOKEN, 0)\n",
    "\n",
    "    # 디코더의 인퍼런스 단계\n",
    "    for i in range(MAX_LENGTH):\n",
    "        # 디코더는 최대 MAX_LENGTH의 길이만큼 다음 단어 예측을 반복합니다.\n",
    "        predictions = model(inputs=[sentence, output_sequence], training=False)\n",
    "        predictions = predictions[:, -1:, :]\n",
    "\n",
    "        # 현재 예측한 단어의 정수\n",
    "        predicted_id = tf.cast(tf.argmax(predictions, axis=-1), tf.int32)\n",
    "\n",
    "        # 만약 현재 예측한 단어가 종료 토큰이라면 for문을 종료\n",
    "        if tf.equal(predicted_id, END_TOKEN[0]):\n",
    "            break\n",
    "\n",
    "        # 예측한 단어들은 지속적으로 output_sequence에 추가됩니다.\n",
    "        # 이 output_sequence는 다시 디코더의 입력이 됩니다.\n",
    "        output_sequence = tf.concat([output_sequence, predicted_id], axis=-1)\n",
    "\n",
    "    return tf.squeeze(output_sequence, axis=0)"
   ]
  },
  {
   "cell_type": "code",
   "execution_count": 58,
   "id": "devoted-template",
   "metadata": {},
   "outputs": [],
   "source": [
    "def sentence_generation(sentence):\n",
    "    # 입력 문장에 대해서 디코더를 동작 시켜 예측된 정수 시퀀스를 리턴받습니다.\n",
    "    prediction = decoder_inference(sentence)\n",
    "\n",
    "    # 정수 시퀀스를 다시 텍스트 시퀀스로 변환합니다.\n",
    "    predicted_sentence = tokenizer.decode(\n",
    "        [i for i in prediction.numpy() if i < tokenizer.vocab_size])\n",
    "\n",
    "    print('출력 : {}'.format(predicted_sentence))\n",
    "\n",
    "    return predicted_sentence"
   ]
  },
  {
   "cell_type": "markdown",
   "id": "monetary-maryland",
   "metadata": {},
   "source": [
    "### SubwordTextEncoder 모델"
   ]
  },
  {
   "cell_type": "code",
   "execution_count": 59,
   "id": "consistent-lewis",
   "metadata": {},
   "outputs": [
    {
     "name": "stdout",
     "output_type": "stream",
     "text": [
      "출력 : 저는 위로해드리는 로봇이에요 .\n"
     ]
    },
    {
     "data": {
      "text/plain": [
       "'저는 위로해드리는 로봇이에요 .'"
      ]
     },
     "execution_count": 59,
     "metadata": {},
     "output_type": "execute_result"
    }
   ],
   "source": [
    "sentence_generation('누구세요?')"
   ]
  },
  {
   "cell_type": "code",
   "execution_count": 60,
   "id": "inside-smooth",
   "metadata": {},
   "outputs": [
    {
     "name": "stdout",
     "output_type": "stream",
     "text": [
      "출력 : 저는 마음을 이어주는 위로봇입니다 .\n"
     ]
    },
    {
     "data": {
      "text/plain": [
       "'저는 마음을 이어주는 위로봇입니다 .'"
      ]
     },
     "execution_count": 60,
     "metadata": {},
     "output_type": "execute_result"
    }
   ],
   "source": [
    "sentence_generation('누구냐 넌?')"
   ]
  },
  {
   "cell_type": "code",
   "execution_count": 61,
   "id": "empty-drama",
   "metadata": {},
   "outputs": [
    {
     "name": "stdout",
     "output_type": "stream",
     "text": [
      "출력 : 좋은 연락이었길 바랍니다 .\n"
     ]
    },
    {
     "data": {
      "text/plain": [
       "'좋은 연락이었길 바랍니다 .'"
      ]
     },
     "execution_count": 61,
     "metadata": {},
     "output_type": "execute_result"
    }
   ],
   "source": [
    "sentence_generation('ㅋㅋ')"
   ]
  },
  {
   "cell_type": "code",
   "execution_count": 62,
   "id": "great-kentucky",
   "metadata": {},
   "outputs": [
    {
     "name": "stdout",
     "output_type": "stream",
     "text": [
      "출력 : 내려 놓으세요 .\n"
     ]
    },
    {
     "data": {
      "text/plain": [
       "'내려 놓으세요 .'"
      ]
     },
     "execution_count": 62,
     "metadata": {},
     "output_type": "execute_result"
    }
   ],
   "source": [
    "sentence_generation('쉬고 싶다.')"
   ]
  },
  {
   "cell_type": "markdown",
   "id": "worst-familiar",
   "metadata": {},
   "source": [
    "나름 결과가 잘 나온것 같다.  \n",
    "같은 의미의 질문에도 묻는 뉘앙스에 따라 대답하는 방식이 바뀌는 것은 신기하기도 하다.  \n",
    "다만 'ㅋㅋ'라는 문장에 뜬끔 없는 대답을 하는데,  \n",
    "이는 학습 데이터 자체가 이별과 관련된 질문에서 다음카페 \"사랑보다 아름다운 실연\" 이다보니  \n",
    "대체적으로 위로해주는 말들을 학습되게 된것 같다.  "
   ]
  },
  {
   "cell_type": "markdown",
   "id": "dated-broadcast",
   "metadata": {},
   "source": [
    "### konlpy Okt 모델"
   ]
  },
  {
   "cell_type": "code",
   "execution_count": 65,
   "id": "eight-cause",
   "metadata": {},
   "outputs": [],
   "source": [
    "model = model_okt\n",
    "tokenizer = tokenizer_okt\n",
    "START_TOKEN, END_TOKEN = START_TOKEN_OKT, END_TOKEN_OKT\n",
    "MAX_LENGTH = MAX_LENGTH_OKT"
   ]
  },
  {
   "cell_type": "code",
   "execution_count": 66,
   "id": "starting-discipline",
   "metadata": {},
   "outputs": [
    {
     "name": "stdout",
     "output_type": "stream",
     "text": [
      "출력 : 저 는 위로 해드리는 로봇 이에요 .\n"
     ]
    },
    {
     "data": {
      "text/plain": [
       "'저 는 위로 해드리는 로봇 이에요 .'"
      ]
     },
     "execution_count": 66,
     "metadata": {},
     "output_type": "execute_result"
    }
   ],
   "source": [
    "sentence_generation('누구세요?')"
   ]
  },
  {
   "cell_type": "code",
   "execution_count": 70,
   "id": "introductory-camping",
   "metadata": {},
   "outputs": [
    {
     "name": "stdout",
     "output_type": "stream",
     "text": [
      "출력 : 좋은 사람 이 찾아오려나 봐요 .\n"
     ]
    },
    {
     "data": {
      "text/plain": [
       "'좋은 사람 이 찾아오려나 봐요 .'"
      ]
     },
     "execution_count": 70,
     "metadata": {},
     "output_type": "execute_result"
    }
   ],
   "source": [
    "sentence_generation('오늘 날씨가 참 좋네.')"
   ]
  },
  {
   "cell_type": "code",
   "execution_count": 71,
   "id": "exposed-mistress",
   "metadata": {},
   "outputs": [
    {
     "name": "stdout",
     "output_type": "stream",
     "text": [
      "출력 : 저 도 요 !\n"
     ]
    },
    {
     "data": {
      "text/plain": [
       "'저 도 요 !'"
      ]
     },
     "execution_count": 71,
     "metadata": {},
     "output_type": "execute_result"
    }
   ],
   "source": [
    "sentence_generation('아무 것도 하기 싫다.')"
   ]
  },
  {
   "cell_type": "markdown",
   "id": "israeli-noise",
   "metadata": {},
   "source": [
    "위의 단순히 단어별로 토큰화해서 학습 시킨 경우와 같은 대답을 하지만,  \n",
    "형태소로 분리하다 보니 대답도 형태소로 분리되어있다.  \n",
    "여러가지 질문을 하다보면 학습된 디테일에서도 차이가 나는 것을 확인 할 수 있었다."
   ]
  },
  {
   "cell_type": "markdown",
   "id": "normal-vacation",
   "metadata": {},
   "source": [
    "## 회고"
   ]
  },
  {
   "cell_type": "markdown",
   "id": "interracial-privilege",
   "metadata": {},
   "source": [
    "이번 프로젝트를 하면 Transformer라는 것에 대해 정말 많은 공부가 된 것 같다.  \n",
    "특히 문장을 seq2seq나 이전 언어모델들과 다르게  \n",
    "RNN 이나 LSTM을 사용해서 재귀적으로 입력을 넣는게 아니라,  \n",
    "Attention을 통해서 한번에 문장을 입력으로 사용하는 아이디어가 대단한 것 같다.\n",
    "\n",
    "그 외에도 Q, K, V를 통한 어텐션 계산이나 sin, cos을 이용한 positioning 등  \n",
    "여러 부분에서 참신했고, 많은 것을 배운 것 같다."
   ]
  }
 ],
 "metadata": {
  "interpreter": {
   "hash": "0ae6473ec40d354f1001f7542119d9073ec37066fa3b7d8f08d234c38effe004"
  },
  "kernelspec": {
   "display_name": "Python 3",
   "language": "python",
   "name": "python3"
  },
  "language_info": {
   "codemirror_mode": {
    "name": "ipython",
    "version": 3
   },
   "file_extension": ".py",
   "mimetype": "text/x-python",
   "name": "python",
   "nbconvert_exporter": "python",
   "pygments_lexer": "ipython3",
   "version": "3.7.9"
  }
 },
 "nbformat": 4,
 "nbformat_minor": 5
}
